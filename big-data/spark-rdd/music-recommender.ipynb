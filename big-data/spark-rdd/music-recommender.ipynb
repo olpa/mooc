{
 "cells": [
  {
   "cell_type": "markdown",
   "metadata": {},
   "source": [
    "# Graph based Music Recommender. Task 1\n",
    "\n",
    "Build the edges of the type “track-track”. To do it you will need to count the collaborative similarity between all the tracks: if a user has started listening to track B within 7 minutes after starting track A, then you should add 1 to the weight of the edge from vertex A to vertex B (initial weight is equal to 0).\n",
    "\n",
    "Example:\n",
    "\n",
    "     userId artistId trackId timestamp\n",
    "     7        12        1          1534574189\n",
    "     7        13        4          1534574289 \n",
    "     5        12        1          1534574389 \n",
    "     5        13        4          1534594189 \n",
    "     6        12        1          1534574489 \n",
    "     6        13        4          1534574689 \n",
    "\n",
    "The track 1 is similar to the track 4 with the weight 2 (before normalization): the user 7 and the user 6 listened these 2 tracks together in the 7 minutes long window:\n",
    "\n",
    "* userId 7: 1534574289 - 1534574189 = 100 seconds = 1 min 40 seconds < 7 minutes\n",
    "* userId 6: 1534574689 - 1534574489 = 200 seconds = 3 min 20 seconds < 7 minutes\n",
    "\n",
    "Note that the track 4 is similar to the track 1 with the same weight 2.\n",
    "\n",
    "Tip: consider joining the graph to itself with the UserId and remove pairs with the same tracks.For each track choose top 50 tracks ordered by weight similar to it and normalize weights of its edges (divide the weight of each edge on a sum of weights of all edges). Use rank() to choose top 40 tracks as is done in the demo.\n",
    "\n",
    "Sort the resulting Data Frame in the descending order by the column norm_weight, and then in the ascending order this time first by “id1”, then by “id2”. Take top 40 rows, select only the columns “id1”, “id2”, and print the columns “id1”, “id2” of the resulting dataframe.\n",
    "\n",
    "Output example:\n",
    "\n",
    "     54719\t\t767867\n",
    "     54719\t\t767866\n",
    "     50787\t\t327676\n"
   ]
  },
  {
   "cell_type": "code",
   "execution_count": 1,
   "metadata": {},
   "outputs": [],
   "source": [
    "import os\n",
    "os.environ['PYSPARK_PYTHON'] = '/opt/conda/bin/python'\n",
    "os.environ['PYTHONHASHSEED'] = '42'"
   ]
  },
  {
   "cell_type": "code",
   "execution_count": 2,
   "metadata": {},
   "outputs": [],
   "source": [
    "from pyspark.sql import SparkSession\n",
    "sparkSession = SparkSession.builder.enableHiveSupport().master(\"local[2]\").getOrCreate()\n",
    "\n",
    "import pyspark.sql.functions as f\n",
    "from pyspark.sql import Window"
   ]
  },
  {
   "cell_type": "code",
   "execution_count": 3,
   "metadata": {},
   "outputs": [],
   "source": [
    "data = sparkSession.read.parquet(\"/data/sample264\").alias(\"data\")\n",
    "meta = sparkSession.read.parquet(\"/data/meta\").alias(\"meta\")"
   ]
  },
  {
   "cell_type": "code",
   "execution_count": 4,
   "metadata": {},
   "outputs": [
    {
     "data": {
      "text/plain": [
       "DataFrame[summary: string, userId: string, trackId: string, artistId: string, timestamp: string]"
      ]
     },
     "execution_count": 4,
     "metadata": {},
     "output_type": "execute_result"
    }
   ],
   "source": [
    "data.describe()"
   ]
  },
  {
   "cell_type": "code",
   "execution_count": 5,
   "metadata": {},
   "outputs": [],
   "source": [
    "# Test data for testing\n",
    "\n",
    "#import pyspark.sql.types as t\n",
    "s_test_data = \"\"\"\n",
    " 7        12        1          1534574189\n",
    " 7        13        4          1534574289 \n",
    " 5        12        1          1534574389 \n",
    " 5        13        4          1534594189 \n",
    " 6        12        1          1534574489 \n",
    " 6        13        4          1534574689 \n",
    " 6        17        8          1534574789 \n",
    "\"\"\"\n",
    "parsed_test_data = [s.strip().split() for s in s_test_data.strip().split(\"\\n\")]\n",
    "test_data = sparkSession.createDataFrame(\n",
    "    parsed_test_data,\n",
    "    [\"userId\", \"artistId\", \"trackId\", \"timestamp\"])\n",
    "# test_data.toPandas()"
   ]
  },
  {
   "cell_type": "code",
   "execution_count": 6,
   "metadata": {},
   "outputs": [],
   "source": [
    "use_data = data\n",
    "# use_data = test_data # FIXME\n",
    "data1 = use_data.select([\"userId\", \"trackId\", \"timestamp\"]).alias(\"data1\")\n",
    "data2 = data1.alias(\"data2\")\n",
    "\n",
    "played_together_cnt = data1 \\\n",
    "    .join(data2,\n",
    "          (f.col(\"data1.userId\") == f.col(\"data2.userId\")) \\\n",
    "          & (f.col(\"data1.trackId\") != f.col(\"data2.trackId\")) \\\n",
    "          & (f.abs(f.col(\"data2.timestamp\") - f.col(\"data1.timestamp\")) <= 7 * 60) \\\n",
    "         ) \\\n",
    "    .select(f.col(\"data1.trackId\").alias(\"id1\"), f.col(\"data2.trackId\").alias(\"id2\")) \\\n",
    "    .groupBy([\"id1\", \"id2\"]) \\\n",
    "    .agg(f.count('*').alias(\"cnt\"))"
   ]
  },
  {
   "cell_type": "code",
   "execution_count": 7,
   "metadata": {},
   "outputs": [],
   "source": [
    "# played_together_cnt.toPandas()"
   ]
  },
  {
   "cell_type": "code",
   "execution_count": 8,
   "metadata": {},
   "outputs": [],
   "source": [
    "# For each track choose top 50\n",
    "window = Window.partitionBy(\"id1\").orderBy(f.col(\"cnt\").desc())\n",
    "played_together_each_top50 = played_together_cnt \\\n",
    "    .select([\"id1\", \"id2\", \"cnt\", f.rank().over(window).alias(\"rank\")]) \\\n",
    "    .where(f.col(\"rank\") < 51)"
   ]
  },
  {
   "cell_type": "code",
   "execution_count": 9,
   "metadata": {},
   "outputs": [],
   "source": [
    "# played_together_each_top50.toPandas()"
   ]
  },
  {
   "cell_type": "code",
   "execution_count": 10,
   "metadata": {},
   "outputs": [],
   "source": [
    "window = Window.partitionBy(\"id1\")\n",
    "\n",
    "played_together = played_together_each_top50 \\\n",
    "    .select([\"id1\", \"id2\", (f.col(\"cnt\") / f.sum(\"cnt\").over(window)).alias(\"weight\")])"
   ]
  },
  {
   "cell_type": "code",
   "execution_count": 11,
   "metadata": {},
   "outputs": [],
   "source": [
    "# played_together.toPandas()"
   ]
  },
  {
   "cell_type": "code",
   "execution_count": 12,
   "metadata": {},
   "outputs": [
    {
     "data": {
      "text/plain": [
       "DataFrame[id1: int, id2: int, weight: double]"
      ]
     },
     "execution_count": 12,
     "metadata": {},
     "output_type": "execute_result"
    }
   ],
   "source": [
    "played_together.persist()"
   ]
  },
  {
   "cell_type": "code",
   "execution_count": 13,
   "metadata": {},
   "outputs": [],
   "source": [
    "top40 = played_together.orderBy(\\\n",
    "    f.col(\"weight\").desc(), f.col(\"id1\").asc(),  f.col(\"id2\").asc()).take(40)"
   ]
  },
  {
   "cell_type": "code",
   "execution_count": 14,
   "metadata": {},
   "outputs": [
    {
     "name": "stdout",
     "output_type": "stream",
     "text": [
      "798256\t923706\n",
      "798319\t837992\n",
      "798322\t876562\n",
      "798331\t827364\n",
      "798335\t840741\n",
      "798374\t816874\n",
      "798375\t810685\n",
      "798379\t812055\n",
      "798380\t840113\n",
      "798396\t817687\n",
      "798398\t926302\n",
      "798405\t867217\n",
      "798443\t905923\n",
      "798457\t918918\n",
      "798460\t891840\n",
      "798461\t940379\n",
      "798470\t840814\n",
      "798474\t963162\n",
      "798477\t883244\n",
      "798485\t955521\n",
      "798505\t905671\n",
      "798545\t949238\n",
      "798550\t936295\n",
      "798626\t845438\n",
      "798691\t818279\n",
      "798692\t898823\n",
      "798702\t811440\n",
      "798704\t937570\n",
      "798725\t933147\n",
      "798738\t894170\n",
      "798745\t799665\n",
      "798782\t956938\n",
      "798801\t950802\n",
      "798820\t890393\n",
      "798833\t916319\n",
      "798865\t962662\n",
      "798931\t893574\n",
      "798946\t946408\n",
      "799012\t809997\n",
      "799024\t935246\n"
     ]
    }
   ],
   "source": [
    "for row in top40:\n",
    "    print(\"{}\\t{}\".format(row[0], row[1]))"
   ]
  },
  {
   "cell_type": "markdown",
   "metadata": {},
   "source": [
    "# Graph based Music Recommender. Task 2\n",
    "\n",
    "Build the edges of the type “user-track”. Take the amount of times the track was listened by the user as the weight of the edge from the user’s vertex to the track’s vertex.\n",
    "\n",
    "Tip: group the dataframe by columns userId and trackId and use function “count” of DF API.\n",
    "\n",
    "For each user take top-1000 and normalize them.\n",
    "\n",
    "Sort the resulting Data Frame in descending order by the column norm_weight, and then in ascending order this time first by “id1”, then by “id2”. Take top 40 rows, select only the columns “id1”, “id2”, and print the columns “id1”, “id2” of the resulting dataframe.\n",
    "\n",
    "The part of the result on the sample dataset:\n",
    "\n",
    "    ...\n",
    "    195 946408\n",
    "    215 860111\n",
    "    235 897176\n",
    "    300 857973\n",
    "    321 915545\n",
    "    ..."
   ]
  },
  {
   "cell_type": "code",
   "execution_count": 15,
   "metadata": {},
   "outputs": [],
   "source": [
    "user_track_cnt = data \\\n",
    "    .groupBy([\"userId\", \"trackId\"]) \\\n",
    "    .count()"
   ]
  },
  {
   "cell_type": "code",
   "execution_count": 16,
   "metadata": {},
   "outputs": [],
   "source": [
    "window = Window.partitionBy(\"userId\").orderBy(f.col(\"count\").desc())\n",
    "\n",
    "user_track_top1000 = user_track_cnt \\\n",
    "    .select([\"*\", f.row_number().over(window).alias(\"rank\")]) \\\n",
    "    .where(f.col(\"rank\") <= 1000)"
   ]
  },
  {
   "cell_type": "code",
   "execution_count": 17,
   "metadata": {},
   "outputs": [],
   "source": [
    "window = Window.partitionBy(\"userId\")\n",
    "\n",
    "user_track = user_track_top1000 \\\n",
    "    .select([\"*\", (f.col(\"count\") / f.sum(\"count\").over(window)).alias(\"weight\")])"
   ]
  },
  {
   "cell_type": "code",
   "execution_count": 18,
   "metadata": {},
   "outputs": [
    {
     "data": {
      "text/plain": [
       "DataFrame[userId: int, trackId: int, count: bigint, rank: int, weight: double]"
      ]
     },
     "execution_count": 18,
     "metadata": {},
     "output_type": "execute_result"
    }
   ],
   "source": [
    "user_track.persist()"
   ]
  },
  {
   "cell_type": "code",
   "execution_count": 19,
   "metadata": {},
   "outputs": [
    {
     "name": "stdout",
     "output_type": "stream",
     "text": [
      "66\t965774\n",
      "116\t867268\n",
      "128\t852564\n",
      "131\t880170\n",
      "195\t946408\n",
      "215\t860111\n",
      "235\t897176\n",
      "300\t857973\n",
      "321\t915545\n",
      "328\t943482\n",
      "333\t818202\n",
      "346\t864911\n",
      "356\t961308\n",
      "428\t943572\n",
      "431\t902497\n",
      "445\t831381\n",
      "488\t841340\n",
      "542\t815388\n",
      "617\t946395\n",
      "649\t901672\n",
      "658\t937522\n",
      "662\t881433\n",
      "698\t935934\n",
      "708\t952432\n",
      "746\t879259\n",
      "747\t879259\n",
      "776\t946408\n",
      "784\t806468\n",
      "806\t866581\n",
      "811\t948017\n",
      "837\t799685\n",
      "901\t871513\n",
      "923\t879322\n",
      "934\t940714\n",
      "957\t945183\n",
      "989\t878364\n",
      "999\t967768\n",
      "1006\t962774\n",
      "1049\t849484\n",
      "1057\t920458\n"
     ]
    }
   ],
   "source": [
    "top40 = user_track.select(\"userId\", \"trackId\", \"weight\").orderBy(\\\n",
    "    f.col(\"weight\").desc(), f.col(\"userId\").asc(), f.col(\"trackId\").asc()).take(40)\n",
    "\n",
    "for row in top40:\n",
    "    print(\"{}\\t{}\".format(row[0], row[1]))"
   ]
  },
  {
   "cell_type": "markdown",
   "metadata": {},
   "source": [
    "# Graph based Music Recommender. Task 3\n",
    "\n",
    "Build the edges of the type “user-artist”. Take the amount of times the user has listened to the artist’s tracks as the weight of the edge from the user’s vertex to the artist’s vertex.\n",
    "\n",
    "Tip: group the dataframe by the columns userId and trackId and use the function “count” of DF API. For each user take top-100 artists and normalize weights.\n",
    "\n",
    "Sort the resulting Data Frame in descending order by the column norm_weight, and then in ascending order this time first by “id1”, then by “id2”. Take top 40 rows, select only the columns “id1”, “id2”, and print the columns “id1”, “id2” of the resulting dataframe.\n",
    "\n",
    "The part of the result on the sample dataset:\n",
    "\n",
    "    ...\n",
    "    131 983068\n",
    "    195 997265\n",
    "    215 991696\n",
    "    235 990642\n",
    "    288 1000564\n",
    "    ...\n"
   ]
  },
  {
   "cell_type": "code",
   "execution_count": 20,
   "metadata": {},
   "outputs": [],
   "source": [
    "user_artist_cnt = data \\\n",
    "    .groupBy([\"userId\", \"artistId\"]) \\\n",
    "    .count()"
   ]
  },
  {
   "cell_type": "code",
   "execution_count": 21,
   "metadata": {},
   "outputs": [],
   "source": [
    "window = Window.partitionBy(\"userId\").orderBy(f.col(\"count\").desc())\n",
    "\n",
    "user_artist_top100 = user_artist_cnt \\\n",
    "    .select([\"*\", f.row_number().over(window).alias(\"rank\")]) \\\n",
    "    .where(f.col(\"rank\") <= 100)"
   ]
  },
  {
   "cell_type": "code",
   "execution_count": 22,
   "metadata": {},
   "outputs": [],
   "source": [
    "window = Window.partitionBy(\"userId\")\n",
    "\n",
    "user_artist = user_artist_top100 \\\n",
    "    .select([\"*\", (f.col(\"count\") / f.sum(\"count\").over(window)).alias(\"weight\")])"
   ]
  },
  {
   "cell_type": "code",
   "execution_count": 23,
   "metadata": {},
   "outputs": [
    {
     "data": {
      "text/plain": [
       "DataFrame[userId: int, artistId: int, count: bigint, rank: int, weight: double]"
      ]
     },
     "execution_count": 23,
     "metadata": {},
     "output_type": "execute_result"
    }
   ],
   "source": [
    "user_artist.persist()"
   ]
  },
  {
   "cell_type": "code",
   "execution_count": 24,
   "metadata": {
    "scrolled": true
   },
   "outputs": [
    {
     "name": "stdout",
     "output_type": "stream",
     "text": [
      "66\t993426\n",
      "116\t974937\n",
      "128\t1003021\n",
      "131\t983068\n",
      "195\t997265\n",
      "215\t991696\n",
      "235\t990642\n",
      "288\t1000564\n",
      "300\t1003362\n",
      "321\t986172\n",
      "328\t967986\n",
      "333\t1000416\n",
      "346\t982037\n",
      "356\t974846\n",
      "374\t1003167\n",
      "428\t993161\n",
      "431\t969340\n",
      "445\t970387\n",
      "488\t970525\n",
      "542\t969751\n",
      "612\t987351\n",
      "617\t970240\n",
      "649\t973851\n",
      "658\t973232\n",
      "662\t975279\n",
      "698\t995788\n",
      "708\t968848\n",
      "746\t972032\n",
      "747\t972032\n",
      "776\t997265\n",
      "784\t969853\n",
      "806\t995126\n",
      "811\t996436\n",
      "837\t989262\n",
      "901\t988199\n",
      "923\t977066\n",
      "934\t990860\n",
      "957\t991171\n",
      "989\t975339\n",
      "999\t968823\n"
     ]
    }
   ],
   "source": [
    "top40 = user_artist.select(\"userId\", \"artistId\", \"weight\").orderBy(\\\n",
    "    f.col(\"weight\").desc(), f.col(\"userId\").asc(), f.col(\"artistId\").asc()).take(40)\n",
    "\n",
    "for row in top40:\n",
    "    print(\"{}\\t{}\".format(row[0], row[1]))"
   ]
  },
  {
   "cell_type": "markdown",
   "metadata": {},
   "source": [
    "# Graph based Music Recommender. Task 4\n",
    "\n",
    "Build the edges of the type “artist-track”. Take the amount of times the track HAS BEEN listened by all users as the weight of the edge from the artist’s vertex to the track’s vertex.\n",
    "\n",
    "Tip: group the dataframe by the columns “artistId” and “trackId” and use the function “count” of DF API. For each artist take top-100 tracks and normalize weights.\n",
    "\n",
    "Sort the resulting Data Frame in descending order by the column norm_weight, and then in ascending order this time first by “id1”, then by “id2”. Take top 40 rows, select only the columns “id1”, “id2”, and print the columns “id1”, “id2” of the resulting dataframe.\n",
    "\n",
    "    ...\n",
    "    968017 859321\n",
    "    968022 852786\n",
    "    968034 807671\n",
    "    968038 964150\n",
    "    968042 835935\n",
    "    ..."
   ]
  },
  {
   "cell_type": "code",
   "execution_count": 25,
   "metadata": {},
   "outputs": [],
   "source": [
    "artist_track_cnt = data \\\n",
    "    .groupBy([\"artistId\", \"trackId\"]) \\\n",
    "    .count()"
   ]
  },
  {
   "cell_type": "code",
   "execution_count": 26,
   "metadata": {},
   "outputs": [],
   "source": [
    "window = Window.partitionBy(\"artistId\").orderBy(f.col(\"count\").desc())\n",
    "\n",
    "artist_track_top100 = artist_track_cnt \\\n",
    "    .select([\"*\", f.row_number().over(window).alias(\"rank\")]) \\\n",
    "    .where(f.col(\"rank\") <= 100)"
   ]
  },
  {
   "cell_type": "code",
   "execution_count": 27,
   "metadata": {},
   "outputs": [],
   "source": [
    "window = Window.partitionBy(\"artistId\")\n",
    "\n",
    "artist_track = artist_track_top100 \\\n",
    "    .select([\"*\", (f.col(\"count\") / f.sum(\"count\").over(window)).alias(\"weight\")])"
   ]
  },
  {
   "cell_type": "code",
   "execution_count": 28,
   "metadata": {},
   "outputs": [
    {
     "data": {
      "text/plain": [
       "DataFrame[artistId: int, trackId: int, count: bigint, rank: int, weight: double]"
      ]
     },
     "execution_count": 28,
     "metadata": {},
     "output_type": "execute_result"
    }
   ],
   "source": [
    "artist_track.persist()"
   ]
  },
  {
   "cell_type": "code",
   "execution_count": 29,
   "metadata": {},
   "outputs": [
    {
     "name": "stdout",
     "output_type": "stream",
     "text": [
      "967993\t869415\n",
      "967998\t947428\n",
      "968004\t927380\n",
      "968017\t859321\n",
      "968022\t852786\n",
      "968034\t807671\n",
      "968038\t964150\n",
      "968042\t835935\n",
      "968043\t913568\n",
      "968046\t935077\n",
      "968047\t806127\n",
      "968065\t907906\n",
      "968073\t964586\n",
      "968086\t813446\n",
      "968092\t837129\n",
      "968118\t914441\n",
      "968125\t821410\n",
      "968140\t953008\n",
      "968148\t877445\n",
      "968161\t809793\n",
      "968163\t803065\n",
      "968168\t876119\n",
      "968189\t858639\n",
      "968221\t896937\n",
      "968224\t892880\n",
      "968232\t825536\n",
      "968237\t932845\n",
      "968238\t939177\n",
      "968241\t879045\n",
      "968242\t911250\n",
      "968248\t953554\n",
      "968255\t808494\n",
      "968259\t880230\n",
      "968265\t950148\n",
      "968266\t824437\n",
      "968269\t913243\n",
      "968272\t816049\n",
      "968278\t946743\n",
      "968285\t847460\n",
      "968286\t940006\n"
     ]
    }
   ],
   "source": [
    "top40 = artist_track.select(\"artistId\", \"trackId\", \"weight\").orderBy(\\\n",
    "    f.col(\"weight\").desc(), f.col(\"artistId\").asc(), f.col(\"trackId\").asc()).take(40)\n",
    "\n",
    "for row in top40:\n",
    "    print(\"{}\\t{}\".format(row[0], row[1]))"
   ]
  },
  {
   "cell_type": "markdown",
   "metadata": {},
   "source": [
    "# Graph based Music Recommender. Task 5\n",
    "\n",
    "For the user with Id 776748 find all the tracks and artists connected to him. Use original dataframe not a normalized one. Sort founded items first by artist then by name in ascending order, leave only columns ”Artist” and “Name” and print top-40.\n",
    "\n",
    "Each output line can take one of the following forms:\n",
    "\n",
    "1. Artist: <artist-name> <track-name>\n",
    "2. Artist: <artist-name> Artist: <artist-name>\n",
    "\n",
    "These two forms help distinguish “user-track” suggestions (as shown in 1) from “user-artist” suggestions (as shown in 2).\n",
    "\n",
    "The part of the result on the sample dataset:\n",
    "\n",
    "    ...\n",
    "    Artist: Blur Artist: Blur\n",
    "    Artist: Blur Girls and Boys\n",
    "    Artist: Clawfinger Artist: Clawfinger\n",
    "    Artist: Clawfinger Nothing Going On\n",
    "    Artist: Disturbed Artist: Disturbed\n",
    "    ..."
   ]
  },
  {
   "cell_type": "code",
   "execution_count": 30,
   "metadata": {},
   "outputs": [],
   "source": [
    "USERID = 776748"
   ]
  },
  {
   "cell_type": "code",
   "execution_count": 31,
   "metadata": {},
   "outputs": [],
   "source": [
    "one_user_tracks = data\\\n",
    "    .where(f.col(\"userId\") == USERID) \\\n",
    "    .select(\"trackId\").distinct() \\\n",
    "    .join(meta, \\\n",
    "          f.col(\"trackId\") == f.col(\"meta.Id\") \\\n",
    "         ) \\\n",
    "    .orderBy(\"Artist\", \"Name\")"
   ]
  },
  {
   "cell_type": "code",
   "execution_count": 32,
   "metadata": {},
   "outputs": [],
   "source": [
    "# one_user_tracks.toPandas()"
   ]
  },
  {
   "cell_type": "code",
   "execution_count": 33,
   "metadata": {},
   "outputs": [
    {
     "name": "stdout",
     "output_type": "stream",
     "text": [
      "Artist: 3 Doors Down Artist: 3 Doors Down\n",
      "Artist: 3 Doors Down Kryptonite\n",
      "Artist: 311 Artist: 311\n",
      "Artist: 311 Beautiful disaster\n",
      "Artist: Blur Artist: Blur\n",
      "Artist: Blur Girls and Boys\n",
      "Artist: Clawfinger Artist: Clawfinger\n",
      "Artist: Clawfinger Nothing Going On\n",
      "Artist: Disturbed Artist: Disturbed\n",
      "Artist: Disturbed The Vengeful One\n",
      "Artist: Gotthard Artist: Gotthard\n",
      "Artist: Gotthard Eagle\n",
      "Artist: Green Day Artist: Green Day\n",
      "Artist: Green Day 21 Guns\n",
      "Artist: Green Day Kill The DJ\n",
      "Artist: Iggy Pop Artist: Iggy Pop\n",
      "Artist: Iggy Pop Sunday\n",
      "Artist: Korn Artist: Korn\n",
      "Artist: Korn Here To Stay\n",
      "Artist: Linkin Park Artist: Linkin Park\n",
      "Artist: Linkin Park In The End\n",
      "Artist: Linkin Park Numb\n",
      "Artist: Lordi Artist: Lordi\n",
      "Artist: Lordi Hard Rock Hallelujah\n",
      "Artist: Nickelback Artist: Nickelback\n",
      "Artist: Nickelback She Keeps Me Up\n",
      "Artist: Nomy Artist: Nomy\n",
      "Artist: Nomy Cocaine\n",
      "Artist: Papa Roach Artist: Papa Roach\n",
      "Artist: Papa Roach Getting Away With Murder\n",
      "Artist: Rise Against Artist: Rise Against\n",
      "Artist: Rise Against Prayer Of The Refugee\n",
      "Artist: Serj Tankian Artist: Serj Tankian\n",
      "Artist: Serj Tankian Sky is Over\n",
      "Artist: Slipknot Artist: Slipknot\n",
      "Artist: Slipknot Wait And Bleed\n",
      "Artist: The Offspring Artist: The Offspring\n",
      "Artist: The Offspring Come Out and Play\n",
      "Artist: Thousand Foot Krutch Artist: Thousand Foot Krutch\n",
      "Artist: Thousand Foot Krutch Take It Out On Me\n"
     ]
    }
   ],
   "source": [
    "result = one_user_tracks.select(\"Artist\", \"Name\").collect()\n",
    "\n",
    "last_artist = ''\n",
    "n = 0\n",
    "MAX_N = 40\n",
    "\n",
    "def print_next(s):\n",
    "    global n\n",
    "    if n < MAX_N:\n",
    "        print(s)\n",
    "    n += 1\n",
    "\n",
    "for row in result:\n",
    "    (artist, title) = row\n",
    "    if artist != last_artist:\n",
    "        last_artist = artist\n",
    "        print_next(\"{} {}\".format(artist, artist))\n",
    "    print_next(\"{} {}\".format(artist, title))"
   ]
  },
  {
   "cell_type": "markdown",
   "metadata": {},
   "source": [
    "# Graph based Music Recommender. Task 6\n",
    "\n",
    "For the user with Id 776748 print top-40 recommended tracks. Build music recommendations with the algorithm described in the lesson 3 of the fifth week. Initialize coordinates of vector x_0 corresponding to the user’s vertex and all the vertices from the task 5 with ones and all other coordinates with zeros. Do 5 iterations:\n",
    "\n",
    "￼\n",
    "Take alpha = 0.15. and the next balancing functions:\n",
    "\n",
    "* beta(user, user → artist) = 0.5\n",
    "* beta(user, user → track) = 0.5\n",
    "* beta(track, track → track) = 1\n",
    "* beta(artist, artist → track) = 1\n",
    "\n",
    "You should receive a table with 3 columns: “name”, “artist” and “rank”. Sort the resulting dataframe in descending order by “rank”, select top 40 recommended tracks, select only the columns “name”, “artist” and “rank”, leave 5 digits after the decimal point in “rank” and print the resulting dataframe.\n",
    "\n",
    "The part of the result on the sample dataset:\n",
    "\n",
    "    ...\n",
    "    Prayer Of The Refugee Artist: Rise Against 1.35278102029\n",
    "    Eagle Artist: Gotthard 1.21412311013\n",
    "    21 Guns Artist: Green Day 1.17301653219\n",
    "    Wait And Bleed Artist: Slipknot 0.921552328559\n",
    "    Beautiful disaster Artist: 311 0.921552328559\n",
    "    ..."
   ]
  },
  {
   "cell_type": "code",
   "execution_count": 34,
   "metadata": {},
   "outputs": [],
   "source": [
    "USERID = 776748\n",
    "ALPHA = 0.15\n",
    "BETA_USER_ARTIST = 0.5\n",
    "BETA_USER_TRACK = 0.5\n",
    "BETA_TRACK_TRACK = 1\n",
    "BETA_ARTIST_TRACK = 1"
   ]
  },
  {
   "cell_type": "markdown",
   "metadata": {},
   "source": [
    "### Weight update with test data"
   ]
  },
  {
   "cell_type": "code",
   "execution_count": 35,
   "metadata": {},
   "outputs": [],
   "source": [
    "# vertices: of only one type\n",
    "# edges: only of one type\n",
    "#\n",
    "# I don't need to rewrite edge weight. But let's retain this code\n",
    "# for later reference\n",
    "def step(vertices, edges, alpha, beta):\n",
    "    alpha_rdd = vertices.select([\"id\", (f.col(\"weight\") * alpha).alias(\"weight\")])\n",
    "    mia = (1 - alpha) * beta\n",
    "    edge_rdd = edges.alias(\"edges\") \\\n",
    "        .join(vertices.alias(\"vertices\"), f.col(\"id\") == f.col(\"id1\"), \"left_outer\") \\\n",
    "        .select([\"edges.type\", \"id1\", \"id2\", \\\n",
    "                 f.when(f.isnull(f.col(\"id\")), f.col(\"edges.weight\")) \\\n",
    "                     .otherwise(mia * f.col(\"vertices.weight\") * f.col(\"edges.weight\")) \\\n",
    "                     .alias(\"weight\") \\\n",
    "                ])\n",
    "    return (alpha_rdd, edge_rdd)"
   ]
  },
  {
   "cell_type": "code",
   "execution_count": 36,
   "metadata": {},
   "outputs": [],
   "source": [
    "# Only user vertice is to be created\n",
    "# def step_alpha(vertices, alpha):\n",
    "#     alpha_rdd = vertices.select([\"id\", (f.col(\"weight\") * alpha).alias(\"weight\")])\n",
    "#     return alpha_rdd\n",
    "def step_alpha(user_id, alpha):\n",
    "    return sparkSession.createDataFrame([[user_id, alpha]], [\"id\", \"weight\"])"
   ]
  },
  {
   "cell_type": "code",
   "execution_count": 37,
   "metadata": {},
   "outputs": [],
   "source": [
    "def step_tgt(vertices, edges, alpha, beta):\n",
    "    mia = (1 - alpha) * beta\n",
    "    tgt_rdd = vertices.alias(\"vertices\") \\\n",
    "        .join(edges.alias(\"edges\"), f.col(\"id\") == f.col(\"id1\")) \\\n",
    "        .select([f.col(\"id2\").alias(\"id\"), \\\n",
    "                (mia * f.col(\"vertices.weight\") * f.col(\"edges.weight\")).alias(\"weight\") \\\n",
    "                ])\n",
    "    return tgt_rdd"
   ]
  },
  {
   "cell_type": "code",
   "execution_count": 38,
   "metadata": {},
   "outputs": [],
   "source": [
    "def unite_weights(df1, df2, df3, df4, df5):\n",
    "    df = df1.union(df2).union(df3).union(df4).union(df5)\n",
    "    df_sum = df.groupBy(\"id\").agg(f.sum(\"weight\").alias(\"weight\"))\n",
    "    return df_sum"
   ]
  },
  {
   "cell_type": "code",
   "execution_count": 39,
   "metadata": {},
   "outputs": [],
   "source": [
    "test_vertices = sparkSession.createDataFrame(\n",
    "    [[\"user\", 1, 1.1], [\"user\", 2, 2.2], [\"user\", 3, 3.3]],\n",
    "    [\"type\", \"id\", \"weight\"])\n",
    "test_edges = sparkSession.createDataFrame(\n",
    "    [[\"ut\", 1, 11, 11.1], [\"ut\", 2,  11, 22.2], [\"ut\", 1, 3, 32.3], [\"ut\", 7, 73, 77.3]],\n",
    "    [\"type\", \"id1\", \"id2\", \"weight\"])"
   ]
  },
  {
   "cell_type": "code",
   "execution_count": 40,
   "metadata": {},
   "outputs": [
    {
     "data": {
      "text/html": [
       "<div>\n",
       "<table border=\"1\" class=\"dataframe\">\n",
       "  <thead>\n",
       "    <tr style=\"text-align: right;\">\n",
       "      <th></th>\n",
       "      <th>id</th>\n",
       "      <th>weight</th>\n",
       "    </tr>\n",
       "  </thead>\n",
       "  <tbody>\n",
       "    <tr>\n",
       "      <th>0</th>\n",
       "      <td>776748</td>\n",
       "      <td>0.5</td>\n",
       "    </tr>\n",
       "  </tbody>\n",
       "</table>\n",
       "</div>"
      ],
      "text/plain": [
       "       id  weight\n",
       "0  776748     0.5"
      ]
     },
     "execution_count": 40,
     "metadata": {},
     "output_type": "execute_result"
    }
   ],
   "source": [
    "x = step_alpha(USERID, 0.5)\n",
    "x.toPandas()"
   ]
  },
  {
   "cell_type": "code",
   "execution_count": 41,
   "metadata": {},
   "outputs": [
    {
     "data": {
      "text/html": [
       "<div>\n",
       "<table border=\"1\" class=\"dataframe\">\n",
       "  <thead>\n",
       "    <tr style=\"text-align: right;\">\n",
       "      <th></th>\n",
       "      <th>id</th>\n",
       "      <th>weight</th>\n",
       "    </tr>\n",
       "  </thead>\n",
       "  <tbody>\n",
       "    <tr>\n",
       "      <th>0</th>\n",
       "      <td>11</td>\n",
       "      <td>1.52625</td>\n",
       "    </tr>\n",
       "    <tr>\n",
       "      <th>1</th>\n",
       "      <td>3</td>\n",
       "      <td>4.44125</td>\n",
       "    </tr>\n",
       "    <tr>\n",
       "      <th>2</th>\n",
       "      <td>11</td>\n",
       "      <td>6.10500</td>\n",
       "    </tr>\n",
       "  </tbody>\n",
       "</table>\n",
       "</div>"
      ],
      "text/plain": [
       "   id   weight\n",
       "0  11  1.52625\n",
       "1   3  4.44125\n",
       "2  11  6.10500"
      ]
     },
     "execution_count": 41,
     "metadata": {},
     "output_type": "execute_result"
    }
   ],
   "source": [
    "e = step_tgt(test_vertices, test_edges, 0.5, 0.25)\n",
    "e.toPandas()"
   ]
  },
  {
   "cell_type": "code",
   "execution_count": 42,
   "metadata": {},
   "outputs": [
    {
     "data": {
      "text/html": [
       "<div>\n",
       "<table border=\"1\" class=\"dataframe\">\n",
       "  <thead>\n",
       "    <tr style=\"text-align: right;\">\n",
       "      <th></th>\n",
       "      <th>id</th>\n",
       "      <th>weight</th>\n",
       "    </tr>\n",
       "  </thead>\n",
       "  <tbody>\n",
       "    <tr>\n",
       "      <th>0</th>\n",
       "      <td>3</td>\n",
       "      <td>22.20625</td>\n",
       "    </tr>\n",
       "    <tr>\n",
       "      <th>1</th>\n",
       "      <td>11</td>\n",
       "      <td>38.15625</td>\n",
       "    </tr>\n",
       "  </tbody>\n",
       "</table>\n",
       "</div>"
      ],
      "text/plain": [
       "   id    weight\n",
       "0   3  22.20625\n",
       "1  11  38.15625"
      ]
     },
     "execution_count": 42,
     "metadata": {},
     "output_type": "execute_result"
    }
   ],
   "source": [
    "e = step_tgt(test_vertices, test_edges, 0.5, 0.25)\n",
    "ff = unite_weights(e, e, e, e, e)\n",
    "ff.toPandas()"
   ]
  },
  {
   "cell_type": "markdown",
   "metadata": {},
   "source": [
    "### Reproduce demo from lection"
   ]
  },
  {
   "cell_type": "code",
   "execution_count": 43,
   "metadata": {},
   "outputs": [],
   "source": [
    "d_b_u_t = 0.4\n",
    "d_b_u_a = 0.6\n",
    "d_b_a_a = 1.0\n",
    "d_b_t_t = 0.3\n",
    "d_b_t_a = 0.7"
   ]
  },
  {
   "cell_type": "code",
   "execution_count": 44,
   "metadata": {},
   "outputs": [],
   "source": [
    "d_vertices = sparkSession.createDataFrame(\n",
    "    [[\"Na\", 0.2], [\"Ff\", 0.2], [\"Gd\", 0.2], [\"21\", 0.2], [\"Tm\", 0.2]],\n",
    "    [\"id\", \"weight\"])"
   ]
  },
  {
   "cell_type": "code",
   "execution_count": 45,
   "metadata": {},
   "outputs": [],
   "source": [
    "d_edges = sparkSession.createDataFrame(\n",
    "    [\n",
    "        [\"Na\", \"Gd\", 0.4], # ua\n",
    "        [\"Na\", \"FF\", 0.6], # ua\n",
    "        [\"Na\", \"21\", 1.0], # ut\n",
    "        [\"Ff\", \"Gd\", 1.0], # aa\n",
    "        [\"Gd\", \"Ff\", 1.0], # aa\n",
    "    ],\n",
    "    [\"id1\", \"id2\" \"weight\"])"
   ]
  },
  {
   "cell_type": "code",
   "execution_count": null,
   "metadata": {},
   "outputs": [],
   "source": []
  },
  {
   "cell_type": "code",
   "execution_count": null,
   "metadata": {},
   "outputs": [],
   "source": []
  },
  {
   "cell_type": "code",
   "execution_count": null,
   "metadata": {},
   "outputs": [],
   "source": []
  },
  {
   "cell_type": "code",
   "execution_count": null,
   "metadata": {},
   "outputs": [],
   "source": []
  },
  {
   "cell_type": "code",
   "execution_count": null,
   "metadata": {},
   "outputs": [],
   "source": []
  },
  {
   "cell_type": "markdown",
   "metadata": {},
   "source": [
    "### Prepare initial data"
   ]
  },
  {
   "cell_type": "code",
   "execution_count": 46,
   "metadata": {},
   "outputs": [],
   "source": [
    "edges_u_a = user_artist.select([\n",
    "    f.col(\"userId\").alias(\"id1\"), f.col(\"artistId\").alias(\"id2\"), \"weight\"]).persist()\n",
    "edges_t_t = played_together\n",
    "edges_u_t = user_track.select([\n",
    "    f.col(\"userId\").alias(\"id1\"), f.col(\"trackId\").alias(\"id2\"), \"weight\"]).persist()\n",
    "edges_a_t = artist_track.select([\n",
    "    f.col(\"artistId\").alias(\"id1\"), f.col(\"trackId\").alias(\"id2\"), \"weight\"]).persist()"
   ]
  },
  {
   "cell_type": "code",
   "execution_count": 47,
   "metadata": {},
   "outputs": [],
   "source": [
    "task5_t = one_user_tracks = data\\\n",
    "    .where(f.col(\"userId\") == USERID) \\\n",
    "    .select(f.col(\"trackId\").alias(\"id\"), f.lit(1).alias(\"weight\")).distinct()\n",
    "task5_a = one_user_tracks = data\\\n",
    "    .where(f.col(\"userId\") == USERID) \\\n",
    "    .select(f.col(\"artistId\").alias(\"id\"), f.lit(1).alias(\"weight\")).distinct()\n",
    "initial_state = sparkSession.createDataFrame([[USERID, 1.0]], [\"id\", \"weight\"]) \\\n",
    "    .union(task5_t).union(task5_a)"
   ]
  },
  {
   "cell_type": "code",
   "execution_count": 48,
   "metadata": {},
   "outputs": [
    {
     "data": {
      "text/plain": [
       "1"
      ]
     },
     "execution_count": 48,
     "metadata": {},
     "output_type": "execute_result"
    }
   ],
   "source": [
    "# initial_state.toPandas()\n",
    "1"
   ]
  },
  {
   "cell_type": "markdown",
   "metadata": {},
   "source": [
    "### iterate five times"
   ]
  },
  {
   "cell_type": "code",
   "execution_count": 49,
   "metadata": {},
   "outputs": [],
   "source": [
    "def make_step(vertices_in):\n",
    "    v_self = step_alpha(USERID, ALPHA)\n",
    "    v_u_a = step_tgt(vertices_in, edges_u_a, ALPHA, BETA_USER_ARTIST)\n",
    "    v_u_t = step_tgt(vertices_in, edges_u_t, ALPHA, BETA_USER_TRACK)\n",
    "    v_t_t = step_tgt(vertices_in, edges_t_t, ALPHA, BETA_TRACK_TRACK)\n",
    "    v_a_t = step_tgt(vertices_in, edges_a_t, ALPHA, BETA_ARTIST_TRACK)\n",
    "    vertices_out = unite_weights(v_self, v_u_a, v_u_t, v_t_t, v_a_t)\n",
    "    return vertices_out.persist()"
   ]
  },
  {
   "cell_type": "code",
   "execution_count": 50,
   "metadata": {},
   "outputs": [],
   "source": [
    "step1 = make_step(initial_state)"
   ]
  },
  {
   "cell_type": "code",
   "execution_count": 51,
   "metadata": {},
   "outputs": [],
   "source": [
    "step2 = make_step(step1)"
   ]
  },
  {
   "cell_type": "code",
   "execution_count": 52,
   "metadata": {},
   "outputs": [],
   "source": [
    "step3 = make_step(step2)"
   ]
  },
  {
   "cell_type": "code",
   "execution_count": 53,
   "metadata": {},
   "outputs": [],
   "source": [
    "step4 = make_step(step3)"
   ]
  },
  {
   "cell_type": "code",
   "execution_count": 54,
   "metadata": {},
   "outputs": [],
   "source": [
    "step5 = make_step(step4)"
   ]
  },
  {
   "cell_type": "code",
   "execution_count": 55,
   "metadata": {},
   "outputs": [
    {
     "data": {
      "text/plain": [
       "'\\nstep5.orderBy(f.col(\"weight\").desc()).toPandas()\\n'"
      ]
     },
     "execution_count": 55,
     "metadata": {},
     "output_type": "execute_result"
    }
   ],
   "source": [
    "\"\"\"\n",
    "step5.orderBy(f.col(\"weight\").desc()).toPandas()\n",
    "\"\"\""
   ]
  },
  {
   "cell_type": "markdown",
   "metadata": {},
   "source": [
    "### Generate the ansser in the format"
   ]
  },
  {
   "cell_type": "code",
   "execution_count": 56,
   "metadata": {},
   "outputs": [],
   "source": [
    "step1.unpersist()\n",
    "step2.unpersist()\n",
    "step3.unpersist()\n",
    "step4.unpersist()\n",
    "recommendation = step5\n",
    "\n",
    "details = recommendation.alias(\"r\").join(\n",
    "        meta.alias(\"m\"), f.col(\"r.id\") == f.col(\"m.id\")\n",
    "    ) \\\n",
    "    .orderBy(f.col(\"weight\").desc())"
   ]
  },
  {
   "cell_type": "code",
   "execution_count": 57,
   "metadata": {},
   "outputs": [
    {
     "name": "stdout",
     "output_type": "stream",
     "text": [
      "Kill The DJ Artist: Green Day 1.42809\n",
      "Come Out and Play Artist: The Offspring 1.37473\n",
      "I Hate Everything About You Artist: Three Days Grace 1.37362\n",
      "Prayer Of The Refugee Artist: Rise Against 1.35278\n",
      "Eagle Artist: Gotthard 1.21412\n",
      "21 Guns Artist: Green Day 1.17302\n",
      "Wait And Bleed Artist: Slipknot 0.92155\n",
      "Beautiful disaster Artist: 311 0.92155\n",
      "Here To Stay Artist: Korn 0.91653\n",
      "Hard Rock Hallelujah Artist: Lordi 0.91653\n",
      "Nothing Going On Artist: Clawfinger 0.80983\n",
      "In The End Artist: Linkin Park 0.80292\n",
      "Numb Artist: Linkin Park 0.80292\n",
      "Kryptonite Artist: 3 Doors Down 0.68799\n",
      "Sky is Over Artist: Serj Tankian 0.68799\n",
      "Take It Out On Me Artist: Thousand Foot Krutch 0.47024\n",
      "Girls and Boys Artist: Blur 0.40245\n",
      "Cocaine Artist: Nomy 0.20893\n",
      "Getting Away With Murder Artist: Papa Roach 0.20648\n",
      "Artist: Green Day Artist: Green Day 0.01181\n",
      "Artist: Linkin Park Artist: Linkin Park 0.00472\n",
      "Artist: The Offspring Artist: The Offspring 0.00472\n",
      "Artist: Clawfinger Artist: Clawfinger 0.00472\n",
      "The Vengeful One Artist: Disturbed 0.00437\n",
      "She Keeps Me Up Artist: Nickelback 0.00437\n",
      "Sunday Artist: Iggy Pop 0.00437\n",
      "Artist: Thousand Foot Krutch Artist: Thousand Foot Krutch 0.00236\n",
      "Artist: Lordi Artist: Lordi 0.00236\n",
      "Artist: Gotthard Artist: Gotthard 0.00236\n",
      "Artist: Serj Tankian Artist: Serj Tankian 0.00236\n",
      "Artist: 3 Doors Down Artist: 3 Doors Down 0.00236\n",
      "Artist: Nickelback Artist: Nickelback 0.00236\n",
      "Artist: Blur Artist: Blur 0.00236\n",
      "Artist: Iggy Pop Artist: Iggy Pop 0.00236\n",
      "Artist: 311 Artist: 311 0.00236\n",
      "Artist: Disturbed Artist: Disturbed 0.00236\n",
      "Artist: Rise Against Artist: Rise Against 0.00236\n",
      "Artist: Slipknot Artist: Slipknot 0.00236\n",
      "Artist: Nomy Artist: Nomy 0.00236\n",
      "Artist: Three Days Grace Artist: Three Days Grace 0.00236\n"
     ]
    }
   ],
   "source": [
    "top40 = details.select(\"Name\", \"Artist\", \"weight\").take(40)\n",
    "for row in top40:\n",
    "    (n, a, w) = row\n",
    "    print(\"{} {} {}\".format(n, a, round(w, 5)))"
   ]
  },
  {
   "cell_type": "code",
   "execution_count": null,
   "metadata": {},
   "outputs": [],
   "source": []
  }
 ],
 "metadata": {
  "kernelspec": {
   "display_name": "Python 3",
   "language": "python",
   "name": "python3"
  },
  "language_info": {
   "codemirror_mode": {
    "name": "ipython",
    "version": 3
   },
   "file_extension": ".py",
   "mimetype": "text/x-python",
   "name": "python",
   "nbconvert_exporter": "python",
   "pygments_lexer": "ipython3",
   "version": "3.6.2"
  }
 },
 "nbformat": 4,
 "nbformat_minor": 2
}
