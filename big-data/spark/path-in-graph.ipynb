{
 "cells": [
  {
   "cell_type": "markdown",
   "metadata": {},
   "source": [
    "#  Reconstructing the path\n",
    "In this assignment you will use Spark to compute the shortest path between two vertices. In the video, you have learned how to compute the distances between a source vertex and all other vertices in a graph. Now, your task is to reconstruct the shortest path, that is a sequence of vertices connected by the edges.\n",
    "\n",
    "Dataset location: /data/twitter/twitter_sample_small.txt\n",
    "\n",
    "Format: user_id \\t follower_id\n",
    "\n",
    "You can start with the code described in \"Starter...\" (see the next self-reading).\n",
    "\n",
    "Your task is to find the shortest path between vertices 12 and 34. In case of multiple shortest paths (that is, disjoint paths with the same length), any will suffice. Output format is the sequence of vertices, delimited by a comma, without spaces. For example, the path “12 -> 42 -> 34” should be printed as:\n",
    "\n",
    "    12,42,34\n",
    "\n",
    "Hint: before submitting, check your stopping criteria. In BFS, the search was exhaustive, and in this task your program may terminate earlier, thus saving some precious time.\n",
    "\n",
    "The result on the sample dataset:\n",
    "\n",
    "    12,422,53,52,107,20,23,274,34\n",
    "\n",
    "If you want to deploy the environment on your own machine, please use bigdatateam/spark-course1 Docker container."
   ]
  },
  {
   "cell_type": "code",
   "execution_count": 1,
   "metadata": {},
   "outputs": [],
   "source": [
    "BEGIN = 12\n",
    "END = 34\n",
    "N = 400  # number of partitions"
   ]
  },
  {
   "cell_type": "code",
   "execution_count": 3,
   "metadata": {},
   "outputs": [],
   "source": [
    "# Python2 on grader, Python3 in docker\n",
    "# import sys\n",
    "# if sys.version_info.major == 3:\n",
    "#     import os\n",
    "#     os.environ['PYSPARK_PYTHON'] = '/opt/conda/bin/python'\n",
    "#     os.environ['PYTHONHASHSEED'] = '42'\n",
    "#    unicode = str"
   ]
  },
  {
   "cell_type": "code",
   "execution_count": 4,
   "metadata": {},
   "outputs": [],
   "source": [
    "from pyspark import SparkConf, SparkContext\n",
    "sc = SparkContext(conf=SparkConf().setAppName(\"MyApp\").setMaster(\"local\"))"
   ]
  },
  {
   "cell_type": "code",
   "execution_count": 5,
   "metadata": {},
   "outputs": [],
   "source": [
    "def parse_edge(s):\n",
    "    user, follower = s.split(\"\\t\")\n",
    "    return (int(user), int(follower))\n",
    "\n",
    "reverse_edges = sc.textFile(\"/data/twitter/twitter_sample_small.txt\").map(parse_edge).cache()\n",
    "edges = reverse_edges.map(lambda e: (e[1], e[0])).partitionBy(N).cache()"
   ]
  },
  {
   "cell_type": "code",
   "execution_count": 7,
   "metadata": {},
   "outputs": [],
   "source": [
    "# edges.take(5)"
   ]
  },
  {
   "cell_type": "code",
   "execution_count": null,
   "metadata": {},
   "outputs": [],
   "source": [
    "# I stored the full path in items, but the grader said it takes\n",
    "# too much memory. Now storing only the previous node."
   ]
  },
  {
   "cell_type": "code",
   "execution_count": 61,
   "metadata": {},
   "outputs": [],
   "source": [
    "def step(item):\n",
    "    (prev_v, ((prev_d, _), next_v)) = item\n",
    "    return (next_v, (prev_d + 1, prev_v))"
   ]
  },
  {
   "cell_type": "code",
   "execution_count": 62,
   "metadata": {},
   "outputs": [],
   "source": [
    "def complete(item):\n",
    "    (v, (old_item, new_item)) = item\n",
    "    return (v, old_item if old_item is not None else new_item)"
   ]
  },
  {
   "cell_type": "code",
   "execution_count": 63,
   "metadata": {},
   "outputs": [],
   "source": [
    "seed_distances = sc.parallelize([(BEGIN, (0, None))]).partitionBy(N)"
   ]
  },
  {
   "cell_type": "code",
   "execution_count": 64,
   "metadata": {},
   "outputs": [
    {
     "data": {
      "text/plain": [
       "[(126, (1, 12)), (380, (1, 12)), (422, (1, 12)), (648, (1, 12)), (23, (6, 20))]"
      ]
     },
     "execution_count": 64,
     "metadata": {},
     "output_type": "execute_result"
    }
   ],
   "source": [
    "# candidates = distances.join(edges, N).map(step)\n",
    "# candidates.cache()\n",
    "# candidates.take(5)"
   ]
  },
  {
   "cell_type": "code",
   "execution_count": 65,
   "metadata": {},
   "outputs": [
    {
     "data": {
      "text/plain": [
       "[(12, (0, [12])),\n",
       " (13, (4, [12, 422, 53, 31, 13])),\n",
       " (15, (5, [12, 422, 53, 52, 107, 15])),\n",
       " (15, (5, [12, 422, 53, 52, 107, 15])),\n",
       " (15, (5, [12, 422, 53, 52, 107, 15]))]"
      ]
     },
     "execution_count": 65,
     "metadata": {},
     "output_type": "execute_result"
    }
   ],
   "source": [
    "# new_distances = distances.fullOuterJoin(candidates, N).map(complete, True).cache()\n",
    "# new_distances.take(5)"
   ]
  },
  {
   "cell_type": "code",
   "execution_count": 79,
   "metadata": {},
   "outputs": [
    {
     "name": "stdout",
     "output_type": "stream",
     "text": [
      "d = 0 , count(distances) =  1\n",
      "d = 1 , count(distances) =  5\n",
      "d = 2 , count(distances) =  6\n",
      "d = 3 , count(distances) =  13\n",
      "d = 4 , count(distances) =  15\n",
      "d = 5 , count(distances) =  18\n",
      "d = 6 , count(distances) =  23\n",
      "d = 7 , count(distances) =  34\n"
     ]
    }
   ],
   "source": [
    "end_found = []\n",
    "\n",
    "d = 0\n",
    "distances = seed_distances\n",
    "\n",
    "while True:\n",
    "    # print(\"d =\", d, \", some distances are:\", distances.take(5))    print(\"d =\", d, \", count(distances) = \", distances.count())\n",
    "    print(\"d =\", d, \", count(distances) = \", distances.count())\n",
    "    candidates = distances.join(edges, N).map(step)\n",
    "    new_distances = distances.fullOuterJoin(candidates, N).map(complete, True).persist()\n",
    "    count = new_distances.filter(lambda i: i[1][0] == d + 1).count()\n",
    "    if count > 0:\n",
    "        d += 1\n",
    "        distances = new_distances\n",
    "        end_found = new_distances.lookup(END)\n",
    "        if len(end_found):\n",
    "            break\n",
    "    else:\n",
    "        break"
   ]
  },
  {
   "cell_type": "code",
   "execution_count": 77,
   "metadata": {},
   "outputs": [
    {
     "data": {
      "text/plain": [
       "'12,422,53,52,107,20,23,274,34'"
      ]
     },
     "execution_count": 77,
     "metadata": {},
     "output_type": "execute_result"
    }
   ],
   "source": [
    "path = []\n",
    "\n",
    "cur_v = END\n",
    "while cur_v:\n",
    "    path.append(cur_v)\n",
    "    back = distances.lookup(cur_v)\n",
    "    if not len(back):\n",
    "        break\n",
    "    cur_v = back[0][1]\n",
    "\n",
    "\n",
    "path.reverse()\n",
    "strpath = [str(v) for v in path]\n",
    "','.join(strpath)\n"
   ]
  },
  {
   "cell_type": "code",
   "execution_count": 78,
   "metadata": {},
   "outputs": [
    {
     "data": {
      "text/plain": [
       "73"
      ]
     },
     "execution_count": 78,
     "metadata": {},
     "output_type": "execute_result"
    }
   ],
   "source": [
    "# distances.count()"
   ]
  },
  {
   "cell_type": "code",
   "execution_count": null,
   "metadata": {},
   "outputs": [],
   "source": []
  }
 ],
 "metadata": {
  "kernelspec": {
   "display_name": "Python 3",
   "language": "python",
   "name": "python3"
  },
  "language_info": {
   "codemirror_mode": {
    "name": "ipython",
    "version": 3
   },
   "file_extension": ".py",
   "mimetype": "text/x-python",
   "name": "python",
   "nbconvert_exporter": "python",
   "pygments_lexer": "ipython3",
   "version": "3.6.2"
  }
 },
 "nbformat": 4,
 "nbformat_minor": 2
}
