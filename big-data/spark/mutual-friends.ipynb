{
 "cells": [
  {
   "cell_type": "markdown",
   "metadata": {},
   "source": [
    "# Counting number of the mutual friends\n",
    "\n",
    "For each user having ID in the column userId count the amount of his / her common friends with each other user having ID in the column userId.\n",
    "\n",
    "Print 49 pairs of the users having the largest amount of common friends, ordered in descending order first by the common friends count , then by id of user1 and finally by id of user 2. The format is following: \"count user1 user2\"7\n",
    "\n",
    "Example:\n",
    "\n",
    "    234\t54719\t767867\n",
    "    120\t54719 767866\n",
    "    97 50787 327676\n",
    "\n",
    "To solve this task use the algorithm described in the last video of lesson 1. The overall plan could look like this:\n",
    "\n",
    "1. Create a new column “friend” by exploding of column “friends” (like in the demo iPython notebook)\n",
    "2. group the resulting dataframe by the column “friend” (like in the demo iPython notebook)\n",
    "3. create a column “users” by collecting all users with the same id in the column “friend” together (like in the demo iPython notebook)\n",
    "4. sort the elements in the column “users” by the function sort_array\n",
    "5. filter only the rows which have more than 1 element in the column “users”\n",
    "6. for each row emit all possible ordered pairs of users from the column “users” (tip: write a user defined function for this)\n",
    "7. count the number of times each pair has appeared\n",
    "8. with the help of the window function (like in the demo python notebook) select 49 pairs of users who have the biggest amount of common friends\n",
    "\n",
    "The sample dataset is located at /data/graphDFSample.\n",
    "\n",
    "The part of the result on the sample dataset:\n",
    "\n",
    "    ...\n",
    "    3044 21864412 51640390\n",
    "    3021 17139850 51640390\n",
    "    3010 14985079 51640390\n",
    "    2970 17139850 21864412\n",
    "    2913 20158643 27967558\n",
    "    ...\n"
   ]
  },
  {
   "cell_type": "code",
   "execution_count": 1,
   "metadata": {},
   "outputs": [],
   "source": [
    "import sys\n",
    "if sys.version_info.major == 3:\n",
    "    import os\n",
    "    os.environ['PYSPARK_PYTHON'] = '/opt/conda/bin/python'\n",
    "    os.environ['PYTHONHASHSEED'] = '42'"
   ]
  },
  {
   "cell_type": "code",
   "execution_count": 2,
   "metadata": {
    "scrolled": true
   },
   "outputs": [
    {
     "name": "stdout",
     "output_type": "stream",
     "text": [
      "Welcome to\n",
      "      ____              __\n",
      "     / __/__  ___ _____/ /__\n",
      "    _\\ \\/ _ \\/ _ `/ __/  '_/\n",
      "   /__ / .__/\\_,_/_/ /_/\\_\\   version 2.1.1\n",
      "      /_/\n",
      "\n",
      "Using Python version 3.6.2 (default, Jul 23 2017 22:59:30)\n",
      "SparkSession available as 'spark'.\n"
     ]
    }
   ],
   "source": [
    "%run /usr/local/spark/python/pyspark/shell.py"
   ]
  },
  {
   "cell_type": "code",
   "execution_count": 3,
   "metadata": {},
   "outputs": [],
   "source": [
    "from pyspark.sql import SparkSession\n",
    "sparkSession = SparkSession.builder.enableHiveSupport().master(\"local [2]\").getOrCreate()"
   ]
  },
  {
   "cell_type": "code",
   "execution_count": 4,
   "metadata": {},
   "outputs": [],
   "source": [
    "graphPath = \"/data/graphDFSample\"\n",
    "db = sparkSession.read.parquet(graphPath)"
   ]
  },
  {
   "cell_type": "code",
   "execution_count": 5,
   "metadata": {},
   "outputs": [
    {
     "data": {
      "text/html": [
       "<div>\n",
       "<table border=\"1\" class=\"dataframe\">\n",
       "  <thead>\n",
       "    <tr style=\"text-align: right;\">\n",
       "      <th></th>\n",
       "      <th>user</th>\n",
       "      <th>friends</th>\n",
       "    </tr>\n",
       "  </thead>\n",
       "  <tbody>\n",
       "    <tr>\n",
       "      <th>0</th>\n",
       "      <td>22991438</td>\n",
       "      <td>[20699, 175973, 533235, 584091, 610338, 652317...</td>\n",
       "    </tr>\n",
       "    <tr>\n",
       "      <th>1</th>\n",
       "      <td>37586597</td>\n",
       "      <td>[83616, 139192, 165978, 184552, 228332, 277633...</td>\n",
       "    </tr>\n",
       "    <tr>\n",
       "      <th>2</th>\n",
       "      <td>56325000</td>\n",
       "      <td>[504270, 645333, 933904, 1137277, 1209847, 172...</td>\n",
       "    </tr>\n",
       "    <tr>\n",
       "      <th>3</th>\n",
       "      <td>12862761</td>\n",
       "      <td>[234344, 5991561, 6039721, 6832532, 19429321, ...</td>\n",
       "    </tr>\n",
       "    <tr>\n",
       "      <th>4</th>\n",
       "      <td>38989299</td>\n",
       "      <td>[47992, 83113, 709903, 716694, 839792, 1276790...</td>\n",
       "    </tr>\n",
       "  </tbody>\n",
       "</table>\n",
       "</div>"
      ],
      "text/plain": [
       "       user                                            friends\n",
       "0  22991438  [20699, 175973, 533235, 584091, 610338, 652317...\n",
       "1  37586597  [83616, 139192, 165978, 184552, 228332, 277633...\n",
       "2  56325000  [504270, 645333, 933904, 1137277, 1209847, 172...\n",
       "3  12862761  [234344, 5991561, 6039721, 6832532, 19429321, ...\n",
       "4  38989299  [47992, 83113, 709903, 716694, 839792, 1276790..."
      ]
     },
     "execution_count": 5,
     "metadata": {},
     "output_type": "execute_result"
    }
   ],
   "source": [
    "db.limit(5).toPandas()"
   ]
  },
  {
   "cell_type": "code",
   "execution_count": 6,
   "metadata": {},
   "outputs": [
    {
     "data": {
      "text/html": [
       "<div>\n",
       "<table border=\"1\" class=\"dataframe\">\n",
       "  <thead>\n",
       "    <tr style=\"text-align: right;\">\n",
       "      <th></th>\n",
       "      <th>user</th>\n",
       "      <th>friends</th>\n",
       "      <th>friend</th>\n",
       "    </tr>\n",
       "  </thead>\n",
       "  <tbody>\n",
       "    <tr>\n",
       "      <th>0</th>\n",
       "      <td>22991438</td>\n",
       "      <td>[20699, 175973, 533235, 584091, 610338, 652317...</td>\n",
       "      <td>20699</td>\n",
       "    </tr>\n",
       "    <tr>\n",
       "      <th>1</th>\n",
       "      <td>22991438</td>\n",
       "      <td>[20699, 175973, 533235, 584091, 610338, 652317...</td>\n",
       "      <td>175973</td>\n",
       "    </tr>\n",
       "    <tr>\n",
       "      <th>2</th>\n",
       "      <td>22991438</td>\n",
       "      <td>[20699, 175973, 533235, 584091, 610338, 652317...</td>\n",
       "      <td>533235</td>\n",
       "    </tr>\n",
       "    <tr>\n",
       "      <th>3</th>\n",
       "      <td>22991438</td>\n",
       "      <td>[20699, 175973, 533235, 584091, 610338, 652317...</td>\n",
       "      <td>584091</td>\n",
       "    </tr>\n",
       "    <tr>\n",
       "      <th>4</th>\n",
       "      <td>22991438</td>\n",
       "      <td>[20699, 175973, 533235, 584091, 610338, 652317...</td>\n",
       "      <td>610338</td>\n",
       "    </tr>\n",
       "  </tbody>\n",
       "</table>\n",
       "</div>"
      ],
      "text/plain": [
       "       user                                            friends  friend\n",
       "0  22991438  [20699, 175973, 533235, 584091, 610338, 652317...   20699\n",
       "1  22991438  [20699, 175973, 533235, 584091, 610338, 652317...  175973\n",
       "2  22991438  [20699, 175973, 533235, 584091, 610338, 652317...  533235\n",
       "3  22991438  [20699, 175973, 533235, 584091, 610338, 652317...  584091\n",
       "4  22991438  [20699, 175973, 533235, 584091, 610338, 652317...  610338"
      ]
     },
     "execution_count": 6,
     "metadata": {},
     "output_type": "execute_result"
    }
   ],
   "source": [
    "# Create a new column “friend” by exploding of column “friends\n",
    "\n",
    "from pyspark.sql.functions import explode\n",
    "\n",
    "db10 = db.withColumn(\"friend\", explode(\"friends\"))\n",
    "db10.limit(5).toPandas()"
   ]
  },
  {
   "cell_type": "code",
   "execution_count": 7,
   "metadata": {},
   "outputs": [
    {
     "data": {
      "text/html": [
       "<div>\n",
       "<table border=\"1\" class=\"dataframe\">\n",
       "  <thead>\n",
       "    <tr style=\"text-align: right;\">\n",
       "      <th></th>\n",
       "      <th>friend</th>\n",
       "      <th>users</th>\n",
       "    </tr>\n",
       "  </thead>\n",
       "  <tbody>\n",
       "    <tr>\n",
       "      <th>0</th>\n",
       "      <td>148</td>\n",
       "      <td>[65051219, 14631101, 3195315, 14957568]</td>\n",
       "    </tr>\n",
       "    <tr>\n",
       "      <th>1</th>\n",
       "      <td>5518</td>\n",
       "      <td>[58573511]</td>\n",
       "    </tr>\n",
       "    <tr>\n",
       "      <th>2</th>\n",
       "      <td>9900</td>\n",
       "      <td>[36844066]</td>\n",
       "    </tr>\n",
       "    <tr>\n",
       "      <th>3</th>\n",
       "      <td>10362</td>\n",
       "      <td>[65278216]</td>\n",
       "    </tr>\n",
       "    <tr>\n",
       "      <th>4</th>\n",
       "      <td>11458</td>\n",
       "      <td>[39169321]</td>\n",
       "    </tr>\n",
       "  </tbody>\n",
       "</table>\n",
       "</div>"
      ],
      "text/plain": [
       "   friend                                    users\n",
       "0     148  [65051219, 14631101, 3195315, 14957568]\n",
       "1    5518                               [58573511]\n",
       "2    9900                               [36844066]\n",
       "3   10362                               [65278216]\n",
       "4   11458                               [39169321]"
      ]
     },
     "execution_count": 7,
     "metadata": {},
     "output_type": "execute_result"
    }
   ],
   "source": [
    "# group the resulting dataframe by the column “friend”\n",
    "# create a column “users” by collecting all users with the same id in the column “friend” together \n",
    "\n",
    "from pyspark.sql.functions import collect_list\n",
    "\n",
    "db15 = db10.groupBy(\"friend\").agg(collect_list(\"user\").alias(\"users\"))\n",
    "db15.limit(5).toPandas()"
   ]
  },
  {
   "cell_type": "code",
   "execution_count": 8,
   "metadata": {},
   "outputs": [
    {
     "data": {
      "text/html": [
       "<div>\n",
       "<table border=\"1\" class=\"dataframe\">\n",
       "  <thead>\n",
       "    <tr style=\"text-align: right;\">\n",
       "      <th></th>\n",
       "      <th>friend</th>\n",
       "      <th>users</th>\n",
       "      <th>users_size</th>\n",
       "    </tr>\n",
       "  </thead>\n",
       "  <tbody>\n",
       "    <tr>\n",
       "      <th>0</th>\n",
       "      <td>148</td>\n",
       "      <td>[65051219, 14631101, 3195315, 14957568]</td>\n",
       "      <td>4</td>\n",
       "    </tr>\n",
       "    <tr>\n",
       "      <th>1</th>\n",
       "      <td>36538</td>\n",
       "      <td>[57354452, 20686207, 41660921, 63987222, 63305...</td>\n",
       "      <td>32</td>\n",
       "    </tr>\n",
       "    <tr>\n",
       "      <th>2</th>\n",
       "      <td>41751</td>\n",
       "      <td>[60873111, 41811068]</td>\n",
       "      <td>2</td>\n",
       "    </tr>\n",
       "    <tr>\n",
       "      <th>3</th>\n",
       "      <td>49331</td>\n",
       "      <td>[45058971, 58571716]</td>\n",
       "      <td>2</td>\n",
       "    </tr>\n",
       "    <tr>\n",
       "      <th>4</th>\n",
       "      <td>73470</td>\n",
       "      <td>[49852791, 37445156]</td>\n",
       "      <td>2</td>\n",
       "    </tr>\n",
       "  </tbody>\n",
       "</table>\n",
       "</div>"
      ],
      "text/plain": [
       "   friend                                              users  users_size\n",
       "0     148            [65051219, 14631101, 3195315, 14957568]           4\n",
       "1   36538  [57354452, 20686207, 41660921, 63987222, 63305...          32\n",
       "2   41751                               [60873111, 41811068]           2\n",
       "3   49331                               [45058971, 58571716]           2\n",
       "4   73470                               [49852791, 37445156]           2"
      ]
     },
     "execution_count": 8,
     "metadata": {},
     "output_type": "execute_result"
    }
   ],
   "source": [
    "# sort the elements in the column “users” by the function sort_array\n",
    "# filter only the rows which have more than 1 element in the column “users”\n",
    "\n",
    "from pyspark.sql.functions import size, col\n",
    "\n",
    "db20 = db15.withColumn(\"users_size\", size(\"users\")).filter(col(\"users_size\") > 1)\n",
    "db20.limit(5).toPandas()"
   ]
  },
  {
   "cell_type": "code",
   "execution_count": 9,
   "metadata": {},
   "outputs": [
    {
     "data": {
      "text/html": [
       "<div>\n",
       "<table border=\"1\" class=\"dataframe\">\n",
       "  <thead>\n",
       "    <tr style=\"text-align: right;\">\n",
       "      <th></th>\n",
       "      <th>friend</th>\n",
       "      <th>users</th>\n",
       "      <th>users_size</th>\n",
       "      <th>uparis</th>\n",
       "    </tr>\n",
       "  </thead>\n",
       "  <tbody>\n",
       "    <tr>\n",
       "      <th>0</th>\n",
       "      <td>148</td>\n",
       "      <td>[65051219, 14631101, 3195315, 14957568]</td>\n",
       "      <td>4</td>\n",
       "      <td>[(14631101, 65051219), (14631101, 14957568), (...</td>\n",
       "    </tr>\n",
       "    <tr>\n",
       "      <th>1</th>\n",
       "      <td>36538</td>\n",
       "      <td>[57354452, 20686207, 41660921, 63987222, 63305...</td>\n",
       "      <td>32</td>\n",
       "      <td>[(57354452, 63987222), (57354452, 63305254), (...</td>\n",
       "    </tr>\n",
       "    <tr>\n",
       "      <th>2</th>\n",
       "      <td>41751</td>\n",
       "      <td>[60873111, 41811068]</td>\n",
       "      <td>2</td>\n",
       "      <td>[(41811068, 60873111)]</td>\n",
       "    </tr>\n",
       "    <tr>\n",
       "      <th>3</th>\n",
       "      <td>49331</td>\n",
       "      <td>[45058971, 58571716]</td>\n",
       "      <td>2</td>\n",
       "      <td>[(45058971, 58571716)]</td>\n",
       "    </tr>\n",
       "    <tr>\n",
       "      <th>4</th>\n",
       "      <td>73470</td>\n",
       "      <td>[49852791, 37445156]</td>\n",
       "      <td>2</td>\n",
       "      <td>[(37445156, 49852791)]</td>\n",
       "    </tr>\n",
       "  </tbody>\n",
       "</table>\n",
       "</div>"
      ],
      "text/plain": [
       "   friend                                              users  users_size  \\\n",
       "0     148            [65051219, 14631101, 3195315, 14957568]           4   \n",
       "1   36538  [57354452, 20686207, 41660921, 63987222, 63305...          32   \n",
       "2   41751                               [60873111, 41811068]           2   \n",
       "3   49331                               [45058971, 58571716]           2   \n",
       "4   73470                               [49852791, 37445156]           2   \n",
       "\n",
       "                                              uparis  \n",
       "0  [(14631101, 65051219), (14631101, 14957568), (...  \n",
       "1  [(57354452, 63987222), (57354452, 63305254), (...  \n",
       "2                             [(41811068, 60873111)]  \n",
       "3                             [(45058971, 58571716)]  \n",
       "4                             [(37445156, 49852791)]  "
      ]
     },
     "execution_count": 9,
     "metadata": {},
     "output_type": "execute_result"
    }
   ],
   "source": [
    "# for each row emit all possible ordered pairs of users from the column “users”\n",
    "\n",
    "from pyspark.sql.types import ArrayType, IntegerType, StructType, StructField\n",
    "from pyspark.sql.functions import udf\n",
    "\n",
    "upairType = StructType([\n",
    "    StructField(\"u1\", IntegerType()), StructField(\"u2\", IntegerType())\n",
    "])\n",
    "\n",
    "def user_pairs_func(users):\n",
    "    pairs = []\n",
    "    for u1 in users:\n",
    "        for u2 in users:\n",
    "            if u1 < u2:\n",
    "                pairs.append([u1, u2])\n",
    "    return pairs\n",
    "\n",
    "user_pairs_udf = udf(user_pairs_func, ArrayType(upairType))\n",
    "\n",
    "db25 = db20.withColumn('uparis', user_pairs_udf(col(\"users\")))\n",
    "db25.persist()\n",
    "db25.limit(5).toPandas()"
   ]
  },
  {
   "cell_type": "code",
   "execution_count": 10,
   "metadata": {},
   "outputs": [
    {
     "data": {
      "text/html": [
       "<div>\n",
       "<table border=\"1\" class=\"dataframe\">\n",
       "  <thead>\n",
       "    <tr style=\"text-align: right;\">\n",
       "      <th></th>\n",
       "      <th>friend</th>\n",
       "      <th>users</th>\n",
       "      <th>users_size</th>\n",
       "      <th>uparis</th>\n",
       "      <th>upair</th>\n",
       "    </tr>\n",
       "  </thead>\n",
       "  <tbody>\n",
       "    <tr>\n",
       "      <th>0</th>\n",
       "      <td>148</td>\n",
       "      <td>[65051219, 14631101, 3195315, 14957568]</td>\n",
       "      <td>4</td>\n",
       "      <td>[(14631101, 65051219), (14631101, 14957568), (...</td>\n",
       "      <td>(14631101, 65051219)</td>\n",
       "    </tr>\n",
       "    <tr>\n",
       "      <th>1</th>\n",
       "      <td>148</td>\n",
       "      <td>[65051219, 14631101, 3195315, 14957568]</td>\n",
       "      <td>4</td>\n",
       "      <td>[(14631101, 65051219), (14631101, 14957568), (...</td>\n",
       "      <td>(14631101, 14957568)</td>\n",
       "    </tr>\n",
       "    <tr>\n",
       "      <th>2</th>\n",
       "      <td>148</td>\n",
       "      <td>[65051219, 14631101, 3195315, 14957568]</td>\n",
       "      <td>4</td>\n",
       "      <td>[(14631101, 65051219), (14631101, 14957568), (...</td>\n",
       "      <td>(3195315, 65051219)</td>\n",
       "    </tr>\n",
       "    <tr>\n",
       "      <th>3</th>\n",
       "      <td>148</td>\n",
       "      <td>[65051219, 14631101, 3195315, 14957568]</td>\n",
       "      <td>4</td>\n",
       "      <td>[(14631101, 65051219), (14631101, 14957568), (...</td>\n",
       "      <td>(3195315, 14631101)</td>\n",
       "    </tr>\n",
       "    <tr>\n",
       "      <th>4</th>\n",
       "      <td>148</td>\n",
       "      <td>[65051219, 14631101, 3195315, 14957568]</td>\n",
       "      <td>4</td>\n",
       "      <td>[(14631101, 65051219), (14631101, 14957568), (...</td>\n",
       "      <td>(3195315, 14957568)</td>\n",
       "    </tr>\n",
       "  </tbody>\n",
       "</table>\n",
       "</div>"
      ],
      "text/plain": [
       "   friend                                    users  users_size  \\\n",
       "0     148  [65051219, 14631101, 3195315, 14957568]           4   \n",
       "1     148  [65051219, 14631101, 3195315, 14957568]           4   \n",
       "2     148  [65051219, 14631101, 3195315, 14957568]           4   \n",
       "3     148  [65051219, 14631101, 3195315, 14957568]           4   \n",
       "4     148  [65051219, 14631101, 3195315, 14957568]           4   \n",
       "\n",
       "                                              uparis                 upair  \n",
       "0  [(14631101, 65051219), (14631101, 14957568), (...  (14631101, 65051219)  \n",
       "1  [(14631101, 65051219), (14631101, 14957568), (...  (14631101, 14957568)  \n",
       "2  [(14631101, 65051219), (14631101, 14957568), (...   (3195315, 65051219)  \n",
       "3  [(14631101, 65051219), (14631101, 14957568), (...   (3195315, 14631101)  \n",
       "4  [(14631101, 65051219), (14631101, 14957568), (...   (3195315, 14957568)  "
      ]
     },
     "execution_count": 10,
     "metadata": {},
     "output_type": "execute_result"
    }
   ],
   "source": [
    "db30 = db25.withColumn(\"upair\", explode(\"uparis\"))\n",
    "db30.limit(5).toPandas()"
   ]
  },
  {
   "cell_type": "code",
   "execution_count": 11,
   "metadata": {},
   "outputs": [
    {
     "data": {
      "text/html": [
       "<div>\n",
       "<table border=\"1\" class=\"dataframe\">\n",
       "  <thead>\n",
       "    <tr style=\"text-align: right;\">\n",
       "      <th></th>\n",
       "      <th>upair</th>\n",
       "      <th>pairCnt</th>\n",
       "    </tr>\n",
       "  </thead>\n",
       "  <tbody>\n",
       "    <tr>\n",
       "      <th>0</th>\n",
       "      <td>(1823, 359870)</td>\n",
       "      <td>270</td>\n",
       "    </tr>\n",
       "    <tr>\n",
       "      <th>1</th>\n",
       "      <td>(1823, 675948)</td>\n",
       "      <td>70</td>\n",
       "    </tr>\n",
       "    <tr>\n",
       "      <th>2</th>\n",
       "      <td>(3094, 31823602)</td>\n",
       "      <td>202</td>\n",
       "    </tr>\n",
       "    <tr>\n",
       "      <th>3</th>\n",
       "      <td>(3094, 37723514)</td>\n",
       "      <td>747</td>\n",
       "    </tr>\n",
       "    <tr>\n",
       "      <th>4</th>\n",
       "      <td>(3094, 39021271)</td>\n",
       "      <td>398</td>\n",
       "    </tr>\n",
       "  </tbody>\n",
       "</table>\n",
       "</div>"
      ],
      "text/plain": [
       "              upair  pairCnt\n",
       "0    (1823, 359870)      270\n",
       "1    (1823, 675948)       70\n",
       "2  (3094, 31823602)      202\n",
       "3  (3094, 37723514)      747\n",
       "4  (3094, 39021271)      398"
      ]
     },
     "execution_count": 11,
     "metadata": {},
     "output_type": "execute_result"
    }
   ],
   "source": [
    "# count the number of times each pair has appeared\n",
    "\n",
    "from pyspark.sql.functions import count, lit\n",
    "\n",
    "db35 = db30.groupBy(\"upair\").agg(count(lit(1)).alias(\"pairCnt\"))\n",
    "db35.limit(5).toPandas()"
   ]
  },
  {
   "cell_type": "code",
   "execution_count": 12,
   "metadata": {},
   "outputs": [
    {
     "data": {
      "text/plain": [
       "DataFrame[upair: struct<u1:int,u2:int>, pairCnt: bigint]"
      ]
     },
     "execution_count": 12,
     "metadata": {},
     "output_type": "execute_result"
    }
   ],
   "source": [
    "db35.persist()"
   ]
  },
  {
   "cell_type": "code",
   "execution_count": 13,
   "metadata": {},
   "outputs": [],
   "source": [
    "# with the help of the window function (like in the demo python notebook)\n",
    "# select 49 pairs of users who have the biggest amount of common friends\n",
    "\n",
    "# This is in the demo notebook, I see no reason for window-function\n",
    "\"\"\"\n",
    "window = Window.orderBy(col(\"pairCnt\").desc())\n",
    "top49 = db35.withColumn(\"row_number\", row_number().over(window)) \\\n",
    "            .filter(col(\"row_number\") < 50) \\\n",
    "            .select(col(\"friend\"), col(\"users_size\")) \\\n",
    "            .orderBy(col(\"users_size\").desc()) \\\n",
    "            .collect()\n",
    "\"\"\"\n",
    "\n",
    "top49 = db35.orderBy(col(\"pairCnt\").desc()).take(49)"
   ]
  },
  {
   "cell_type": "code",
   "execution_count": 14,
   "metadata": {},
   "outputs": [
    {
     "name": "stdout",
     "output_type": "stream",
     "text": [
      "3206 27967558 42973992\n",
      "3130 20158643 42973992\n",
      "3066 22582764 42973992\n",
      "3044 21864412 51640390\n",
      "3021 17139850 51640390\n",
      "3010 14985079 51640390\n",
      "2970 17139850 21864412\n",
      "2913 20158643 27967558\n",
      "2903 22280814 51151280\n",
      "2870 23848749 51640390\n",
      "2855 20158643 22582764\n",
      "2849 20158643 44996025\n",
      "2846 22280814 42973992\n",
      "2784 21864412 23848749\n",
      "2779 31964081 51640390\n",
      "2776 39205988 51640390\n",
      "2754 17139850 23848749\n",
      "2749 22582764 27967558\n",
      "2728 50561859 51640390\n",
      "2724 15485897 51640390\n",
      "2700 28135661 42973992\n",
      "2655 22280814 27967558\n",
      "2653 42973992 43548989\n",
      "2639 26755857 51640390\n",
      "2621 14635589 51640390\n",
      "2608 15485897 17139850\n",
      "2606 17139850 26755857\n",
      "2601 21864412 39205988\n",
      "2600 8406745 51640390\n",
      "2599 37735419 51640390\n",
      "2597 20158643 28135661\n",
      "2585 40003405 42973992\n",
      "2585 21864412 31964081\n",
      "2581 27967558 43548989\n",
      "2579 23848749 31964081\n",
      "2578 15485897 21864412\n",
      "2578 27967558 28135661\n",
      "2577 42973992 64755069\n",
      "2574 51151280 57077210\n",
      "2573 20158643 43548989\n",
      "2566 21864412 26755857\n",
      "2564 22280814 64755069\n",
      "2561 42973992 44996025\n",
      "2556 17139850 39205988\n",
      "2543 23848749 39205988\n",
      "2521 17139850 31964081\n",
      "2515 27967558 44996025\n",
      "2506 41629539 51640390\n",
      "2505 51151280 64755069\n"
     ]
    }
   ],
   "source": [
    "for val in top49:\n",
    "    ((u1, u2), cnt) = val\n",
    "    print('%s %s %s' % (cnt, u1, u2))"
   ]
  },
  {
   "cell_type": "code",
   "execution_count": null,
   "metadata": {},
   "outputs": [],
   "source": []
  }
 ],
 "metadata": {
  "kernelspec": {
   "display_name": "Python 3",
   "language": "python",
   "name": "python3"
  },
  "language_info": {
   "codemirror_mode": {
    "name": "ipython",
    "version": 3
   },
   "file_extension": ".py",
   "mimetype": "text/x-python",
   "name": "python",
   "nbconvert_exporter": "python",
   "pygments_lexer": "ipython3",
   "version": "3.6.2"
  }
 },
 "nbformat": 4,
 "nbformat_minor": 2
}
