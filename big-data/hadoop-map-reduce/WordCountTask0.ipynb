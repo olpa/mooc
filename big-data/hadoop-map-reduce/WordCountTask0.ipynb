{
 "cells": [
  {
   "cell_type": "code",
   "execution_count": 1,
   "metadata": {},
   "outputs": [
    {
     "name": "stdout",
     "output_type": "stream",
     "text": [
      "Overwriting mapper.py\n"
     ]
    }
   ],
   "source": [
    "%%writefile mapper.py\n",
    "\n",
    "import sys\n",
    "import re\n",
    "\n",
    "reload(sys)\n",
    "sys.setdefaultencoding('utf-8') # required to convert to unicode\n",
    "\n",
    "for line in sys.stdin:\n",
    "    try:\n",
    "        article_id, text = unicode(line.strip()).split('\\t', 1)\n",
    "    except ValueError as e:\n",
    "        continue\n",
    "    words = re.split(\"\\W*\\s+\\W*\", text, flags=re.UNICODE)\n",
    "    for word in words:\n",
    "        print >> sys.stderr, \"reporter:counter:Wiki stats,Total words,%d\" % 1\n",
    "        print \"%s\\t%d\" % (word.lower(), 1)"
   ]
  },
  {
   "cell_type": "code",
   "execution_count": 2,
   "metadata": {},
   "outputs": [
    {
     "name": "stdout",
     "output_type": "stream",
     "text": [
      "Writing reducer.py\n"
     ]
    }
   ],
   "source": [
    "%%writefile reducer.py\n",
    "\n",
    "import sys\n",
    "\n",
    "current_key = None\n",
    "word_sum = 0"
   ]
  },
  {
   "cell_type": "code",
   "execution_count": 3,
   "metadata": {},
   "outputs": [
    {
     "name": "stdout",
     "output_type": "stream",
     "text": [
      "Appending to reducer.py\n"
     ]
    }
   ],
   "source": [
    "%%writefile -a reducer.py\n",
    "\n",
    "for line in sys.stdin:\n",
    "    try:\n",
    "        key, count = line.strip().split('\\t', 1)\n",
    "        count = int(count)\n",
    "    except ValueError as e:\n",
    "        continue\n",
    "    if current_key != key:\n",
    "        if current_key:\n",
    "            print \"%s\\t%d\" % (current_key, word_sum)\n",
    "        word_sum = 0\n",
    "        current_key = key\n",
    "    word_sum += count\n",
    "\n",
    "if current_key:\n",
    "    print \"%s\\t%d\" % (current_key, word_sum)"
   ]
  },
  {
   "cell_type": "code",
   "execution_count": 4,
   "metadata": {},
   "outputs": [
    {
     "name": "stdout",
     "output_type": "stream",
     "text": [
      "Found 1 items\r\n",
      "drwxrwxrwx   - jovyan supergroup          0 2017-11-28 21:41 /data/wiki/en_articles_part\r\n"
     ]
    }
   ],
   "source": [
    "! hdfs dfs -ls /data/wiki"
   ]
  },
  {
   "cell_type": "code",
   "execution_count": 5,
   "metadata": {},
   "outputs": [
    {
     "name": "stdout",
     "output_type": "stream",
     "text": [
      "0%however\t1\n",
      "0&\\mathrm{if\t1\n",
      "0(8)320-1234\t1\n",
      "0)).(1\t2\n",
      "0,03\t1\n",
      "0,1,...,n\t1\n",
      "0,1,0\t1\n",
      "0,1,\\dots,n\t1\n",
      "0,5\t1\n",
      "0,50\t1\n"
     ]
    },
    {
     "name": "stderr",
     "output_type": "stream",
     "text": [
      "rm: `wordcount_result_1561044947249984': No such file or directory\n",
      "19/06/20 15:35:50 INFO client.RMProxy: Connecting to ResourceManager at /0.0.0.0:8032\n",
      "19/06/20 15:35:50 INFO client.RMProxy: Connecting to ResourceManager at /0.0.0.0:8032\n",
      "19/06/20 15:35:52 INFO mapred.FileInputFormat: Total input files to process : 1\n",
      "19/06/20 15:35:52 INFO mapreduce.JobSubmitter: number of splits:2\n",
      "19/06/20 15:35:52 INFO mapreduce.JobSubmitter: Submitting tokens for job: job_1561044761244_0001\n",
      "19/06/20 15:35:53 INFO impl.YarnClientImpl: Submitted application application_1561044761244_0001\n",
      "19/06/20 15:35:53 INFO mapreduce.Job: The url to track the job: http://163b29ae87d3:8088/proxy/application_1561044761244_0001/\n",
      "19/06/20 15:35:53 INFO mapreduce.Job: Running job: job_1561044761244_0001\n",
      "19/06/20 15:35:59 INFO mapreduce.Job: Job job_1561044761244_0001 running in uber mode : false\n",
      "19/06/20 15:35:59 INFO mapreduce.Job:  map 0% reduce 0%\n",
      "19/06/20 15:36:15 INFO mapreduce.Job:  map 35% reduce 0%\n",
      "19/06/20 15:36:21 INFO mapreduce.Job:  map 46% reduce 0%\n",
      "19/06/20 15:36:27 INFO mapreduce.Job:  map 56% reduce 0%\n",
      "19/06/20 15:36:33 INFO mapreduce.Job:  map 67% reduce 0%\n",
      "19/06/20 15:36:35 INFO mapreduce.Job:  map 100% reduce 0%\n",
      "19/06/20 15:36:40 INFO mapreduce.Job:  map 100% reduce 13%\n",
      "19/06/20 15:36:41 INFO mapreduce.Job:  map 100% reduce 25%\n",
      "19/06/20 15:36:44 INFO mapreduce.Job:  map 100% reduce 38%\n",
      "19/06/20 15:36:45 INFO mapreduce.Job:  map 100% reduce 50%\n",
      "19/06/20 15:36:47 INFO mapreduce.Job:  map 100% reduce 63%\n",
      "19/06/20 15:36:48 INFO mapreduce.Job:  map 100% reduce 75%\n",
      "19/06/20 15:36:49 INFO mapreduce.Job:  map 100% reduce 100%\n",
      "19/06/20 15:36:50 INFO mapreduce.Job: Job job_1561044761244_0001 completed successfully\n",
      "19/06/20 15:36:50 INFO mapreduce.Job: Counters: 51\n",
      "\tFile System Counters\n",
      "\t\tFILE: Number of bytes read=17954826\n",
      "\t\tFILE: Number of bytes written=28258053\n",
      "\t\tFILE: Number of read operations=0\n",
      "\t\tFILE: Number of large read operations=0\n",
      "\t\tFILE: Number of write operations=0\n",
      "\t\tHDFS: Number of bytes read=76874501\n",
      "\t\tHDFS: Number of bytes written=5370513\n",
      "\t\tHDFS: Number of read operations=30\n",
      "\t\tHDFS: Number of large read operations=0\n",
      "\t\tHDFS: Number of write operations=16\n",
      "\tJob Counters \n",
      "\t\tKilled reduce tasks=1\n",
      "\t\tLaunched map tasks=2\n",
      "\t\tLaunched reduce tasks=8\n",
      "\t\tData-local map tasks=2\n",
      "\t\tTotal time spent by all maps in occupied slots (ms)=67749\n",
      "\t\tTotal time spent by all reduces in occupied slots (ms)=40077\n",
      "\t\tTotal time spent by all map tasks (ms)=67749\n",
      "\t\tTotal time spent by all reduce tasks (ms)=40077\n",
      "\t\tTotal vcore-milliseconds taken by all map tasks=67749\n",
      "\t\tTotal vcore-milliseconds taken by all reduce tasks=40077\n",
      "\t\tTotal megabyte-milliseconds taken by all map tasks=69374976\n",
      "\t\tTotal megabyte-milliseconds taken by all reduce tasks=41038848\n",
      "\tMap-Reduce Framework\n",
      "\t\tMap input records=4100\n",
      "\t\tMap output records=11937375\n",
      "\t\tMap output bytes=97842436\n",
      "\t\tMap output materialized bytes=8952763\n",
      "\t\tInput split bytes=228\n",
      "\t\tCombine input records=11937375\n",
      "\t\tCombine output records=640011\n",
      "\t\tReduce input groups=427175\n",
      "\t\tReduce shuffle bytes=8952763\n",
      "\t\tReduce input records=640011\n",
      "\t\tReduce output records=427175\n",
      "\t\tSpilled Records=1920033\n",
      "\t\tShuffled Maps =16\n",
      "\t\tFailed Shuffles=0\n",
      "\t\tMerged Map outputs=16\n",
      "\t\tGC time elapsed (ms)=1466\n",
      "\t\tCPU time spent (ms)=103780\n",
      "\t\tPhysical memory (bytes) snapshot=1960226816\n",
      "\t\tVirtual memory (bytes) snapshot=19663765504\n",
      "\t\tTotal committed heap usage (bytes)=1576534016\n",
      "\tShuffle Errors\n",
      "\t\tBAD_ID=0\n",
      "\t\tCONNECTION=0\n",
      "\t\tIO_ERROR=0\n",
      "\t\tWRONG_LENGTH=0\n",
      "\t\tWRONG_MAP=0\n",
      "\t\tWRONG_REDUCE=0\n",
      "\tWiki stats\n",
      "\t\tTotal words=11937375\n",
      "\tFile Input Format Counters \n",
      "\t\tBytes Read=76874273\n",
      "\tFile Output Format Counters \n",
      "\t\tBytes Written=5370513\n",
      "19/06/20 15:36:50 INFO streaming.StreamJob: Output directory: wordcount_result_1561044947249984\n",
      "cat: Unable to write to output stream.\n"
     ]
    }
   ],
   "source": [
    "%%bash\n",
    "\n",
    "OUT_DIR=\"wordcount_result_\"$(date +\"%s%6N\")\n",
    "NUM_REDUCERS=8\n",
    "\n",
    "hdfs dfs -rm -r -skipTrash ${OUT_DIR} > /dev/null\n",
    "\n",
    "yarn jar /opt/cloudera/parcels/CDH/lib/hadoop-mapreduce/hadoop-streaming.jar \\\n",
    "    -D mapred.jab.name=\"Streaming wordCount\" \\\n",
    "    -D mapreduce.job.reduces=${NUM_REDUCERS} \\\n",
    "    -files mapper.py,reducer.py \\\n",
    "    -mapper \"python mapper.py\" \\\n",
    "    -combiner \"python reducer.py\" \\\n",
    "    -reducer \"python reducer.py\" \\\n",
    "    -input /data/wiki/en_articles_part \\\n",
    "    -output ${OUT_DIR} > /dev/null\n",
    "\n",
    "hdfs dfs -cat ${OUT_DIR}/part-00000 | head"
   ]
  },
  {
   "cell_type": "code",
   "execution_count": null,
   "metadata": {
    "collapsed": true
   },
   "outputs": [],
   "source": []
  }
 ],
 "metadata": {
  "kernelspec": {
   "display_name": "Python 2",
   "language": "python",
   "name": "python2"
  },
  "language_info": {
   "codemirror_mode": {
    "name": "ipython",
    "version": 3
   },
   "file_extension": ".py",
   "mimetype": "text/x-python",
   "name": "python",
   "nbconvert_exporter": "python",
   "pygments_lexer": "ipython3",
   "version": "3.6.2"
  }
 },
 "nbformat": 4,
 "nbformat_minor": 2
}
