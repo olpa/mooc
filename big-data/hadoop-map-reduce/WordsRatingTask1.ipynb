{
 "cells": [
  {
   "cell_type": "markdown",
   "metadata": {
    "colab_type": "text",
    "id": "Ebk-YqgqEOw1"
   },
   "source": [
    "# Hadoop Streaming assignment 1: Words Rating"
   ]
  },
  {
   "cell_type": "markdown",
   "metadata": {
    "colab_type": "text",
    "id": "XDLjl7hGEOw2"
   },
   "source": [
    "The purpose of this task is to create your own WordCount program for Wikipedia dump processing and learn basic concepts of the MapReduce.\n",
    "\n",
    "In this task you have to find the 7th word by popularity and its quantity in the reverse order (most popular first) in Wikipedia data (`/data/wiki/en_articles_part`).\n",
    "\n",
    "There are several points for this task:\n",
    "\n",
    "1) As an output, you have to get the 7th word and its quantity separated by a tab character.\n",
    "\n",
    "2) You must use the second job to obtain a totally ordered result.\n",
    "\n",
    "3) Do not forget to redirect all trash and output to /dev/null.\n",
    "\n",
    "Here you can find the draft of the task main steps. You can use other methods for solution obtaining."
   ]
  },
  {
   "cell_type": "markdown",
   "metadata": {
    "colab_type": "text",
    "id": "lIUikVIDEOw2"
   },
   "source": [
    "## Step 1. Create mapper and reducer.\n",
    "\n",
    "<b>Hint:</b>  Demo task contains almost all the necessary pieces to complete this assignment. You may use the demo to implement the first MapReduce Job."
   ]
  },
  {
   "cell_type": "code",
   "execution_count": 1,
   "metadata": {
    "colab": {
     "autoexec": {
      "startup": false,
      "wait_interval": 0
     }
    },
    "colab_type": "code",
    "id": "A7T5mxDwEOw4"
   },
   "outputs": [
    {
     "name": "stdout",
     "output_type": "stream",
     "text": [
      "Overwriting mapper1.py\n"
     ]
    }
   ],
   "source": [
    "%%writefile mapper1.py\n",
    "\n",
    "import sys\n",
    "import re\n",
    "\n",
    "reload(sys)\n",
    "sys.setdefaultencoding('utf-8') # required to convert to unicode\n",
    "\n",
    "for line in sys.stdin:\n",
    "    try:\n",
    "        article_id, text = unicode(line.strip()).split('\\t', 1)\n",
    "    except ValueError as e:\n",
    "        continue\n",
    "    words = re.split(\"\\W*\\s+\\W*\", text, flags=re.UNICODE)\n",
    "    for word in words:\n",
    "        print >> sys.stderr, \"reporter:counter:Wiki stats,Total words,%d\" % 1\n",
    "        print \"%s\\t%d\" % (word.lower(), 1)"
   ]
  },
  {
   "cell_type": "code",
   "execution_count": 2,
   "metadata": {
    "colab": {
     "autoexec": {
      "startup": false,
      "wait_interval": 0
     }
    },
    "colab_type": "code",
    "id": "oE8KFKqpEOw5"
   },
   "outputs": [
    {
     "name": "stdout",
     "output_type": "stream",
     "text": [
      "Overwriting reducer1.py\n"
     ]
    }
   ],
   "source": [
    "%%writefile reducer1.py\n",
    "\n",
    "import sys\n",
    "\n",
    "current_key = None\n",
    "word_sum = 0\n",
    "\n",
    "for line in sys.stdin:\n",
    "    try:\n",
    "        key, count = line.strip().split('\\t', 1)\n",
    "        count = int(count)\n",
    "    except ValueError as e:\n",
    "        continue\n",
    "    if current_key != key:\n",
    "        if current_key:\n",
    "            print \"%s\\t%d\" % (current_key, word_sum)\n",
    "        word_sum = 0\n",
    "        current_key = key\n",
    "    word_sum += count\n",
    "\n",
    "if current_key:\n",
    "    print \"%s\\t%d\" % (current_key, word_sum)"
   ]
  },
  {
   "cell_type": "code",
   "execution_count": null,
   "metadata": {
    "colab": {
     "autoexec": {
      "startup": false,
      "wait_interval": 0
     }
    },
    "colab_type": "code",
    "id": "LJtc3_u0uXSz"
   },
   "outputs": [],
   "source": [
    "\n"
   ]
  },
  {
   "cell_type": "markdown",
   "metadata": {
    "colab_type": "text",
    "id": "KYZpcwY9EOw6"
   },
   "source": [
    "## Step 2. Create sort job.\n",
    "\n",
    "<b>Hint:</b> You may use MapReduce comparator to solve this step. Make sure that the keys are sorted in ascending order."
   ]
  },
  {
   "cell_type": "code",
   "execution_count": null,
   "metadata": {
    "colab": {
     "autoexec": {
      "startup": false,
      "wait_interval": 0
     }
    },
    "colab_type": "code",
    "id": "g-NMzQ79EOw7"
   },
   "outputs": [],
   "source": []
  },
  {
   "cell_type": "code",
   "execution_count": null,
   "metadata": {
    "colab": {
     "autoexec": {
      "startup": false,
      "wait_interval": 0
     }
    },
    "colab_type": "code",
    "id": "qs6SKs7wO4be"
   },
   "outputs": [],
   "source": []
  },
  {
   "cell_type": "markdown",
   "metadata": {
    "colab_type": "text",
    "id": "4OBE81GZEOw8"
   },
   "source": [
    "## Step 3. Bash commands\n",
    "\n",
    "<b> Hint: </b> For printing the exact row you may use basic UNIX commands. For instance, sed/head/tail/... (if you know other commands, you can use them).\n",
    "\n",
    "To run both jobs, you must use two consecutive yarn-commands. Remember that the input for the second job is the ouput for the first job."
   ]
  },
  {
   "cell_type": "code",
   "execution_count": 3,
   "metadata": {},
   "outputs": [
    {
     "name": "stderr",
     "output_type": "stream",
     "text": [
      "19/06/22 14:12:47 INFO client.RMProxy: Connecting to ResourceManager at /0.0.0.0:8032\n",
      "19/06/22 14:12:47 INFO client.RMProxy: Connecting to ResourceManager at /0.0.0.0:8032\n",
      "19/06/22 14:12:48 INFO mapred.FileInputFormat: Total input files to process : 1\n",
      "19/06/22 14:12:48 INFO mapreduce.JobSubmitter: number of splits:2\n",
      "19/06/22 14:12:49 INFO mapreduce.JobSubmitter: Submitting tokens for job: job_1561045447920_0042\n",
      "19/06/22 14:12:49 INFO impl.YarnClientImpl: Submitted application application_1561045447920_0042\n",
      "19/06/22 14:12:49 INFO mapreduce.Job: The url to track the job: http://0de65cec5c1c:8088/proxy/application_1561045447920_0042/\n",
      "19/06/22 14:12:49 INFO mapreduce.Job: Running job: job_1561045447920_0042\n",
      "19/06/22 14:12:54 INFO mapreduce.Job: Job job_1561045447920_0042 running in uber mode : false\n",
      "19/06/22 14:12:54 INFO mapreduce.Job:  map 0% reduce 0%\n",
      "19/06/22 14:13:10 INFO mapreduce.Job:  map 32% reduce 0%\n",
      "19/06/22 14:13:16 INFO mapreduce.Job:  map 44% reduce 0%\n",
      "19/06/22 14:13:22 INFO mapreduce.Job:  map 61% reduce 0%\n",
      "19/06/22 14:13:28 INFO mapreduce.Job:  map 84% reduce 0%\n",
      "19/06/22 14:13:29 INFO mapreduce.Job:  map 100% reduce 0%\n",
      "19/06/22 14:13:40 INFO mapreduce.Job:  map 100% reduce 13%\n",
      "19/06/22 14:13:43 INFO mapreduce.Job:  map 100% reduce 38%\n",
      "19/06/22 14:13:45 INFO mapreduce.Job:  map 100% reduce 50%\n",
      "19/06/22 14:13:46 INFO mapreduce.Job:  map 100% reduce 75%\n",
      "19/06/22 14:13:49 INFO mapreduce.Job:  map 100% reduce 100%\n",
      "19/06/22 14:13:50 INFO mapreduce.Job: Job job_1561045447920_0042 completed successfully\n",
      "19/06/22 14:13:50 INFO mapreduce.Job: Counters: 51\n",
      "\tFile System Counters\n",
      "\t\tFILE: Number of bytes read=243475435\n",
      "\t\tFILE: Number of bytes written=366548370\n",
      "\t\tFILE: Number of read operations=0\n",
      "\t\tFILE: Number of large read operations=0\n",
      "\t\tFILE: Number of write operations=0\n",
      "\t\tHDFS: Number of bytes read=76874501\n",
      "\t\tHDFS: Number of bytes written=5370513\n",
      "\t\tHDFS: Number of read operations=30\n",
      "\t\tHDFS: Number of large read operations=0\n",
      "\t\tHDFS: Number of write operations=16\n",
      "\tJob Counters \n",
      "\t\tKilled reduce tasks=1\n",
      "\t\tLaunched map tasks=2\n",
      "\t\tLaunched reduce tasks=8\n",
      "\t\tData-local map tasks=2\n",
      "\t\tTotal time spent by all maps in occupied slots (ms)=66450\n",
      "\t\tTotal time spent by all reduces in occupied slots (ms)=68179\n",
      "\t\tTotal time spent by all map tasks (ms)=66450\n",
      "\t\tTotal time spent by all reduce tasks (ms)=68179\n",
      "\t\tTotal vcore-milliseconds taken by all map tasks=66450\n",
      "\t\tTotal vcore-milliseconds taken by all reduce tasks=68179\n",
      "\t\tTotal megabyte-milliseconds taken by all map tasks=68044800\n",
      "\t\tTotal megabyte-milliseconds taken by all reduce tasks=69815296\n",
      "\tMap-Reduce Framework\n",
      "\t\tMap input records=4100\n",
      "\t\tMap output records=11937375\n",
      "\t\tMap output bytes=97842436\n",
      "\t\tMap output materialized bytes=121717292\n",
      "\t\tInput split bytes=228\n",
      "\t\tCombine input records=0\n",
      "\t\tCombine output records=0\n",
      "\t\tReduce input groups=427176\n",
      "\t\tReduce shuffle bytes=121717292\n",
      "\t\tReduce input records=11937375\n",
      "\t\tReduce output records=427175\n",
      "\t\tSpilled Records=35812125\n",
      "\t\tShuffled Maps =16\n",
      "\t\tFailed Shuffles=0\n",
      "\t\tMerged Map outputs=16\n",
      "\t\tGC time elapsed (ms)=1598\n",
      "\t\tCPU time spent (ms)=120730\n",
      "\t\tPhysical memory (bytes) snapshot=1992253440\n",
      "\t\tVirtual memory (bytes) snapshot=19679260672\n",
      "\t\tTotal committed heap usage (bytes)=1561853952\n",
      "\tShuffle Errors\n",
      "\t\tBAD_ID=0\n",
      "\t\tCONNECTION=0\n",
      "\t\tIO_ERROR=0\n",
      "\t\tWRONG_LENGTH=0\n",
      "\t\tWRONG_MAP=0\n",
      "\t\tWRONG_REDUCE=0\n",
      "\tWiki stats\n",
      "\t\tTotal words=11937375\n",
      "\tFile Input Format Counters \n",
      "\t\tBytes Read=76874273\n",
      "\tFile Output Format Counters \n",
      "\t\tBytes Written=5370513\n",
      "19/06/22 14:13:50 INFO streaming.StreamJob: Output directory: assignment1_step1\n"
     ]
    }
   ],
   "source": [
    "%%bash\n",
    "\n",
    "hdfs dfs -rm -r -skipTrash assignment1_step1 > /dev/null\n",
    "\n",
    "yarn jar /opt/cloudera/parcels/CDH/lib/hadoop-mapreduce/hadoop-streaming.jar \\\n",
    "    -D mapred.jab.name=\"Streaming wordCount 1a\" \\\n",
    "    -D mapreduce.job.reduces=8 \\\n",
    "    -files mapper1.py,reducer1.py \\\n",
    "    -mapper \"python mapper1.py\" \\\n",
    "    -reducer \"python reducer1.py\" \\\n",
    "    -input /data/wiki/en_articles_part \\\n",
    "    -output assignment1_step1 > /dev/null 2>yarn1\n",
    "cat yarn1 >/dev/stderr"
   ]
  },
  {
   "cell_type": "code",
   "execution_count": 4,
   "metadata": {},
   "outputs": [],
   "source": [
    "# %%bash\n",
    "\n",
    "# hdfs dfs -cat assignment1_step1/part-00000 | head"
   ]
  },
  {
   "cell_type": "markdown",
   "metadata": {},
   "source": [
    "# Sort task"
   ]
  },
  {
   "cell_type": "code",
   "execution_count": 5,
   "metadata": {},
   "outputs": [
    {
     "name": "stdout",
     "output_type": "stream",
     "text": [
      "Overwriting swap1.py\n"
     ]
    }
   ],
   "source": [
    "%%writefile swap1.py\n",
    "\n",
    "import sys\n",
    "\n",
    "for line in sys.stdin:\n",
    "    word, freq = line.strip().split('\\t', 1)\n",
    "    print \"%s\\t%s\" % (freq, word)"
   ]
  },
  {
   "cell_type": "code",
   "execution_count": 6,
   "metadata": {
    "colab": {
     "autoexec": {
      "startup": false,
      "wait_interval": 0
     }
    },
    "colab_type": "code",
    "id": "1q9NczdIEOw9"
   },
   "outputs": [
    {
     "name": "stderr",
     "output_type": "stream",
     "text": [
      "rm: `assignment1_step2': No such file or directory\n",
      "19/06/22 14:13:54 INFO client.RMProxy: Connecting to ResourceManager at /0.0.0.0:8032\n",
      "19/06/22 14:13:54 INFO client.RMProxy: Connecting to ResourceManager at /0.0.0.0:8032\n",
      "19/06/22 14:13:54 INFO mapred.FileInputFormat: Total input files to process : 8\n",
      "19/06/22 14:13:54 INFO mapreduce.JobSubmitter: number of splits:8\n",
      "19/06/22 14:13:55 INFO Configuration.deprecation: mapred.text.key.comparator.options is deprecated. Instead, use mapreduce.partition.keycomparator.options\n",
      "19/06/22 14:13:55 INFO Configuration.deprecation: mapred.output.key.comparator.class is deprecated. Instead, use mapreduce.job.output.key.comparator.class\n",
      "19/06/22 14:13:55 INFO mapreduce.JobSubmitter: Submitting tokens for job: job_1561045447920_0043\n",
      "19/06/22 14:13:55 INFO impl.YarnClientImpl: Submitted application application_1561045447920_0043\n",
      "19/06/22 14:13:55 INFO mapreduce.Job: The url to track the job: http://0de65cec5c1c:8088/proxy/application_1561045447920_0043/\n",
      "19/06/22 14:13:55 INFO mapreduce.Job: Running job: job_1561045447920_0043\n",
      "19/06/22 14:14:01 INFO mapreduce.Job: Job job_1561045447920_0043 running in uber mode : false\n",
      "19/06/22 14:14:01 INFO mapreduce.Job:  map 0% reduce 0%\n",
      "19/06/22 14:14:09 INFO mapreduce.Job:  map 25% reduce 0%\n",
      "19/06/22 14:14:10 INFO mapreduce.Job:  map 75% reduce 0%\n",
      "19/06/22 14:14:14 INFO mapreduce.Job:  map 100% reduce 0%\n",
      "19/06/22 14:14:15 INFO mapreduce.Job:  map 100% reduce 100%\n",
      "19/06/22 14:14:16 INFO mapreduce.Job: Job job_1561045447920_0043 completed successfully\n",
      "19/06/22 14:14:16 INFO mapreduce.Job: Counters: 49\n",
      "\tFile System Counters\n",
      "\t\tFILE: Number of bytes read=6224888\n",
      "\t\tFILE: Number of bytes written=13706865\n",
      "\t\tFILE: Number of read operations=0\n",
      "\t\tFILE: Number of large read operations=0\n",
      "\t\tFILE: Number of write operations=0\n",
      "\t\tHDFS: Number of bytes read=5371425\n",
      "\t\tHDFS: Number of bytes written=5370513\n",
      "\t\tHDFS: Number of read operations=27\n",
      "\t\tHDFS: Number of large read operations=0\n",
      "\t\tHDFS: Number of write operations=2\n",
      "\tJob Counters \n",
      "\t\tLaunched map tasks=8\n",
      "\t\tLaunched reduce tasks=1\n",
      "\t\tData-local map tasks=8\n",
      "\t\tTotal time spent by all maps in occupied slots (ms)=48879\n",
      "\t\tTotal time spent by all reduces in occupied slots (ms)=3792\n",
      "\t\tTotal time spent by all map tasks (ms)=48879\n",
      "\t\tTotal time spent by all reduce tasks (ms)=3792\n",
      "\t\tTotal vcore-milliseconds taken by all map tasks=48879\n",
      "\t\tTotal vcore-milliseconds taken by all reduce tasks=3792\n",
      "\t\tTotal megabyte-milliseconds taken by all map tasks=50052096\n",
      "\t\tTotal megabyte-milliseconds taken by all reduce tasks=3883008\n",
      "\tMap-Reduce Framework\n",
      "\t\tMap input records=427175\n",
      "\t\tMap output records=427175\n",
      "\t\tMap output bytes=5370522\n",
      "\t\tMap output materialized bytes=6224930\n",
      "\t\tInput split bytes=912\n",
      "\t\tCombine input records=0\n",
      "\t\tCombine output records=0\n",
      "\t\tReduce input groups=2075\n",
      "\t\tReduce shuffle bytes=6224930\n",
      "\t\tReduce input records=427175\n",
      "\t\tReduce output records=427175\n",
      "\t\tSpilled Records=854350\n",
      "\t\tShuffled Maps =8\n",
      "\t\tFailed Shuffles=0\n",
      "\t\tMerged Map outputs=8\n",
      "\t\tGC time elapsed (ms)=1077\n",
      "\t\tCPU time spent (ms)=9340\n",
      "\t\tPhysical memory (bytes) snapshot=2369024000\n",
      "\t\tVirtual memory (bytes) snapshot=17647697920\n",
      "\t\tTotal committed heap usage (bytes)=1752694784\n",
      "\tShuffle Errors\n",
      "\t\tBAD_ID=0\n",
      "\t\tCONNECTION=0\n",
      "\t\tIO_ERROR=0\n",
      "\t\tWRONG_LENGTH=0\n",
      "\t\tWRONG_MAP=0\n",
      "\t\tWRONG_REDUCE=0\n",
      "\tFile Input Format Counters \n",
      "\t\tBytes Read=5370513\n",
      "\tFile Output Format Counters \n",
      "\t\tBytes Written=5370513\n",
      "19/06/22 14:14:16 INFO streaming.StreamJob: Output directory: assignment1_step2\n"
     ]
    }
   ],
   "source": [
    "%%bash\n",
    "\n",
    "hdfs dfs -rm -r -skipTrash assignment1_step2 > /dev/null\n",
    "\n",
    "yarn jar /opt/cloudera/parcels/CDH/lib/hadoop-mapreduce/hadoop-streaming.jar \\\n",
    "    -D mapred.jab.name=\"Streaming wordCount 1b\" \\\n",
    "    -D mapreduce.job.reduces=1 \\\n",
    "    -D mapred.output.key.comparator.class=org.apache.hadoop.mapred.lib.KeyFieldBasedComparator \\\n",
    "    -D mapred.text.key.comparator.options=-nr \\\n",
    "    -files swap1.py \\\n",
    "    -mapper \"python swap1.py\" \\\n",
    "    -reducer \"python swap1.py\" \\\n",
    "    -input assignment1_step1 \\\n",
    "    -output assignment1_step2 > /dev/null 2>yarn2\n",
    "cat yarn2 >/dev/stderr\n"
   ]
  },
  {
   "cell_type": "code",
   "execution_count": 7,
   "metadata": {},
   "outputs": [
    {
     "name": "stdout",
     "output_type": "stream",
     "text": [
      "is\t126420\n"
     ]
    },
    {
     "name": "stderr",
     "output_type": "stream",
     "text": [
      "19/06/22 14:12:47 INFO client.RMProxy: Connecting to ResourceManager at /0.0.0.0:8032\n",
      "19/06/22 14:12:47 INFO client.RMProxy: Connecting to ResourceManager at /0.0.0.0:8032\n",
      "19/06/22 14:12:48 INFO mapred.FileInputFormat: Total input files to process : 1\n",
      "19/06/22 14:12:48 INFO mapreduce.JobSubmitter: number of splits:2\n",
      "19/06/22 14:12:49 INFO mapreduce.JobSubmitter: Submitting tokens for job: job_1561045447920_0042\n",
      "19/06/22 14:12:49 INFO impl.YarnClientImpl: Submitted application application_1561045447920_0042\n",
      "19/06/22 14:12:49 INFO mapreduce.Job: The url to track the job: http://0de65cec5c1c:8088/proxy/application_1561045447920_0042/\n",
      "19/06/22 14:12:49 INFO mapreduce.Job: Running job: job_1561045447920_0042\n",
      "19/06/22 14:12:54 INFO mapreduce.Job: Job job_1561045447920_0042 running in uber mode : false\n",
      "19/06/22 14:12:54 INFO mapreduce.Job:  map 0% reduce 0%\n",
      "19/06/22 14:13:10 INFO mapreduce.Job:  map 32% reduce 0%\n",
      "19/06/22 14:13:16 INFO mapreduce.Job:  map 44% reduce 0%\n",
      "19/06/22 14:13:22 INFO mapreduce.Job:  map 61% reduce 0%\n",
      "19/06/22 14:13:28 INFO mapreduce.Job:  map 84% reduce 0%\n",
      "19/06/22 14:13:29 INFO mapreduce.Job:  map 100% reduce 0%\n",
      "19/06/22 14:13:40 INFO mapreduce.Job:  map 100% reduce 13%\n",
      "19/06/22 14:13:43 INFO mapreduce.Job:  map 100% reduce 38%\n",
      "19/06/22 14:13:45 INFO mapreduce.Job:  map 100% reduce 50%\n",
      "19/06/22 14:13:46 INFO mapreduce.Job:  map 100% reduce 75%\n",
      "19/06/22 14:13:49 INFO mapreduce.Job:  map 100% reduce 100%\n",
      "19/06/22 14:13:50 INFO mapreduce.Job: Job job_1561045447920_0042 completed successfully\n",
      "19/06/22 14:13:50 INFO mapreduce.Job: Counters: 51\n",
      "\tFile System Counters\n",
      "\t\tFILE: Number of bytes read=243475435\n",
      "\t\tFILE: Number of bytes written=366548370\n",
      "\t\tFILE: Number of read operations=0\n",
      "\t\tFILE: Number of large read operations=0\n",
      "\t\tFILE: Number of write operations=0\n",
      "\t\tHDFS: Number of bytes read=76874501\n",
      "\t\tHDFS: Number of bytes written=5370513\n",
      "\t\tHDFS: Number of read operations=30\n",
      "\t\tHDFS: Number of large read operations=0\n",
      "\t\tHDFS: Number of write operations=16\n",
      "\tJob Counters \n",
      "\t\tKilled reduce tasks=1\n",
      "\t\tLaunched map tasks=2\n",
      "\t\tLaunched reduce tasks=8\n",
      "\t\tData-local map tasks=2\n",
      "\t\tTotal time spent by all maps in occupied slots (ms)=66450\n",
      "\t\tTotal time spent by all reduces in occupied slots (ms)=68179\n",
      "\t\tTotal time spent by all map tasks (ms)=66450\n",
      "\t\tTotal time spent by all reduce tasks (ms)=68179\n",
      "\t\tTotal vcore-milliseconds taken by all map tasks=66450\n",
      "\t\tTotal vcore-milliseconds taken by all reduce tasks=68179\n",
      "\t\tTotal megabyte-milliseconds taken by all map tasks=68044800\n",
      "\t\tTotal megabyte-milliseconds taken by all reduce tasks=69815296\n",
      "\tMap-Reduce Framework\n",
      "\t\tMap input records=4100\n",
      "\t\tMap output records=11937375\n",
      "\t\tMap output bytes=97842436\n",
      "\t\tMap output materialized bytes=121717292\n",
      "\t\tInput split bytes=228\n",
      "\t\tCombine input records=0\n",
      "\t\tCombine output records=0\n",
      "\t\tReduce input groups=427176\n",
      "\t\tReduce shuffle bytes=121717292\n",
      "\t\tReduce input records=11937375\n",
      "\t\tReduce output records=427175\n",
      "\t\tSpilled Records=35812125\n",
      "\t\tShuffled Maps =16\n",
      "\t\tFailed Shuffles=0\n",
      "\t\tMerged Map outputs=16\n",
      "\t\tGC time elapsed (ms)=1598\n",
      "\t\tCPU time spent (ms)=120730\n",
      "\t\tPhysical memory (bytes) snapshot=1992253440\n",
      "\t\tVirtual memory (bytes) snapshot=19679260672\n",
      "\t\tTotal committed heap usage (bytes)=1561853952\n",
      "\tShuffle Errors\n",
      "\t\tBAD_ID=0\n",
      "\t\tCONNECTION=0\n",
      "\t\tIO_ERROR=0\n",
      "\t\tWRONG_LENGTH=0\n",
      "\t\tWRONG_MAP=0\n",
      "\t\tWRONG_REDUCE=0\n",
      "\tWiki stats\n",
      "\t\tTotal words=11937375\n",
      "\tFile Input Format Counters \n",
      "\t\tBytes Read=76874273\n",
      "\tFile Output Format Counters \n",
      "\t\tBytes Written=5370513\n",
      "19/06/22 14:13:50 INFO streaming.StreamJob: Output directory: assignment1_step1\n",
      "19/06/22 14:13:54 INFO client.RMProxy: Connecting to ResourceManager at /0.0.0.0:8032\n",
      "19/06/22 14:13:54 INFO client.RMProxy: Connecting to ResourceManager at /0.0.0.0:8032\n",
      "19/06/22 14:13:54 INFO mapred.FileInputFormat: Total input files to process : 8\n",
      "19/06/22 14:13:54 INFO mapreduce.JobSubmitter: number of splits:8\n",
      "19/06/22 14:13:55 INFO Configuration.deprecation: mapred.text.key.comparator.options is deprecated. Instead, use mapreduce.partition.keycomparator.options\n",
      "19/06/22 14:13:55 INFO Configuration.deprecation: mapred.output.key.comparator.class is deprecated. Instead, use mapreduce.job.output.key.comparator.class\n",
      "19/06/22 14:13:55 INFO mapreduce.JobSubmitter: Submitting tokens for job: job_1561045447920_0043\n",
      "19/06/22 14:13:55 INFO impl.YarnClientImpl: Submitted application application_1561045447920_0043\n",
      "19/06/22 14:13:55 INFO mapreduce.Job: The url to track the job: http://0de65cec5c1c:8088/proxy/application_1561045447920_0043/\n",
      "19/06/22 14:13:55 INFO mapreduce.Job: Running job: job_1561045447920_0043\n",
      "19/06/22 14:14:01 INFO mapreduce.Job: Job job_1561045447920_0043 running in uber mode : false\n",
      "19/06/22 14:14:01 INFO mapreduce.Job:  map 0% reduce 0%\n",
      "19/06/22 14:14:09 INFO mapreduce.Job:  map 25% reduce 0%\n",
      "19/06/22 14:14:10 INFO mapreduce.Job:  map 75% reduce 0%\n",
      "19/06/22 14:14:14 INFO mapreduce.Job:  map 100% reduce 0%\n",
      "19/06/22 14:14:15 INFO mapreduce.Job:  map 100% reduce 100%\n",
      "19/06/22 14:14:16 INFO mapreduce.Job: Job job_1561045447920_0043 completed successfully\n",
      "19/06/22 14:14:16 INFO mapreduce.Job: Counters: 49\n",
      "\tFile System Counters\n",
      "\t\tFILE: Number of bytes read=6224888\n",
      "\t\tFILE: Number of bytes written=13706865\n",
      "\t\tFILE: Number of read operations=0\n",
      "\t\tFILE: Number of large read operations=0\n",
      "\t\tFILE: Number of write operations=0\n",
      "\t\tHDFS: Number of bytes read=5371425\n",
      "\t\tHDFS: Number of bytes written=5370513\n",
      "\t\tHDFS: Number of read operations=27\n",
      "\t\tHDFS: Number of large read operations=0\n",
      "\t\tHDFS: Number of write operations=2\n",
      "\tJob Counters \n",
      "\t\tLaunched map tasks=8\n",
      "\t\tLaunched reduce tasks=1\n",
      "\t\tData-local map tasks=8\n",
      "\t\tTotal time spent by all maps in occupied slots (ms)=48879\n",
      "\t\tTotal time spent by all reduces in occupied slots (ms)=3792\n",
      "\t\tTotal time spent by all map tasks (ms)=48879\n",
      "\t\tTotal time spent by all reduce tasks (ms)=3792\n",
      "\t\tTotal vcore-milliseconds taken by all map tasks=48879\n",
      "\t\tTotal vcore-milliseconds taken by all reduce tasks=3792\n",
      "\t\tTotal megabyte-milliseconds taken by all map tasks=50052096\n",
      "\t\tTotal megabyte-milliseconds taken by all reduce tasks=3883008\n",
      "\tMap-Reduce Framework\n",
      "\t\tMap input records=427175\n",
      "\t\tMap output records=427175\n",
      "\t\tMap output bytes=5370522\n",
      "\t\tMap output materialized bytes=6224930\n",
      "\t\tInput split bytes=912\n",
      "\t\tCombine input records=0\n",
      "\t\tCombine output records=0\n",
      "\t\tReduce input groups=2075\n",
      "\t\tReduce shuffle bytes=6224930\n",
      "\t\tReduce input records=427175\n",
      "\t\tReduce output records=427175\n",
      "\t\tSpilled Records=854350\n",
      "\t\tShuffled Maps =8\n",
      "\t\tFailed Shuffles=0\n",
      "\t\tMerged Map outputs=8\n",
      "\t\tGC time elapsed (ms)=1077\n",
      "\t\tCPU time spent (ms)=9340\n",
      "\t\tPhysical memory (bytes) snapshot=2369024000\n",
      "\t\tVirtual memory (bytes) snapshot=17647697920\n",
      "\t\tTotal committed heap usage (bytes)=1752694784\n",
      "\tShuffle Errors\n",
      "\t\tBAD_ID=0\n",
      "\t\tCONNECTION=0\n",
      "\t\tIO_ERROR=0\n",
      "\t\tWRONG_LENGTH=0\n",
      "\t\tWRONG_MAP=0\n",
      "\t\tWRONG_REDUCE=0\n",
      "\tFile Input Format Counters \n",
      "\t\tBytes Read=5370513\n",
      "\tFile Output Format Counters \n",
      "\t\tBytes Written=5370513\n",
      "19/06/22 14:14:16 INFO streaming.StreamJob: Output directory: assignment1_step2\n",
      "cat: Unable to write to output stream.\n"
     ]
    }
   ],
   "source": [
    "%%bash\n",
    "\n",
    "cat yarn1 >/dev/stderr\n",
    "cat yarn2 >/dev/stderr\n",
    "\n",
    "hdfs dfs -cat assignment1_step2/part-00000 | sed -n '7p;8q'"
   ]
  },
  {
   "cell_type": "code",
   "execution_count": null,
   "metadata": {},
   "outputs": [],
   "source": []
  }
 ],
 "metadata": {
  "colab": {
   "collapsed_sections": [],
   "default_view": {},
   "name": "701_to_students.ipynb",
   "provenance": [],
   "version": "0.3.2",
   "views": {}
  },
  "kernelspec": {
   "display_name": "Python 2",
   "language": "python",
   "name": "python2"
  },
  "language_info": {
   "codemirror_mode": {
    "name": "ipython",
    "version": 3
   },
   "file_extension": ".py",
   "mimetype": "text/x-python",
   "name": "python",
   "nbconvert_exporter": "python",
   "pygments_lexer": "ipython3",
   "version": "3.6.2"
  }
 },
 "nbformat": 4,
 "nbformat_minor": 1
}
