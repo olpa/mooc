{
 "cells": [
  {
   "cell_type": "markdown",
   "metadata": {
    "colab_type": "text",
    "id": "ZfiL39OTJ5sR"
   },
   "source": [
    "# Hive Assignment 3. DML: Calculate Amount of Posts per User Age\n",
    "\n",
    "Use Hive to complete the following task. Input tables was described in Hive Task1 and Hive Task2.\n",
    "\n",
    "Calculate number of questions and answers depending on users' age. Use аge from 'users' table, filter out users if their age is undefined. Output format:\n",
    "\n",
    "    age <tab> number of questions <tab> number of answers\n",
    "\n",
    "Example:\n",
    "\n",
    "    22 12345 5678\n",
    "\n",
    "Output all ages. Order by age, increment.\n",
    "\n",
    "The part of the result on the sample dataset:\n",
    "\n",
    "    ...\n",
    "    21  11  24\n",
    "    22  6   18\n",
    "    23  12  15\n",
    "    24  16  27\n",
    "    25  20  33\n",
    "    ...\n",
    "\n",
    "Hint. To simplify your code and reduce the quantity of MapReduce jobs produced by the query, use IF clause.\n",
    "\n",
    "Please use the tables 'posts' and 'users' from the database 'stackoverflow_'. 'posts' is partitioned by year and by month. For more details see \"Hive assignment. Intro and instructions\".\n"
   ]
  },
  {
   "cell_type": "code",
   "execution_count": 1,
   "metadata": {
    "colab": {
     "autoexec": {
      "startup": false,
      "wait_interval": 0
     }
    },
    "colab_type": "code",
    "id": "0N7DS8HaJ5tx"
   },
   "outputs": [
    {
     "name": "stdout",
     "output_type": "stream",
     "text": [
      "Writing task3_age_activity.hql\n"
     ]
    }
   ],
   "source": [
    "%%writefile task3_age_activity.hql\n",
    "\n",
    "USE stackoverflow_;\n",
    "\n",
    "SELECT\n",
    "    u.age,\n",
    "    SUM(IF(p.post_type_id=1, 1, 0)) AS qcnt,\n",
    "    SUM(IF(p.post_type_id=2, 1, 0)) AS acnt\n",
    "FROM\n",
    "    posts p\n",
    "JOIN\n",
    "    users u\n",
    "ON p.owner_user_id = u.id\n",
    "WHERE u.age IS NOT NULL\n",
    "GROUP BY u.age\n",
    "ORDER BY u.age ASC\n",
    ";\n"
   ]
  },
  {
   "cell_type": "code",
   "execution_count": 2,
   "metadata": {
    "colab": {
     "autoexec": {
      "startup": false,
      "wait_interval": 0
     }
    },
    "colab_type": "code",
    "id": "bfwzAFdEJ5tz",
    "scrolled": true
   },
   "outputs": [
    {
     "name": "stdout",
     "output_type": "stream",
     "text": [
      "\n",
      "Logging initialized using configuration in jar:file:/usr/local/apache-hive-1.1.0-bin/lib/hive-common-1.1.0.jar!/hive-log4j.properties\n",
      "OK\n",
      "Time taken: 1.085 seconds\n",
      "Query ID = jovyan_20190727203131_c98d964a-3c53-4bef-9a28-10a6f97bc716\n",
      "Total jobs = 2\n",
      "Execution log at: /tmp/jovyan/jovyan_20190727203131_c98d964a-3c53-4bef-9a28-10a6f97bc716.log\n",
      "2019-07-27 08:31:35\tStarting to launch local task to process map join;\tmaximum memory = 477626368\n",
      "2019-07-27 08:31:37\tDump the side-table for tag: 1 with group count: 5951 into file: file:/tmp/jovyan/45bd0483-f28b-49af-82dd-22452238629e/hive_2019-07-27_20-31-26_400_7372645280837973383-1/-local-10005/HashTable-Stage-2/MapJoin-mapfile01--.hashtable\n",
      "2019-07-27 08:31:37\tUploaded 1 File to: file:/tmp/jovyan/45bd0483-f28b-49af-82dd-22452238629e/hive_2019-07-27_20-31-26_400_7372645280837973383-1/-local-10005/HashTable-Stage-2/MapJoin-mapfile01--.hashtable (137665 bytes)\n",
      "2019-07-27 08:31:37\tEnd of local task; Time Taken: 2.149 sec.\n",
      "Execution completed successfully\n",
      "MapredLocal task succeeded\n",
      "Launching Job 1 out of 2\n",
      "Number of reduce tasks not specified. Estimated from input data size: 1\n",
      "In order to change the average load for a reducer (in bytes):\n",
      "  set hive.exec.reducers.bytes.per.reducer=<number>\n",
      "In order to limit the maximum number of reducers:\n",
      "  set hive.exec.reducers.max=<number>\n",
      "In order to set a constant number of reducers:\n",
      "  set mapreduce.job.reduces=<number>\n",
      "Starting Job = job_1564233419780_0018, Tracking URL = http://66698698fae4:8088/proxy/application_1564233419780_0018/\n",
      "Kill Command = /opt/hadoop/bin/hadoop job  -kill job_1564233419780_0018\n",
      "Hadoop job information for Stage-2: number of mappers: 1; number of reducers: 1\n",
      "2019-07-27 20:31:52,444 Stage-2 map = 0%,  reduce = 0%\n",
      "2019-07-27 20:32:03,466 Stage-2 map = 100%,  reduce = 0%, Cumulative CPU 8.79 sec\n",
      "2019-07-27 20:32:12,165 Stage-2 map = 100%,  reduce = 100%, Cumulative CPU 8.79 sec\n",
      "MapReduce Total cumulative CPU time: 8 seconds 790 msec\n",
      "Ended Job = job_1564233419780_0018\n",
      "Launching Job 2 out of 2\n",
      "Number of reduce tasks determined at compile time: 1\n",
      "In order to change the average load for a reducer (in bytes):\n",
      "  set hive.exec.reducers.bytes.per.reducer=<number>\n",
      "In order to limit the maximum number of reducers:\n",
      "  set hive.exec.reducers.max=<number>\n",
      "In order to set a constant number of reducers:\n",
      "  set mapreduce.job.reduces=<number>\n",
      "Starting Job = job_1564233419780_0019, Tracking URL = http://66698698fae4:8088/proxy/application_1564233419780_0019/\n",
      "Kill Command = /opt/hadoop/bin/hadoop job  -kill job_1564233419780_0019\n",
      "Hadoop job information for Stage-3: number of mappers: 1; number of reducers: 1\n",
      "2019-07-27 20:32:30,302 Stage-3 map = 0%,  reduce = 0%\n",
      "2019-07-27 20:32:37,886 Stage-3 map = 100%,  reduce = 0%, Cumulative CPU 2.47 sec\n",
      "2019-07-27 20:32:45,394 Stage-3 map = 100%,  reduce = 100%, Cumulative CPU 6.22 sec\n",
      "MapReduce Total cumulative CPU time: 6 seconds 220 msec\n",
      "Ended Job = job_1564233419780_0019\n",
      "MapReduce Jobs Launched: \n",
      "Stage-Stage-2: Map: 1  Reduce: 1   Cumulative CPU: 13.37 sec   HDFS Read: 2261482 HDFS Write: 1056 SUCCESS\n",
      "Stage-Stage-3: Map: 1  Reduce: 1   Cumulative CPU: 6.22 sec   HDFS Read: 5623 HDFS Write: 376 SUCCESS\n",
      "Total MapReduce CPU Time Spent: 19 seconds 590 msec\n",
      "OK\n",
      "14\t1\t0\n",
      "15\t1\t2\n",
      "16\t2\t0\n",
      "17\t0\t1\n",
      "18\t4\t1\n",
      "19\t1\t1\n",
      "20\t0\t2\n",
      "21\t11\t24\n",
      "22\t6\t18\n",
      "23\t12\t15\n",
      "24\t16\t27\n",
      "25\t20\t33\n",
      "26\t23\t44\n",
      "27\t28\t56\n",
      "28\t24\t37\n",
      "29\t24\t66\n",
      "30\t26\t67\n",
      "31\t17\t33\n",
      "32\t13\t48\n",
      "33\t11\t40\n",
      "34\t24\t36\n",
      "35\t12\t42\n",
      "36\t8\t64\n",
      "37\t9\t35\n",
      "38\t6\t17\n",
      "39\t3\t7\n",
      "40\t1\t13\n",
      "41\t5\t20\n",
      "42\t5\t22\n",
      "43\t2\t26\n",
      "44\t7\t35\n",
      "45\t1\t4\n",
      "46\t7\t9\n",
      "47\t1\t1\n",
      "48\t1\t1\n",
      "49\t1\t26\n",
      "50\t1\t26\n",
      "51\t4\t5\n",
      "52\t0\t2\n",
      "53\t0\t2\n",
      "54\t0\t1\n",
      "57\t0\t3\n",
      "58\t1\t57\n",
      "60\t0\t6\n",
      "61\t0\t3\n",
      "64\t2\t1\n",
      "86\t0\t1\n",
      "96\t3\t1\n",
      "Time taken: 81.19 seconds, Fetched: 48 row(s)\n"
     ]
    }
   ],
   "source": [
    "! hive -f task3_age_activity.hql"
   ]
  },
  {
   "cell_type": "code",
   "execution_count": null,
   "metadata": {},
   "outputs": [],
   "source": []
  }
 ],
 "metadata": {
  "colab": {
   "collapsed_sections": [],
   "default_view": {},
   "name": "901_to_students.ipynb",
   "provenance": [],
   "toc_visible": true,
   "version": "0.3.2",
   "views": {}
  },
  "kernelspec": {
   "display_name": "Python 3",
   "language": "python",
   "name": "python3"
  },
  "language_info": {
   "codemirror_mode": {
    "name": "ipython",
    "version": 3
   },
   "file_extension": ".py",
   "mimetype": "text/x-python",
   "name": "python",
   "nbconvert_exporter": "python",
   "pygments_lexer": "ipython3",
   "version": "3.6.2"
  }
 },
 "nbformat": 4,
 "nbformat_minor": 1
}
