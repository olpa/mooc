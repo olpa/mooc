{
 "cells": [
  {
   "cell_type": "code",
   "execution_count": 22,
   "metadata": {},
   "outputs": [],
   "source": [
    "from thinkbayes import Suite\n",
    "import thinkbayes"
   ]
  },
  {
   "cell_type": "code",
   "execution_count": 8,
   "metadata": {},
   "outputs": [],
   "source": [
    "class Euro(Suite):\n",
    "    def __init__(self, prob_wrong_observation, hypos):\n",
    "        self.wrong_obs = prob_wrong_observation\n",
    "        self.right_obs = 1 - prob_wrong_observation\n",
    "        super().__init__(hypos)\n",
    "    \n",
    "    def Likelihood(self, data, hypo):\n",
    "        p_H = hypo / 100\n",
    "        p_T = 1 - p_H\n",
    "        if data == 'H':\n",
    "            true_positive = p_H * self.right_obs\n",
    "            false_negative = p_T * self.wrong_obs\n",
    "        else:\n",
    "            true_positive = p_T * self.right_obs\n",
    "            false_negative = p_H * self.wrong_obs\n",
    "        return true_positive + false_negative"
   ]
  },
  {
   "cell_type": "code",
   "execution_count": 11,
   "metadata": {},
   "outputs": [],
   "source": [
    "import matplotlib.pyplot as plt\n",
    "def plot_distro(suite):\n",
    "    hs, ps = [], []\n",
    "    for hypo, prob in sorted(suite.Items()):\n",
    "        hs.append(hypo)\n",
    "        ps.append(prob)\n",
    "    plt.plot(hs, ps)\n",
    "    plt.xlabel('x')\n",
    "    plt.ylabel('Probability');"
   ]
  },
  {
   "cell_type": "code",
   "execution_count": 20,
   "metadata": {},
   "outputs": [
    {
     "data": {
      "image/png": "[encoded data removed]",
      "text/plain": [
       "<matplotlib.figure.Figure at 0x7f85d82a5908>"
      ]
     },
     "metadata": {},
     "output_type": "display_data"
    }
   ],
   "source": [
    "suite = Euro(0.99, range(0, 101))\n",
    "dataset = 'H' * 140 + 'T' * 110\n",
    "\n",
    "for data in dataset:\n",
    "    suite.Update(data)\n",
    "    \n",
    "plot_distro(suite)"
   ]
  },
  {
   "cell_type": "code",
   "execution_count": 29,
   "metadata": {},
   "outputs": [],
   "source": [
    "def summarize(y, hypos, dataset):\n",
    "    suite = Euro(y, hypos)\n",
    "    for data in dataset:\n",
    "        suite.Update(data)\n",
    "    print('y={}, maxLH={}, mean={}, median={}, credInt={}'.format(\n",
    "            y,\n",
    "            suite.MaximumLikelihood(),\n",
    "            suite.Mean(),\n",
    "            thinkbayes.Percentile(suite, 50),\n",
    "            thinkbayes.CredibleInterval(suite, 90)\n",
    "        ))"
   ]
  },
  {
   "cell_type": "code",
   "execution_count": 32,
   "metadata": {},
   "outputs": [
    {
     "name": "stdout",
     "output_type": "stream",
     "text": [
      "y=0.0, maxLH=56, mean=55.952380952380956, median=56, credInt=(51, 61)\n",
      "y=0.05, maxLH=57, mean=56.61375661375662, median=57, credInt=(51, 62)\n",
      "y=0.1, maxLH=57, mean=57.44047619047622, median=57, credInt=(51, 64)\n",
      "y=0.15, maxLH=59, mean=58.50340136054427, median=59, credInt=(51, 66)\n",
      "y=0.2, maxLH=60, mean=59.92063492063489, median=60, credInt=(51, 68)\n",
      "y=0.25, maxLH=62, mean=61.904761904232906, median=62, credInt=(52, 72)\n",
      "y=0.3, maxLH=65, mean=64.88091776838881, median=65, credInt=(52, 78)\n",
      "y=0.35, maxLH=70, mean=69.79698734103977, median=70, credInt=(53, 87)\n",
      "y=0.4, maxLH=80, mean=76.9583005468415, median=78, credInt=(53, 97)\n",
      "y=0.45, maxLH=100, mean=78.50184796897165, median=82, credInt=(45, 99)\n",
      "y=0.5, maxLH=100, mean=49.9999999999999, median=50, credInt=(5, 95)\n",
      "y=0.55, maxLH=0, mean=21.49815203102834, median=18, credInt=(1, 55)\n",
      "y=0.6, maxLH=20, mean=23.04169945315853, median=22, credInt=(3, 47)\n",
      "y=0.65, maxLH=30, mean=30.20301265896019, median=30, credInt=(13, 47)\n",
      "y=0.7, maxLH=35, mean=35.119082231611124, median=35, credInt=(22, 48)\n",
      "y=0.75, maxLH=38, mean=38.09523809576712, median=38, credInt=(28, 48)\n",
      "y=0.8, maxLH=40, mean=40.07936507936516, median=40, credInt=(32, 49)\n",
      "y=0.85, maxLH=41, mean=41.49659863945579, median=41, credInt=(34, 49)\n",
      "y=0.9, maxLH=43, mean=42.559523809523775, median=43, credInt=(36, 49)\n",
      "y=0.95, maxLH=43, mean=43.38624338624339, median=43, credInt=(38, 49)\n"
     ]
    }
   ],
   "source": [
    "hypos = range(0, 101)\n",
    "dataset = 'H' * 140 + 'T' * 110\n",
    "\n",
    "for y in range(0, 100, 5):\n",
    "    summarize(y/100.0, hypos, dataset)"
   ]
  },
  {
   "cell_type": "code",
   "execution_count": null,
   "metadata": {},
   "outputs": [],
   "source": []
  }
 ],
 "metadata": {
  "kernelspec": {
   "display_name": "Python 3",
   "language": "python",
   "name": "python3"
  },
  "language_info": {
   "codemirror_mode": {
    "name": "ipython",
    "version": 3
   },
   "file_extension": ".py",
   "mimetype": "text/x-python",
   "name": "python",
   "nbconvert_exporter": "python",
   "pygments_lexer": "ipython3",
   "version": "3.6.9"
  }
 },
 "nbformat": 4,
 "nbformat_minor": 2
}
