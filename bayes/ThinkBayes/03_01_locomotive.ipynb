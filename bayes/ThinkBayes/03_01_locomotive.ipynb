{
 "cells": [
  {
   "cell_type": "code",
   "execution_count": 2,
   "metadata": {},
   "outputs": [],
   "source": [
    "from thinkbayes import Suite\n",
    "import matplotlib.pyplot as plt\n",
    "import math"
   ]
  },
  {
   "cell_type": "code",
   "execution_count": 8,
   "metadata": {},
   "outputs": [],
   "source": [
    "# Let `N` is a number of locomotives on the railroad\n",
    "#\n",
    "# Let estimate that there are 4 companies per a railroad\n",
    "COMPANIES_PER_RAILROAD = 4\n",
    "\n",
    "#\n",
    "# One of possible distributions\n",
    "# - one company of size k\n",
    "# - one company of size k/2\n",
    "# - two companies of size k/4\n",
    "#\n",
    "def get_sizes_of_companies(total):\n",
    "    if total < 4:\n",
    "        return [total]\n",
    "    if total < 8:\n",
    "        return [total/2, total/2]\n",
    "    c1 = total / 2\n",
    "    c2 = total / 4\n",
    "    c3 = total / 8\n",
    "    c4 = total / 8\n",
    "    return [c1, c2, c3, c4]"
   ]
  },
  {
   "cell_type": "code",
   "execution_count": 11,
   "metadata": {},
   "outputs": [
    {
     "name": "stdout",
     "output_type": "stream",
     "text": [
      "1: [1]\n",
      "3: [3]\n",
      "4: [2.0, 2.0]\n",
      "7: [3.5, 3.5]\n",
      "8: [4.0, 2.0, 1.0, 1.0]\n",
      "16: [8.0, 4.0, 2.0, 2.0]\n"
     ]
    }
   ],
   "source": [
    "print('1:', get_sizes_of_companies(1))\n",
    "print('3:', get_sizes_of_companies(3))\n",
    "print('4:', get_sizes_of_companies(4))\n",
    "print('7:', get_sizes_of_companies(7))\n",
    "print('8:', get_sizes_of_companies(8))\n",
    "print('16:', get_sizes_of_companies(16))"
   ]
  },
  {
   "cell_type": "code",
   "execution_count": 22,
   "metadata": {},
   "outputs": [],
   "source": [
    "def likelihood(data, hypo):\n",
    "    companies = get_sizes_of_companies(hypo)\n",
    "    possible_locos = 0.0\n",
    "    for company_size in companies:\n",
    "        if company_size >= data:\n",
    "            possible_locos += 1\n",
    "    return possible_locos / hypo"
   ]
  },
  {
   "cell_type": "code",
   "execution_count": 23,
   "metadata": {},
   "outputs": [
    {
     "name": "stdout",
     "output_type": "stream",
     "text": [
      "1/1: 1.0\n",
      "1/3: 0.3333333333333333\n",
      "3/3: 0.3333333333333333\n",
      "1/4: 0.5\n",
      "2/4: 0.5\n",
      "3/4: 0.0\n",
      "2/16: 0.25\n",
      "4/16: 0.125\n",
      "8/16: 0.0625\n"
     ]
    }
   ],
   "source": [
    "print('1/1:', likelihood(1, 1)) # 1.0\n",
    "print('1/3:', likelihood(1, 3)) # 1/3\n",
    "print('3/3:', likelihood(1, 3)) # 1/3\n",
    "print('1/4:', likelihood(1, 4)) # 1/2\n",
    "print('2/4:', likelihood(2, 4)) # 1/2\n",
    "print('3/4:', likelihood(3, 4)) # 0\n",
    "print('2/16:', likelihood(2, 16)) # 4/16\n",
    "print('4/16:', likelihood(4, 16)) # 2/16\n",
    "print('8/16:', likelihood(8, 16)) # 1/16"
   ]
  },
  {
   "cell_type": "code",
   "execution_count": 24,
   "metadata": {},
   "outputs": [],
   "source": [
    "class MultiTrain(Suite):\n",
    "    def __init__(self, hypos):\n",
    "        super().__init__(self, hypos)\n",
    "        \n",
    "        for k in hypos:\n",
    "            self.Set(k, 1)\n",
    "            \n",
    "        self.Normalize()\n",
    "    \n",
    "    def Likelihood(self, data, hypo):\n",
    "        return likelihood(data, hypo)"
   ]
  },
  {
   "cell_type": "code",
   "execution_count": 25,
   "metadata": {},
   "outputs": [],
   "source": [
    "def plot_distro(suite):\n",
    "    hs, ps = [], []\n",
    "    for hypo, prob in sorted(suite.Items()):\n",
    "        hs.append(hypo)\n",
    "        ps.append(prob)\n",
    "    plt.plot(hs, ps)\n",
    "    plt.xlabel('Number of trains')\n",
    "    plt.ylabel('Probability');"
   ]
  },
  {
   "cell_type": "code",
   "execution_count": 29,
   "metadata": {},
   "outputs": [
    {
     "data": {
      "image/png": "[encoded data removed]",
      "text/plain": [
       "<matplotlib.figure.Figure at 0x7f10161df4a8>"
      ]
     },
     "metadata": {},
     "output_type": "display_data"
    }
   ],
   "source": [
    "locos = MultiTrain(range(1, 1001))\n",
    "plot_distro(locos)"
   ]
  },
  {
   "cell_type": "code",
   "execution_count": 30,
   "metadata": {},
   "outputs": [
    {
     "data": {
      "image/png": "[encoded data removed]",
      "text/plain": [
       "<matplotlib.figure.Figure at 0x7f10161b03c8>"
      ]
     },
     "metadata": {},
     "output_type": "display_data"
    }
   ],
   "source": [
    "locos.Update(60)\n",
    "plot_distro(locos)"
   ]
  },
  {
   "cell_type": "code",
   "execution_count": 31,
   "metadata": {},
   "outputs": [
    {
     "name": "stdout",
     "output_type": "stream",
     "text": [
      "534.0592932490797\n"
     ]
    }
   ],
   "source": [
    "print(locos.Mean())"
   ]
  },
  {
   "cell_type": "code",
   "execution_count": 33,
   "metadata": {},
   "outputs": [
    {
     "name": "stdout",
     "output_type": "stream",
     "text": [
      "Upper bound: 500, posterior mean: 327.18582410821386, interval: 193-485\n",
      "Upper bound: 1000, posterior mean: 488.59850366435603, interval: 206-902\n",
      "Upper bound: 2000, posterior mean: 606.4134824178647, interval: 211-1389\n"
     ]
    }
   ],
   "source": [
    "upper_bounds = [500, 1000, 2000]\n",
    "for bound in upper_bounds:\n",
    "    locos = MultiTrain(range(1, bound + 1))\n",
    "    locos.Update(60)\n",
    "    locos.Update(30)\n",
    "    locos.Update(90)\n",
    "    mean = locos.Mean()\n",
    "    cdf = locos.MakeCdf()\n",
    "    perc05 = cdf.Percentile(5)\n",
    "    perc95 = cdf.Percentile(95)\n",
    "    print('Upper bound: {}, posterior mean: {}, interval: {}-{}'.format(bound, mean, perc05, perc95))"
   ]
  },
  {
   "cell_type": "code",
   "execution_count": 34,
   "metadata": {},
   "outputs": [],
   "source": [
    "#"
   ]
  },
  {
   "cell_type": "code",
   "execution_count": 35,
   "metadata": {},
   "outputs": [],
   "source": [
    "class MultiTrainPower(Suite):\n",
    "    def __init__(self, hypos):\n",
    "        super().__init__(self, hypos)\n",
    "        \n",
    "        for k in hypos:\n",
    "            self.Set(k, 1/k)\n",
    "            \n",
    "        self.Normalize()\n",
    "    \n",
    "    def Likelihood(self, data, hypo):\n",
    "        return likelihood(data, hypo)"
   ]
  },
  {
   "cell_type": "code",
   "execution_count": 36,
   "metadata": {},
   "outputs": [
    {
     "data": {
      "image/png": "[encoded data removed]",
      "text/plain": [
       "<matplotlib.figure.Figure at 0x7f1013fdef98>"
      ]
     },
     "metadata": {},
     "output_type": "display_data"
    }
   ],
   "source": [
    "locos = MultiTrainPower(range(1, 1001))\n",
    "plot_distro(locos)"
   ]
  },
  {
   "cell_type": "code",
   "execution_count": 37,
   "metadata": {},
   "outputs": [
    {
     "data": {
      "image/png": "[encoded data removed]",
      "text/plain": [
       "<matplotlib.figure.Figure at 0x7f1013fb6cf8>"
      ]
     },
     "metadata": {},
     "output_type": "display_data"
    }
   ],
   "source": [
    "locos.Update(60)\n",
    "plot_distro(locos)"
   ]
  },
  {
   "cell_type": "code",
   "execution_count": 38,
   "metadata": {},
   "outputs": [
    {
     "name": "stdout",
     "output_type": "stream",
     "text": [
      "395.20709846807733\n"
     ]
    }
   ],
   "source": [
    "print(locos.Mean())"
   ]
  },
  {
   "cell_type": "code",
   "execution_count": 40,
   "metadata": {},
   "outputs": [
    {
     "name": "stdout",
     "output_type": "stream",
     "text": [
      "Upper bound: 500, posterior mean: 302.6510685404998, interval: 187-472\n",
      "Upper bound: 1000, posterior mean: 395.8221983374772, interval: 190-811\n",
      "Upper bound: 2000, posterior mean: 438.0928133068193, interval: 191-985\n"
     ]
    }
   ],
   "source": [
    "upper_bounds = [500, 1000, 2000]\n",
    "for bound in upper_bounds:\n",
    "    locos = MultiTrainPower(range(1, bound + 1))\n",
    "    locos.Update(60)\n",
    "    locos.Update(30)\n",
    "    locos.Update(90)\n",
    "    mean = locos.Mean()\n",
    "    cdf = locos.MakeCdf()\n",
    "    perc05 = cdf.Percentile(5)\n",
    "    perc95 = cdf.Percentile(95)\n",
    "    print('Upper bound: {}, posterior mean: {}, interval: {}-{}'.format(bound, mean, perc05, perc95))"
   ]
  },
  {
   "cell_type": "code",
   "execution_count": null,
   "metadata": {},
   "outputs": [],
   "source": []
  }
 ],
 "metadata": {
  "kernelspec": {
   "display_name": "Python 3",
   "language": "python",
   "name": "python3"
  },
  "language_info": {
   "codemirror_mode": {
    "name": "ipython",
    "version": 3
   },
   "file_extension": ".py",
   "mimetype": "text/x-python",
   "name": "python",
   "nbconvert_exporter": "python",
   "pygments_lexer": "ipython3",
   "version": "3.6.9"
  }
 },
 "nbformat": 4,
 "nbformat_minor": 2
}
