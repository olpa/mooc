{
 "cells": [
  {
   "cell_type": "code",
   "execution_count": 1,
   "metadata": {},
   "outputs": [],
   "source": [
    "from thinkbayes import Suite"
   ]
  },
  {
   "cell_type": "code",
   "execution_count": 2,
   "metadata": {},
   "outputs": [],
   "source": [
    "class Bowl(dict):\n",
    "    def __init__(self, **content):\n",
    "        self.content = dict(**content)\n",
    "        self.count = sum(self.content.values())\n",
    "        \n",
    "    def take(self, flavour):\n",
    "        flavorCount = self.content.get(flavour, 0)\n",
    "        if not flavorCount:\n",
    "            return 0.0\n",
    "        p = flavorCount / self.count\n",
    "        self.content[flavour] -= 1\n",
    "        self.count -= 1\n",
    "        return p"
   ]
  },
  {
   "cell_type": "code",
   "execution_count": 3,
   "metadata": {},
   "outputs": [
    {
     "name": "stdout",
     "output_type": "stream",
     "text": [
      "{'a': 2, 'b': 8} 10\n",
      "0.2\n",
      "{'a': 1, 'b': 8} 9\n",
      "0.1111111111111111\n",
      "{'a': 0, 'b': 8} 8\n",
      "0.0\n",
      "{'a': 0, 'b': 8} 8\n",
      "1.0\n",
      "{'a': 0, 'b': 7} 7\n"
     ]
    }
   ],
   "source": [
    "b = Bowl(a=2, b=8)\n",
    "print(b.content, b.count)\n",
    "print(b.take('a'))\n",
    "print(b.content, b.count)\n",
    "print(b.take('a'))\n",
    "print(b.content, b.count)\n",
    "print(b.take('a'))\n",
    "print(b.content, b.count)\n",
    "print(b.take('b'))\n",
    "print(b.content, b.count)"
   ]
  },
  {
   "cell_type": "code",
   "execution_count": 4,
   "metadata": {},
   "outputs": [],
   "source": [
    "def mkBowl1():\n",
    "    return Bowl(vanilla=30, chocolate=10)\n",
    "def mkBowl2():\n",
    "    return Bowl(vanilla=20, chocolate=20)"
   ]
  },
  {
   "cell_type": "code",
   "execution_count": 5,
   "metadata": {},
   "outputs": [],
   "source": [
    "class Cookie(Suite):\n",
    "    def __init__(self, bowl_dict):\n",
    "        self.bowls = bowl_dict\n",
    "        super().__init__(bowl_dict.keys())\n",
    "        \n",
    "    def Likelihood(self, data, hypo):\n",
    "        \"\"\"Computes the likelihood of the data under the hypothesis.\n",
    "        hypo: string hypothesis (\"Bowl1\" or \"Bowl2\")\n",
    "        data: string flavour\n",
    "        \"\"\"\n",
    "        return self.bowls[hypo].take(data)"
   ]
  },
  {
   "cell_type": "code",
   "execution_count": 6,
   "metadata": {},
   "outputs": [],
   "source": [
    "hypos = dict(Bowl1 = mkBowl1(), Bowl2 = mkBowl2())\n",
    "ck = Cookie(hypos)"
   ]
  },
  {
   "cell_type": "code",
   "execution_count": 7,
   "metadata": {},
   "outputs": [
    {
     "data": {
      "text/plain": [
       "0.625"
      ]
     },
     "execution_count": 7,
     "metadata": {},
     "output_type": "execute_result"
    }
   ],
   "source": [
    "ck.Update('vanilla')"
   ]
  },
  {
   "cell_type": "code",
   "execution_count": 8,
   "metadata": {},
   "outputs": [
    {
     "data": {
      "text/plain": [
       "[('Bowl1', 0.6000000000000001), ('Bowl2', 0.4)]"
      ]
     },
     "execution_count": 8,
     "metadata": {},
     "output_type": "execute_result"
    }
   ],
   "source": [
    "list(ck.Items())"
   ]
  },
  {
   "cell_type": "code",
   "execution_count": 9,
   "metadata": {},
   "outputs": [
    {
     "data": {
      "text/plain": [
       "[('Bowl1', 0.5337423312883436), ('Bowl2', 0.4662576687116564)]"
      ]
     },
     "execution_count": 9,
     "metadata": {},
     "output_type": "execute_result"
    }
   ],
   "source": [
    "hypos = dict(Bowl1 = mkBowl1(), Bowl2 = mkBowl2())\n",
    "ck = Cookie(hypos)\n",
    "\n",
    "dataset = ['vanilla', 'chocolate', 'vanilla']\n",
    "for data in dataset:\n",
    "    ck.Update(data)\n",
    "\n",
    "list(ck.Items())"
   ]
  },
  {
   "cell_type": "code",
   "execution_count": null,
   "metadata": {},
   "outputs": [],
   "source": []
  }
 ],
 "metadata": {
  "kernelspec": {
   "display_name": "Python 3",
   "language": "python",
   "name": "python3"
  },
  "language_info": {
   "codemirror_mode": {
    "name": "ipython",
    "version": 3
   },
   "file_extension": ".py",
   "mimetype": "text/x-python",
   "name": "python",
   "nbconvert_exporter": "python",
   "pygments_lexer": "ipython3",
   "version": "3.6.9"
  }
 },
 "nbformat": 4,
 "nbformat_minor": 2
}
