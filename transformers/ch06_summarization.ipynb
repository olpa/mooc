{
 "cells": [
  {
   "cell_type": "markdown",
   "metadata": {},
   "source": [
    "# Chapter 6. Summarization"
   ]
  },
  {
   "cell_type": "code",
   "execution_count": 1,
   "metadata": {},
   "outputs": [],
   "source": [
    "KAGGLE=False\n",
    "TRAIN_MODEL=False"
   ]
  },
  {
   "cell_type": "code",
   "execution_count": 2,
   "metadata": {},
   "outputs": [],
   "source": [
    "from datasets import load_dataset\n",
    "from transformers import pipeline, set_seed\n",
    "from datasets import load_metric\n",
    "import pandas as pd\n",
    "import numpy as np\n",
    "from tqdm import tqdm\n",
    "import torch\n",
    "import nltk\n",
    "from nltk.tokenize import sent_tokenize\n",
    "import matplotlib.pyplot as plt\n",
    "from transformers import AutoModelForSeq2SeqLM, AutoTokenizer\n",
    "from transformers import DataCollatorForSeq2Seq\n",
    "from transformers import TrainingArguments, Trainer"
   ]
  },
  {
   "cell_type": "code",
   "execution_count": 3,
   "metadata": {},
   "outputs": [],
   "source": [
    "if KAGGLE:\n",
    "    import subprocess\n",
    "    \n",
    "    print(subprocess.check_output(['pip', 'install', 'sacrebleu', 'rouge_score', 'py7zr',\n",
    "                                  'https://github.com/olpa/var_exchange/archive/refs/tags/1.0.0.zip']))\n",
    "    print(subprocess.check_output(['apt-get', 'install', 'git-lfs']))\n",
    "    print(subprocess.check_output(['git', 'lfs', 'install']))"
   ]
  },
  {
   "cell_type": "code",
   "execution_count": 4,
   "metadata": {},
   "outputs": [],
   "source": [
    "from var_exchange.kaggle_dropbox import get_putv_getv\n",
    "\n",
    "putv, getv = get_putv_getv(basedir='ch06_summarization')\n",
    "\n",
    "bleu_metric = load_metric('sacrebleu')\n",
    "rouge_metric = load_metric('rouge')"
   ]
  },
  {
   "cell_type": "code",
   "execution_count": 5,
   "metadata": {},
   "outputs": [],
   "source": [
    "if KAGGLE:\n",
    "    from huggingface_hub import notebook_login\n",
    "    import wandb\n",
    "    \n",
    "    notebook_login()\n",
    "    wandb.login()"
   ]
  },
  {
   "cell_type": "markdown",
   "metadata": {},
   "source": [
    "# p141 The CNN/DailyMail Dataset"
   ]
  },
  {
   "cell_type": "code",
   "execution_count": 6,
   "metadata": {
    "execution": {
     "iopub.execute_input": "2022-06-10T05:04:54.312665Z",
     "iopub.status.busy": "2022-06-10T05:04:54.312204Z",
     "iopub.status.idle": "2022-06-10T05:08:31.440681Z",
     "shell.execute_reply": "2022-06-10T05:08:31.439889Z",
     "shell.execute_reply.started": "2022-06-10T05:04:54.312578Z"
    }
   },
   "outputs": [
    {
     "name": "stderr",
     "output_type": "stream",
     "text": [
      "Using custom data configuration default\n",
      "Reusing dataset cnn_dailymail (/home/olpa/.cache/huggingface/datasets/cnn_dailymail/default/3.0.0/1b3c71476f6d152c31c1730e83ccb08bcf23e348233f4fcc11e182248e6bf7de)\n"
     ]
    },
    {
     "data": {
      "application/vnd.jupyter.widget-view+json": {
       "model_id": "d4422c7ed33a4a87908bcae51c87f404",
       "version_major": 2,
       "version_minor": 0
      },
      "text/plain": [
       "  0%|          | 0/3 [00:00<?, ?it/s]"
      ]
     },
     "metadata": {},
     "output_type": "display_data"
    },
    {
     "name": "stdout",
     "output_type": "stream",
     "text": [
      "Features: ['article', 'highlights', 'id']\n"
     ]
    }
   ],
   "source": [
    "dataset = load_dataset('cnn_dailymail', version='3.0.0')\n",
    "print(f\"Features: {dataset['train']. column_names}\")"
   ]
  },
  {
   "cell_type": "code",
   "execution_count": 7,
   "metadata": {
    "execution": {
     "iopub.execute_input": "2022-06-10T05:08:31.443280Z",
     "iopub.status.busy": "2022-06-10T05:08:31.442419Z",
     "iopub.status.idle": "2022-06-10T05:08:31.457122Z",
     "shell.execute_reply": "2022-06-10T05:08:31.455942Z",
     "shell.execute_reply.started": "2022-06-10T05:08:31.443241Z"
    }
   },
   "outputs": [
    {
     "name": "stdout",
     "output_type": "stream",
     "text": [
      "\n",
      "Article (excerpt of 500 characters, total length: 4051)\n",
      "\n",
      "Editor's note: In our Behind the Scenes series, CNN correspondents share their experiences in covering news and analyze the stories behind the events. Here, Soledad O'Brien takes users inside a jail where many of the inmates are mentally ill. An inmate housed on the \"forgotten floor,\" where many mentally ill inmates are housed in Miami before trial. MIAMI, Florida (CNN) -- The ninth floor of the Miami-Dade pretrial detention facility is dubbed the \"forgotten floor.\" Here, inmates with the most s\n",
      "\n",
      "Summary (length: 281)\n",
      "Mentally ill inmates in Miami are housed on the \"forgotten floor\"\n",
      "Judge Steven Leifman says most are there as a result of \"avoidable felonies\"\n",
      "While CNN tours facility, patient shouts: \"I am the son of the president\"\n",
      "Leifman says the system is unjust and he's fighting for change .\n"
     ]
    }
   ],
   "source": [
    "sample = dataset['train'][1]\n",
    "print(f\"\"\"\n",
    "Article (excerpt of 500 characters, total length: {len(sample['article'])})\n",
    "\"\"\")\n",
    "print(sample['article'][:500])\n",
    "print(f'\\nSummary (length: {len(sample[\"highlights\"])})')\n",
    "print(sample['highlights'])"
   ]
  },
  {
   "cell_type": "markdown",
   "metadata": {},
   "source": [
    "# p143 Text Summarization Pipelines"
   ]
  },
  {
   "cell_type": "code",
   "execution_count": 8,
   "metadata": {
    "execution": {
     "iopub.execute_input": "2022-06-10T05:08:31.459051Z",
     "iopub.status.busy": "2022-06-10T05:08:31.458465Z",
     "iopub.status.idle": "2022-06-10T05:08:31.469993Z",
     "shell.execute_reply": "2022-06-10T05:08:31.469152Z",
     "shell.execute_reply.started": "2022-06-10T05:08:31.459014Z"
    }
   },
   "outputs": [],
   "source": [
    "sample_text = dataset['train'][1]['article'][:2000]\n",
    "summaries = getv('summaries') or {}"
   ]
  },
  {
   "cell_type": "code",
   "execution_count": 9,
   "metadata": {
    "execution": {
     "iopub.execute_input": "2022-06-10T05:08:31.472827Z",
     "iopub.status.busy": "2022-06-10T05:08:31.472375Z",
     "iopub.status.idle": "2022-06-10T05:08:32.695286Z",
     "shell.execute_reply": "2022-06-10T05:08:32.694365Z",
     "shell.execute_reply.started": "2022-06-10T05:08:31.472788Z"
    }
   },
   "outputs": [
    {
     "name": "stderr",
     "output_type": "stream",
     "text": [
      "[nltk_data] Downloading package punkt to /home/olpa/nltk_data...\n",
      "[nltk_data]   Package punkt is already up-to-date!\n"
     ]
    },
    {
     "data": {
      "text/plain": [
       "['The U.S. are a country.', 'The U.N. is an organization']"
      ]
     },
     "execution_count": 9,
     "metadata": {},
     "output_type": "execute_result"
    }
   ],
   "source": [
    "nltk.download('punkt')\n",
    "\n",
    "string = 'The U.S. are a country. The U.N. is an organization'\n",
    "sent_tokenize(string)"
   ]
  },
  {
   "cell_type": "code",
   "execution_count": 10,
   "metadata": {
    "execution": {
     "iopub.execute_input": "2022-06-10T05:08:32.697029Z",
     "iopub.status.busy": "2022-06-10T05:08:32.696678Z",
     "iopub.status.idle": "2022-06-10T05:08:32.702898Z",
     "shell.execute_reply": "2022-06-10T05:08:32.702158Z",
     "shell.execute_reply.started": "2022-06-10T05:08:32.696999Z"
    }
   },
   "outputs": [
    {
     "name": "stdout",
     "output_type": "stream",
     "text": [
      "Editor's note: In our Behind the Scenes series, CNN correspondents share their experiences in covering news and analyze the stories behind the events.\n",
      "Here, Soledad O'Brien takes users inside a jail where many of the inmates are mentally ill. An inmate housed on the \"forgotten floor,\" where many mentally ill inmates are housed in Miami before trial.\n",
      "MIAMI, Florida (CNN) -- The ninth floor of the Miami-Dade pretrial detention facility is dubbed the \"forgotten floor.\"\n"
     ]
    }
   ],
   "source": [
    "def three_sentence_summary(text):\n",
    "    return '\\n'.join(sent_tokenize(text)[:3])\n",
    "\n",
    "summaries['baseline'] = three_sentence_summary(sample_text)\n",
    "print(summaries['baseline'])"
   ]
  },
  {
   "cell_type": "code",
   "execution_count": 11,
   "metadata": {},
   "outputs": [
    {
     "name": "stdout",
     "output_type": "stream",
     "text": [
      "Nesta, the fastest man in the world.\n",
      "Gatlin, the most successful Olympian ever.\n",
      "Kemar, a Jamaican legend.\n",
      "Shelly-Ann, the fastest woman ever.\n",
      "Bolt, the world's greatest athlete.\n",
      "The team sport of pole vaulting\n"
     ]
    }
   ],
   "source": [
    "set_seed(42)\n",
    "if 'gpt2' not in summaries:\n",
    "    pipe = pipeline('text-generation', model='gpt2-xl')\n",
    "    gpt2_query = sample_text + '\\nTL;DR:\\n'\n",
    "    pipe_out = pipe(gpt2_query, max_length=512, clean_up_tokenization_spaces=True)\n",
    "    summaries['gpt2'] = '\\n'.join(\n",
    "        sent_tokenize(pipe_out[0]['generated_text'][len(gpt2_query):])\n",
    "    )\n",
    "    \n",
    "    putv(summaries, 'summaries')\n",
    "print(summaries['gpt2'])"
   ]
  },
  {
   "cell_type": "code",
   "execution_count": 12,
   "metadata": {
    "execution": {
     "iopub.status.busy": "2022-06-10T05:10:07.907091Z",
     "iopub.status.idle": "2022-06-10T05:10:07.907921Z",
     "shell.execute_reply": "2022-06-10T05:10:07.907704Z",
     "shell.execute_reply.started": "2022-06-10T05:10:07.907675Z"
    }
   },
   "outputs": [
    {
     "name": "stdout",
     "output_type": "stream",
     "text": [
      "usain bolt wins his third gold medal of the world championships in the men's 4x100m relay .\n",
      "the 26-year-old anchored Jamaica to victory in the event in the Russian capital .\n",
      "he has now collected eight gold medals at the championships, equaling the record .\n"
     ]
    }
   ],
   "source": [
    "if 't5' not in summaries:\n",
    "    pipe = pipeline('summarization', model='t5-large')\n",
    "    pipe_out = pipe(sample_text)\n",
    "    summaries['t5'] = '\\n'.join(sent_tokenize(pipe_out[0]['summary_text']))\n",
    "    \n",
    "    putv(summaries, 'summaries')\n",
    "print(summaries['t5'])"
   ]
  },
  {
   "cell_type": "code",
   "execution_count": 13,
   "metadata": {
    "execution": {
     "iopub.status.busy": "2022-06-10T05:10:07.909277Z",
     "iopub.status.idle": "2022-06-10T05:10:07.909708Z",
     "shell.execute_reply": "2022-06-10T05:10:07.909517Z",
     "shell.execute_reply.started": "2022-06-10T05:10:07.909495Z"
    }
   },
   "outputs": [
    {
     "name": "stdout",
     "output_type": "stream",
     "text": [
      "Usain Bolt wins his third gold of the world championships in Moscow.\n",
      "Bolt anchors Jamaica to victory in the men's 4x100m relay.\n",
      "The 26-year-old has now won eight gold medals at world championships.\n",
      "Jamaica's women also win gold in the relay, beating France in the process.\n"
     ]
    }
   ],
   "source": [
    "if 'bart' not in summaries:\n",
    "    pipe = pipeline('summarization', model='facebook/bart-large-cnn')\n",
    "    pipe_out = pipe(sample_text)\n",
    "    summaries['bart'] = '\\n'.join(sent_tokenize(pipe_out[0]['summary_text']))\n",
    "    \n",
    "    putv(summaries, 'summaries')\n",
    "print(summaries['bart'])"
   ]
  },
  {
   "cell_type": "code",
   "execution_count": 14,
   "metadata": {
    "execution": {
     "iopub.status.busy": "2022-06-10T05:10:07.911143Z",
     "iopub.status.idle": "2022-06-10T05:10:07.911672Z",
     "shell.execute_reply": "2022-06-10T05:10:07.911458Z",
     "shell.execute_reply.started": "2022-06-10T05:10:07.911435Z"
    }
   },
   "outputs": [
    {
     "name": "stdout",
     "output_type": "stream",
     "text": [
      "Usain Bolt wins third gold of world championships.\n",
      "Anchors Jamaica to victory in men's 4x100m relay.\n",
      "Eighth gold at the championships for Bolt.\n",
      "Jamaica also win women's 4x100m relay .\n"
     ]
    }
   ],
   "source": [
    "if 'pegasus' not in summaries:\n",
    "    pipe = pipeline('summarization', model='google/pegasus-cnn_dailymail')\n",
    "    pipe_out = pipe(sample_text)\n",
    "    summaries['pegasus'] = pipe_out[0]['summary_text'].replace(' .<n>', '.\\n')\n",
    "    \n",
    "    putv(summaries, 'summaries')\n",
    "print(summaries['pegasus'])"
   ]
  },
  {
   "cell_type": "code",
   "execution_count": 15,
   "metadata": {
    "execution": {
     "iopub.status.busy": "2022-06-10T05:10:07.912795Z",
     "iopub.status.idle": "2022-06-10T05:10:07.913542Z",
     "shell.execute_reply": "2022-06-10T05:10:07.913328Z",
     "shell.execute_reply.started": "2022-06-10T05:10:07.913303Z"
    }
   },
   "outputs": [
    {
     "name": "stdout",
     "output_type": "stream",
     "text": [
      "GROUND TRUTH\n",
      "Mentally ill inmates in Miami are housed on the \"forgotten floor\"\n",
      "Judge Steven Leifman says most are there as a result of \"avoidable felonies\"\n",
      "While CNN tours facility, patient shouts: \"I am the son of the president\"\n",
      "Leifman says the system is unjust and he's fighting for change .\n",
      "\n",
      "BASELINE\n",
      "Editor's note: In our Behind the Scenes series, CNN correspondents share their experiences in covering news and analyze the stories behind the events.\n",
      "Here, Soledad O'Brien takes users inside a jail where many of the inmates are mentally ill. An inmate housed on the \"forgotten floor,\" where many mentally ill inmates are housed in Miami before trial.\n",
      "MIAMI, Florida (CNN) -- The ninth floor of the Miami-Dade pretrial detention facility is dubbed the \"forgotten floor.\"\n",
      "\n",
      "GPT2\n",
      "Nesta, the fastest man in the world.\n",
      "Gatlin, the most successful Olympian ever.\n",
      "Kemar, a Jamaican legend.\n",
      "Shelly-Ann, the fastest woman ever.\n",
      "Bolt, the world's greatest athlete.\n",
      "The team sport of pole vaulting\n",
      "\n",
      "T5\n",
      "usain bolt wins his third gold medal of the world championships in the men's 4x100m relay .\n",
      "the 26-year-old anchored Jamaica to victory in the event in the Russian capital .\n",
      "he has now collected eight gold medals at the championships, equaling the record .\n",
      "\n",
      "BART\n",
      "Usain Bolt wins his third gold of the world championships in Moscow.\n",
      "Bolt anchors Jamaica to victory in the men's 4x100m relay.\n",
      "The 26-year-old has now won eight gold medals at world championships.\n",
      "Jamaica's women also win gold in the relay, beating France in the process.\n",
      "\n",
      "PEGASUS\n",
      "Usain Bolt wins third gold of world championships.\n",
      "Anchors Jamaica to victory in men's 4x100m relay.\n",
      "Eighth gold at the championships for Bolt.\n",
      "Jamaica also win women's 4x100m relay .\n",
      "\n"
     ]
    }
   ],
   "source": [
    "print('GROUND TRUTH')\n",
    "print(dataset['train'][1]['highlights'])\n",
    "print('')\n",
    "\n",
    "for model_name in summaries:\n",
    "    print(model_name.upper())\n",
    "    print(summaries[model_name])\n",
    "    print('')"
   ]
  },
  {
   "cell_type": "markdown",
   "metadata": {},
   "source": [
    "# p148 Measuring the Quality of Generated Text"
   ]
  },
  {
   "cell_type": "code",
   "execution_count": 16,
   "metadata": {
    "execution": {
     "iopub.execute_input": "2022-06-10T05:11:41.090056Z",
     "iopub.status.busy": "2022-06-10T05:11:41.089696Z",
     "iopub.status.idle": "2022-06-10T05:11:41.129696Z",
     "shell.execute_reply": "2022-06-10T05:11:41.128999Z",
     "shell.execute_reply.started": "2022-06-10T05:11:41.090018Z"
    }
   },
   "outputs": [
    {
     "data": {
      "text/html": [
       "<div>\n",
       "<style scoped>\n",
       "    .dataframe tbody tr th:only-of-type {\n",
       "        vertical-align: middle;\n",
       "    }\n",
       "\n",
       "    .dataframe tbody tr th {\n",
       "        vertical-align: top;\n",
       "    }\n",
       "\n",
       "    .dataframe thead th {\n",
       "        text-align: right;\n",
       "    }\n",
       "</style>\n",
       "<table border=\"1\" class=\"dataframe\">\n",
       "  <thead>\n",
       "    <tr style=\"text-align: right;\">\n",
       "      <th></th>\n",
       "      <th>Value</th>\n",
       "    </tr>\n",
       "  </thead>\n",
       "  <tbody>\n",
       "    <tr>\n",
       "      <th>score</th>\n",
       "      <td>0.0</td>\n",
       "    </tr>\n",
       "    <tr>\n",
       "      <th>counts</th>\n",
       "      <td>[2, 0, 0, 0]</td>\n",
       "    </tr>\n",
       "    <tr>\n",
       "      <th>totals</th>\n",
       "      <td>[6, 5, 4, 3]</td>\n",
       "    </tr>\n",
       "    <tr>\n",
       "      <th>precisions</th>\n",
       "      <td>[33.333333333333336, 0.0, 0.0, 0.0]</td>\n",
       "    </tr>\n",
       "    <tr>\n",
       "      <th>bp</th>\n",
       "      <td>1.0</td>\n",
       "    </tr>\n",
       "    <tr>\n",
       "      <th>sys_len</th>\n",
       "      <td>6</td>\n",
       "    </tr>\n",
       "    <tr>\n",
       "      <th>ref_len</th>\n",
       "      <td>6</td>\n",
       "    </tr>\n",
       "    <tr>\n",
       "      <th>precision</th>\n",
       "      <td>[33.33, 0.0, 0.0, 0.0]</td>\n",
       "    </tr>\n",
       "  </tbody>\n",
       "</table>\n",
       "</div>"
      ],
      "text/plain": [
       "                                          Value\n",
       "score                                       0.0\n",
       "counts                             [2, 0, 0, 0]\n",
       "totals                             [6, 5, 4, 3]\n",
       "precisions  [33.333333333333336, 0.0, 0.0, 0.0]\n",
       "bp                                          1.0\n",
       "sys_len                                       6\n",
       "ref_len                                       6\n",
       "precision                [33.33, 0.0, 0.0, 0.0]"
      ]
     },
     "execution_count": 16,
     "metadata": {},
     "output_type": "execute_result"
    }
   ],
   "source": [
    "bleu_metric.add(\n",
    "    prediction='the the the the the the', reference=['the cat is on the mat'])\n",
    "results = bleu_metric.compute(smooth_method='floor', smooth_value=0)\n",
    "results['precision'] = [np.round(p, 2) for p in results['precisions']]\n",
    "pd.DataFrame.from_dict(results, orient='index', columns=['Value'])"
   ]
  },
  {
   "cell_type": "code",
   "execution_count": 17,
   "metadata": {
    "execution": {
     "iopub.execute_input": "2022-06-10T05:11:41.131405Z",
     "iopub.status.busy": "2022-06-10T05:11:41.131021Z",
     "iopub.status.idle": "2022-06-10T05:11:41.150596Z",
     "shell.execute_reply": "2022-06-10T05:11:41.149911Z",
     "shell.execute_reply.started": "2022-06-10T05:11:41.131369Z"
    }
   },
   "outputs": [
    {
     "data": {
      "text/html": [
       "<div>\n",
       "<style scoped>\n",
       "    .dataframe tbody tr th:only-of-type {\n",
       "        vertical-align: middle;\n",
       "    }\n",
       "\n",
       "    .dataframe tbody tr th {\n",
       "        vertical-align: top;\n",
       "    }\n",
       "\n",
       "    .dataframe thead th {\n",
       "        text-align: right;\n",
       "    }\n",
       "</style>\n",
       "<table border=\"1\" class=\"dataframe\">\n",
       "  <thead>\n",
       "    <tr style=\"text-align: right;\">\n",
       "      <th></th>\n",
       "      <th>Value</th>\n",
       "    </tr>\n",
       "  </thead>\n",
       "  <tbody>\n",
       "    <tr>\n",
       "      <th>score</th>\n",
       "      <td>57.893007</td>\n",
       "    </tr>\n",
       "    <tr>\n",
       "      <th>counts</th>\n",
       "      <td>[5, 3, 2, 1]</td>\n",
       "    </tr>\n",
       "    <tr>\n",
       "      <th>totals</th>\n",
       "      <td>[5, 4, 3, 2]</td>\n",
       "    </tr>\n",
       "    <tr>\n",
       "      <th>precisions</th>\n",
       "      <td>[100.0, 75.0, 66.66666666666667, 50.0]</td>\n",
       "    </tr>\n",
       "    <tr>\n",
       "      <th>bp</th>\n",
       "      <td>0.818731</td>\n",
       "    </tr>\n",
       "    <tr>\n",
       "      <th>sys_len</th>\n",
       "      <td>5</td>\n",
       "    </tr>\n",
       "    <tr>\n",
       "      <th>ref_len</th>\n",
       "      <td>6</td>\n",
       "    </tr>\n",
       "    <tr>\n",
       "      <th>precision</th>\n",
       "      <td>[100.0, 75.0, 66.67, 50.0]</td>\n",
       "    </tr>\n",
       "  </tbody>\n",
       "</table>\n",
       "</div>"
      ],
      "text/plain": [
       "                                             Value\n",
       "score                                    57.893007\n",
       "counts                                [5, 3, 2, 1]\n",
       "totals                                [5, 4, 3, 2]\n",
       "precisions  [100.0, 75.0, 66.66666666666667, 50.0]\n",
       "bp                                        0.818731\n",
       "sys_len                                          5\n",
       "ref_len                                          6\n",
       "precision               [100.0, 75.0, 66.67, 50.0]"
      ]
     },
     "execution_count": 17,
     "metadata": {},
     "output_type": "execute_result"
    }
   ],
   "source": [
    "bleu_metric.add(\n",
    "    prediction='the cat is on mat', reference=['the cat is on the mat'])\n",
    "results = bleu_metric.compute(smooth_method='floor', smooth_value=0)\n",
    "results['precision'] = [np.round(p, 2) for p in results['precisions']]\n",
    "pd.DataFrame.from_dict(results, orient='index', columns=['Value'])"
   ]
  },
  {
   "cell_type": "code",
   "execution_count": 18,
   "metadata": {},
   "outputs": [],
   "source": [
    "rouge_names = ['rouge1', 'rouge2', 'rougeL', 'rougeLsum']"
   ]
  },
  {
   "cell_type": "code",
   "execution_count": 19,
   "metadata": {
    "execution": {
     "iopub.execute_input": "2022-06-10T05:11:41.870212Z",
     "iopub.status.busy": "2022-06-10T05:11:41.869767Z",
     "iopub.status.idle": "2022-06-10T05:11:42.073664Z",
     "shell.execute_reply": "2022-06-10T05:11:42.072694Z",
     "shell.execute_reply.started": "2022-06-10T05:11:41.870175Z"
    }
   },
   "outputs": [
    {
     "data": {
      "text/html": [
       "<div>\n",
       "<style scoped>\n",
       "    .dataframe tbody tr th:only-of-type {\n",
       "        vertical-align: middle;\n",
       "    }\n",
       "\n",
       "    .dataframe tbody tr th {\n",
       "        vertical-align: top;\n",
       "    }\n",
       "\n",
       "    .dataframe thead th {\n",
       "        text-align: right;\n",
       "    }\n",
       "</style>\n",
       "<table border=\"1\" class=\"dataframe\">\n",
       "  <thead>\n",
       "    <tr style=\"text-align: right;\">\n",
       "      <th></th>\n",
       "      <th>rouge1</th>\n",
       "      <th>rouge2</th>\n",
       "      <th>rougeL</th>\n",
       "      <th>rougeLsum</th>\n",
       "    </tr>\n",
       "  </thead>\n",
       "  <tbody>\n",
       "    <tr>\n",
       "      <th>baseline</th>\n",
       "      <td>0.365079</td>\n",
       "      <td>0.145161</td>\n",
       "      <td>0.206349</td>\n",
       "      <td>0.285714</td>\n",
       "    </tr>\n",
       "    <tr>\n",
       "      <th>gpt2</th>\n",
       "      <td>0.214286</td>\n",
       "      <td>0.000000</td>\n",
       "      <td>0.166667</td>\n",
       "      <td>0.214286</td>\n",
       "    </tr>\n",
       "    <tr>\n",
       "      <th>t5</th>\n",
       "      <td>0.170213</td>\n",
       "      <td>0.021739</td>\n",
       "      <td>0.127660</td>\n",
       "      <td>0.148936</td>\n",
       "    </tr>\n",
       "    <tr>\n",
       "      <th>bart</th>\n",
       "      <td>0.141414</td>\n",
       "      <td>0.020619</td>\n",
       "      <td>0.101010</td>\n",
       "      <td>0.141414</td>\n",
       "    </tr>\n",
       "    <tr>\n",
       "      <th>pegasus</th>\n",
       "      <td>0.125000</td>\n",
       "      <td>0.000000</td>\n",
       "      <td>0.075000</td>\n",
       "      <td>0.125000</td>\n",
       "    </tr>\n",
       "  </tbody>\n",
       "</table>\n",
       "</div>"
      ],
      "text/plain": [
       "            rouge1    rouge2    rougeL  rougeLsum\n",
       "baseline  0.365079  0.145161  0.206349   0.285714\n",
       "gpt2      0.214286  0.000000  0.166667   0.214286\n",
       "t5        0.170213  0.021739  0.127660   0.148936\n",
       "bart      0.141414  0.020619  0.101010   0.141414\n",
       "pegasus   0.125000  0.000000  0.075000   0.125000"
      ]
     },
     "execution_count": 19,
     "metadata": {},
     "output_type": "execute_result"
    }
   ],
   "source": [
    "reference = dataset['train'][1]['highlights']\n",
    "records = []\n",
    "\n",
    "for model_name in summaries:\n",
    "    rouge_metric.add(prediction=summaries[model_name], reference=reference)\n",
    "    score = rouge_metric.compute()\n",
    "    rouge_dict = dict((rn, score[rn].mid.fmeasure) for rn in rouge_names)\n",
    "    records.append(rouge_dict)\n",
    "pd.DataFrame.from_records(records, index=summaries.keys())"
   ]
  },
  {
   "cell_type": "code",
   "execution_count": 20,
   "metadata": {
    "execution": {
     "iopub.execute_input": "2022-06-10T05:11:42.077396Z",
     "iopub.status.busy": "2022-06-10T05:11:42.074828Z",
     "iopub.status.idle": "2022-06-10T05:11:42.083430Z",
     "shell.execute_reply": "2022-06-10T05:11:42.082603Z",
     "shell.execute_reply.started": "2022-06-10T05:11:42.077353Z"
    }
   },
   "outputs": [],
   "source": [
    "def evaluate_summaries_baseline(dataset, metric,\n",
    "                                column_text='article',\n",
    "                                column_summary='highlights'):\n",
    "    summaries = [three_sentence_summary(text) for text in dataset[column_text]]\n",
    "    metric.add_batch(predictions=summaries, references=dataset[column_summary])\n",
    "    score = metric.compute()\n",
    "    return score"
   ]
  },
  {
   "cell_type": "code",
   "execution_count": 24,
   "metadata": {},
   "outputs": [
    {
     "name": "stderr",
     "output_type": "stream",
     "text": [
      "Loading cached shuffled indices for dataset at /home/olpa/.cache/huggingface/datasets/cnn_dailymail/default/3.0.0/1b3c71476f6d152c31c1730e83ccb08bcf23e348233f4fcc11e182248e6bf7de/cache-888acb9a2eb72e89.arrow\n"
     ]
    }
   ],
   "source": [
    "test_sampled = dataset['test'].shuffle(seed=42).select(range(1000))"
   ]
  },
  {
   "cell_type": "code",
   "execution_count": 25,
   "metadata": {
    "execution": {
     "iopub.execute_input": "2022-06-10T05:11:42.085454Z",
     "iopub.status.busy": "2022-06-10T05:11:42.084554Z",
     "iopub.status.idle": "2022-06-10T05:11:50.249768Z",
     "shell.execute_reply": "2022-06-10T05:11:50.248978Z",
     "shell.execute_reply.started": "2022-06-10T05:11:42.085413Z"
    }
   },
   "outputs": [
    {
     "data": {
      "text/html": [
       "<div>\n",
       "<style scoped>\n",
       "    .dataframe tbody tr th:only-of-type {\n",
       "        vertical-align: middle;\n",
       "    }\n",
       "\n",
       "    .dataframe tbody tr th {\n",
       "        vertical-align: top;\n",
       "    }\n",
       "\n",
       "    .dataframe thead th {\n",
       "        text-align: right;\n",
       "    }\n",
       "</style>\n",
       "<table border=\"1\" class=\"dataframe\">\n",
       "  <thead>\n",
       "    <tr style=\"text-align: right;\">\n",
       "      <th></th>\n",
       "      <th>rouge1</th>\n",
       "      <th>rouge2</th>\n",
       "      <th>rougeL</th>\n",
       "      <th>rougeLsum</th>\n",
       "    </tr>\n",
       "  </thead>\n",
       "  <tbody>\n",
       "    <tr>\n",
       "      <th>baseline</th>\n",
       "      <td>0.388199</td>\n",
       "      <td>0.170481</td>\n",
       "      <td>0.247366</td>\n",
       "      <td>0.354451</td>\n",
       "    </tr>\n",
       "  </tbody>\n",
       "</table>\n",
       "</div>"
      ],
      "text/plain": [
       "            rouge1    rouge2    rougeL  rougeLsum\n",
       "baseline  0.388199  0.170481  0.247366   0.354451"
      ]
     },
     "execution_count": 25,
     "metadata": {},
     "output_type": "execute_result"
    }
   ],
   "source": [
    "score = getv('score_baseline')\n",
    "if not score:\n",
    "    score = evaluate_summaries_baseline(test_sampled, rouge_metric)\n",
    "    putv(score, 'score_baseline')\n",
    "rouge_dict = dict((rn, score[rn].mid.fmeasure) for rn in rouge_names)\n",
    "pd.DataFrame.from_dict(rouge_dict, orient='index', columns=['baseline']).T"
   ]
  },
  {
   "cell_type": "code",
   "execution_count": 26,
   "metadata": {
    "execution": {
     "iopub.execute_input": "2022-06-10T05:11:50.251551Z",
     "iopub.status.busy": "2022-06-10T05:11:50.251186Z",
     "iopub.status.idle": "2022-06-10T05:11:50.323739Z",
     "shell.execute_reply": "2022-06-10T05:11:50.321534Z",
     "shell.execute_reply.started": "2022-06-10T05:11:50.251513Z"
    }
   },
   "outputs": [],
   "source": [
    "device = 'cuda' if torch.cuda.is_available() else 'cpu'\n",
    "\n",
    "def chunks(list_of_elements, batch_size):\n",
    "    for i in range(0, len(list_of_elements), batch_size):\n",
    "        yield list_of_elements[i : i + batch_size]\n",
    "        \n",
    "def evaluate_summaries_pegasus(dataset, metric, model, tokenizer,\n",
    "                              batch_size=16, device=device,\n",
    "                              column_text='article',\n",
    "                              column_summary='highlights'):\n",
    "    article_batches = list(chunks(dataset[column_text], batch_size))\n",
    "    target_batches = list(chunks(dataset[column_summary], batch_size))\n",
    "    \n",
    "    for article_batch, target_batch in tqdm(\n",
    "        zip(article_batches, target_batches), total=len(article_batches)):\n",
    "        \n",
    "        inputs = tokenizer(article_batch, max_length=1024, truncation=True,\n",
    "                          padding='max_length', return_tensors='pt')\n",
    "        \n",
    "        summaries = model.generate(input_ids=inputs['input_ids'].to(device),\n",
    "                                   attention_mask=inputs['attention_mask'].to(device),\n",
    "                                   length_penalty=0.8, num_beams=8, max_length=128)\n",
    "        \n",
    "        decoded_summaries = [tokenizer.decode(s, skip_special_tokens=True,\n",
    "                                             clean_up_tokenization_spaces=True)\n",
    "                            for s in summaries]\n",
    "        decoded_summaries = [d.replace('<n>', ' ') for d in decoded_summaries]\n",
    "        # print('predictions:', decoded_summaries)\n",
    "        # print('references:', target_batch)\n",
    "        metric.add_batch(predictions=decoded_summaries, references=target_batch)\n",
    "    \n",
    "    score = metric.compute()\n",
    "    return score"
   ]
  },
  {
   "cell_type": "code",
   "execution_count": 27,
   "metadata": {},
   "outputs": [],
   "source": [
    "model_ckpt = 'google/pegasus-cnn_dailymail'\n",
    "tokenizer = AutoTokenizer.from_pretrained(model_ckpt)\n",
    "model = AutoModelForSeq2SeqLM.from_pretrained(model_ckpt).to(device)"
   ]
  },
  {
   "cell_type": "code",
   "execution_count": 28,
   "metadata": {},
   "outputs": [
    {
     "data": {
      "text/html": [
       "<div>\n",
       "<style scoped>\n",
       "    .dataframe tbody tr th:only-of-type {\n",
       "        vertical-align: middle;\n",
       "    }\n",
       "\n",
       "    .dataframe tbody tr th {\n",
       "        vertical-align: top;\n",
       "    }\n",
       "\n",
       "    .dataframe thead th {\n",
       "        text-align: right;\n",
       "    }\n",
       "</style>\n",
       "<table border=\"1\" class=\"dataframe\">\n",
       "  <thead>\n",
       "    <tr style=\"text-align: right;\">\n",
       "      <th></th>\n",
       "      <th>rouge1</th>\n",
       "      <th>rouge2</th>\n",
       "      <th>rougeL</th>\n",
       "      <th>rougeLsum</th>\n",
       "    </tr>\n",
       "  </thead>\n",
       "  <tbody>\n",
       "    <tr>\n",
       "      <th>pegasus</th>\n",
       "      <td>0.427289</td>\n",
       "      <td>0.207161</td>\n",
       "      <td>0.304898</td>\n",
       "      <td>0.36915</td>\n",
       "    </tr>\n",
       "  </tbody>\n",
       "</table>\n",
       "</div>"
      ],
      "text/plain": [
       "           rouge1    rouge2    rougeL  rougeLsum\n",
       "pegasus  0.427289  0.207161  0.304898    0.36915"
      ]
     },
     "execution_count": 28,
     "metadata": {},
     "output_type": "execute_result"
    }
   ],
   "source": [
    "score = getv('score_pegasus')\n",
    "if not score:\n",
    "    score = evaluate_summaries_pegasus(test_sampled, rouge_metric,\n",
    "                                   model, tokenizer, batch_size=8)\n",
    "    putv(score, 'score_pegasus')\n",
    "\n",
    "rouge_dict = dict((rn, score[rn].mid.fmeasure) for rn in rouge_names)\n",
    "pd.DataFrame(rouge_dict, index=['pegasus'])"
   ]
  },
  {
   "cell_type": "markdown",
   "metadata": {},
   "source": [
    "# p157 Training a Summarization Model"
   ]
  },
  {
   "cell_type": "code",
   "execution_count": 29,
   "metadata": {},
   "outputs": [
    {
     "name": "stderr",
     "output_type": "stream",
     "text": [
      "Reusing dataset samsum (/home/olpa/.cache/huggingface/datasets/samsum/samsum/0.0.0/f1d7c6b7353e6de335d444e424dc002ef70d1277109031327bc9cc6af5d3d46e)\n"
     ]
    },
    {
     "data": {
      "application/vnd.jupyter.widget-view+json": {
       "model_id": "aaf9b263f24449c4b568bf395c163e63",
       "version_major": 2,
       "version_minor": 0
      },
      "text/plain": [
       "  0%|          | 0/3 [00:00<?, ?it/s]"
      ]
     },
     "metadata": {},
     "output_type": "display_data"
    },
    {
     "name": "stdout",
     "output_type": "stream",
     "text": [
      "Split lengths: [14732, 819, 818]\n",
      "Features: ['id', 'dialogue', 'summary']\n",
      "\n",
      "Dialogue:\n",
      "Hannah: Hey, do you have Betty's number?\n",
      "Amanda: Lemme check\n",
      "Hannah: <file_gif>\n",
      "Amanda: Sorry, can't find it.\n",
      "Amanda: Ask Larry\n",
      "Amanda: He called her last time we were at the park together\n",
      "Hannah: I don't know him well\n",
      "Hannah: <file_gif>\n",
      "Amanda: Don't be shy, he's very nice\n",
      "Hannah: If you say so..\n",
      "Hannah: I'd rather you texted him\n",
      "Amanda: Just text him 🙂\n",
      "Hannah: Urgh.. Alright\n",
      "Hannah: Bye\n",
      "Amanda: Bye bye\n",
      "\n",
      "Summary:\n",
      "Hannah needs Betty's number but Amanda doesn't have it. She needs to contact Larry.\n"
     ]
    }
   ],
   "source": [
    "dataset_samsum = load_dataset('samsum')\n",
    "split_lengths = [len(dataset_samsum[split]) for split in dataset_samsum]\n",
    "\n",
    "print(f'Split lengths: {split_lengths}')\n",
    "print(f\"Features: {dataset_samsum['train'].column_names}\")\n",
    "print('\\nDialogue:')\n",
    "print(dataset_samsum['test'][0]['dialogue'])\n",
    "print('\\nSummary:')\n",
    "print(dataset_samsum['test'][0]['summary'])"
   ]
  },
  {
   "cell_type": "code",
   "execution_count": 30,
   "metadata": {},
   "outputs": [],
   "source": [
    "pipe = pipeline('summarization', model='google/pegasus-cnn_dailymail')"
   ]
  },
  {
   "cell_type": "code",
   "execution_count": 31,
   "metadata": {},
   "outputs": [
    {
     "name": "stderr",
     "output_type": "stream",
     "text": [
      "Your max_length is set to 128, but you input_length is only 122. You might consider decreasing max_length manually, e.g. summarizer('...', max_length=61)\n"
     ]
    },
    {
     "name": "stdout",
     "output_type": "stream",
     "text": [
      "Summary:\n",
      "Amanda: Ask Larry Amanda: He called her last time we were at the park together.\n",
      "Hannah: I'd rather you texted him.\n",
      "Amanda: Just text him .\n"
     ]
    }
   ],
   "source": [
    "pipe_out = pipe(dataset_samsum['test'][0]['dialogue'])\n",
    "print('Summary:')\n",
    "print(pipe_out[0]['summary_text'].replace(' .<n>', '.\\n'))"
   ]
  },
  {
   "cell_type": "code",
   "execution_count": 32,
   "metadata": {
    "execution": {
     "iopub.execute_input": "2022-06-10T05:30:01.049292Z",
     "iopub.status.busy": "2022-06-10T05:30:01.048891Z",
     "iopub.status.idle": "2022-06-10T05:30:01.061074Z",
     "shell.execute_reply": "2022-06-10T05:30:01.060360Z",
     "shell.execute_reply.started": "2022-06-10T05:30:01.049254Z"
    }
   },
   "outputs": [
    {
     "data": {
      "text/html": [
       "<div>\n",
       "<style scoped>\n",
       "    .dataframe tbody tr th:only-of-type {\n",
       "        vertical-align: middle;\n",
       "    }\n",
       "\n",
       "    .dataframe tbody tr th {\n",
       "        vertical-align: top;\n",
       "    }\n",
       "\n",
       "    .dataframe thead th {\n",
       "        text-align: right;\n",
       "    }\n",
       "</style>\n",
       "<table border=\"1\" class=\"dataframe\">\n",
       "  <thead>\n",
       "    <tr style=\"text-align: right;\">\n",
       "      <th></th>\n",
       "      <th>rouge1</th>\n",
       "      <th>rouge2</th>\n",
       "      <th>rougeL</th>\n",
       "      <th>rougeLsum</th>\n",
       "    </tr>\n",
       "  </thead>\n",
       "  <tbody>\n",
       "    <tr>\n",
       "      <th>pegasus</th>\n",
       "      <td>0.296141</td>\n",
       "      <td>0.087566</td>\n",
       "      <td>0.229352</td>\n",
       "      <td>0.229297</td>\n",
       "    </tr>\n",
       "  </tbody>\n",
       "</table>\n",
       "</div>"
      ],
      "text/plain": [
       "           rouge1    rouge2    rougeL  rougeLsum\n",
       "pegasus  0.296141  0.087566  0.229352   0.229297"
      ]
     },
     "execution_count": 32,
     "metadata": {},
     "output_type": "execute_result"
    }
   ],
   "source": [
    "score = getv('score_samsum')\n",
    "if not score:\n",
    "    score = evaluate_summaries_pegasus(dataset_samsum['test'], rouge_metric, model,\n",
    "                                  tokenizer, column_text='dialogue',\n",
    "                                  column_summary='summary', batch_size=8)\n",
    "    putv(score, 'score_samsum')\n",
    "\n",
    "rouge_dict = dict((rn, score[rn].mid.fmeasure) for rn in rouge_names)\n",
    "pd.DataFrame(rouge_dict, index=['pegasus'])"
   ]
  },
  {
   "cell_type": "code",
   "execution_count": 33,
   "metadata": {},
   "outputs": [
    {
     "name": "stderr",
     "output_type": "stream",
     "text": [
      "Token indices sequence length is longer than the specified maximum sequence length for this model (1044 > 1024). Running this sequence through the model will result in indexing errors\n"
     ]
    }
   ],
   "source": [
    "d_len = [len(tokenizer.encode(s)) for s in dataset_samsum['train']['dialogue']]\n",
    "s_len = [len(tokenizer.encode(s)) for s in dataset_samsum['train']['summary']]"
   ]
  },
  {
   "cell_type": "code",
   "execution_count": 34,
   "metadata": {},
   "outputs": [
    {
     "data": {
      "image/png": "[encoded data removed]",
      "text/plain": [
       "<Figure size 720x252 with 2 Axes>"
      ]
     },
     "metadata": {
      "needs_background": "light"
     },
     "output_type": "display_data"
    }
   ],
   "source": [
    "fig, axes = plt.subplots(1, 2, figsize=(10, 3.5), sharey=True)\n",
    "axes[0].hist(d_len, bins=20, color='C0', edgecolor='C0')\n",
    "axes[0].set_title('SAMSUM Dialogue Token Length')\n",
    "axes[0].set_xlabel('Length')\n",
    "axes[0].set_ylabel('Count')\n",
    "axes[1].hist(s_len, bins=20, color='C0', edgecolor='C0')\n",
    "axes[1].set_title('Summary Token Length')\n",
    "axes[1].set_xlabel('Length')\n",
    "plt.tight_layout()\n",
    "plt.show()"
   ]
  },
  {
   "cell_type": "code",
   "execution_count": 35,
   "metadata": {},
   "outputs": [],
   "source": [
    "d_len = [len(tokenizer.encode(s)) for s in dataset['train'].select(range(100))['article']]\n",
    "s_len = [len(tokenizer.encode(s)) for s in dataset['train'].select(range(100))['highlights']]"
   ]
  },
  {
   "cell_type": "code",
   "execution_count": 36,
   "metadata": {},
   "outputs": [
    {
     "data": {
      "image/png": "[encoded data removed]",
      "text/plain": [
       "<Figure size 720x252 with 2 Axes>"
      ]
     },
     "metadata": {
      "needs_background": "light"
     },
     "output_type": "display_data"
    }
   ],
   "source": [
    "fig, axes = plt.subplots(1, 2, figsize=(10, 3.5), sharey=True)\n",
    "axes[0].hist(d_len, bins=20, color='C0', edgecolor='C0')\n",
    "axes[0].set_title('CNN DAILYMAIL Dialogue Token Length')\n",
    "axes[0].set_xlabel('Length')\n",
    "axes[0].set_ylabel('Count')\n",
    "axes[1].hist(s_len, bins=20, color='C0', edgecolor='C0')\n",
    "axes[1].set_title('Summary Token Length')\n",
    "axes[1].set_xlabel('Length')\n",
    "plt.tight_layout()\n",
    "plt.show()"
   ]
  },
  {
   "cell_type": "code",
   "execution_count": 37,
   "metadata": {},
   "outputs": [
    {
     "data": {
      "application/vnd.jupyter.widget-view+json": {
       "model_id": "fc8f61d136c44f289b72a4f6605ecb7d",
       "version_major": 2,
       "version_minor": 0
      },
      "text/plain": [
       "  0%|          | 0/15 [00:00<?, ?ba/s]"
      ]
     },
     "metadata": {},
     "output_type": "display_data"
    },
    {
     "data": {
      "application/vnd.jupyter.widget-view+json": {
       "model_id": "a35aa2ab6de041a6b92a947a815be818",
       "version_major": 2,
       "version_minor": 0
      },
      "text/plain": [
       "  0%|          | 0/1 [00:00<?, ?ba/s]"
      ]
     },
     "metadata": {},
     "output_type": "display_data"
    },
    {
     "data": {
      "application/vnd.jupyter.widget-view+json": {
       "model_id": "ede965cd08bd44e894c6a33c3b0985d1",
       "version_major": 2,
       "version_minor": 0
      },
      "text/plain": [
       "  0%|          | 0/1 [00:00<?, ?ba/s]"
      ]
     },
     "metadata": {},
     "output_type": "display_data"
    }
   ],
   "source": [
    "def convert_examples_to_features(example_batch):\n",
    "    input_encodings = tokenizer(example_batch['dialogue'], max_length=1024,\n",
    "                                truncation=True)\n",
    "    with tokenizer.as_target_tokenizer():\n",
    "        target_encodings = tokenizer(example_batch['summary'], max_length=128,\n",
    "                                    truncation=True)\n",
    "    return {'input_ids': input_encodings['input_ids'],\n",
    "           'attention_mask': input_encodings['attention_mask'],\n",
    "           'labels': target_encodings['input_ids']}\n",
    "\n",
    "dataset_samsum_pt = dataset_samsum.map(convert_examples_to_features,\n",
    "                                      batched=True)\n",
    "columns = ['input_ids', 'labels', 'attention_mask']\n",
    "dataset_samsum_pt.set_format(type='torch', columns=columns)"
   ]
  },
  {
   "cell_type": "code",
   "execution_count": 38,
   "metadata": {
    "scrolled": true
   },
   "outputs": [
    {
     "data": {
      "application/vnd.jupyter.widget-view+json": {
       "model_id": "f4bec7d969984cb09a7ac2e1eceaa760",
       "version_major": 2,
       "version_minor": 0
      },
      "text/plain": [
       "  0%|          | 0/1 [00:00<?, ?ba/s]"
      ]
     },
     "metadata": {},
     "output_type": "display_data"
    },
    {
     "data": {
      "text/html": [
       "<div>\n",
       "<style scoped>\n",
       "    .dataframe tbody tr th:only-of-type {\n",
       "        vertical-align: middle;\n",
       "    }\n",
       "\n",
       "    .dataframe tbody tr th {\n",
       "        vertical-align: top;\n",
       "    }\n",
       "\n",
       "    .dataframe thead th {\n",
       "        text-align: right;\n",
       "    }\n",
       "</style>\n",
       "<table border=\"1\" class=\"dataframe\">\n",
       "  <thead>\n",
       "    <tr style=\"text-align: right;\">\n",
       "      <th></th>\n",
       "      <th>dialogue</th>\n",
       "      <th>summary</th>\n",
       "      <th>input_ids</th>\n",
       "      <th>labels</th>\n",
       "      <th>input_tokens</th>\n",
       "      <th>labels_tokens</th>\n",
       "    </tr>\n",
       "  </thead>\n",
       "  <tbody>\n",
       "    <tr>\n",
       "      <th>0</th>\n",
       "      <td>Amanda: I baked  cookies. Do you want some?\\r\\...</td>\n",
       "      <td>Amanda baked cookies and will bring Jerry some...</td>\n",
       "      <td>[12195, 151, 125, 7091, 3659, 107, 842, 119, 2...</td>\n",
       "      <td>[12195, 7091, 3659, 111, 138, 650, 10508, 181,...</td>\n",
       "      <td>[▁Amanda, :, ▁I, ▁baked, ▁cookies, ., ▁Do, ▁yo...</td>\n",
       "      <td>[▁Amanda, ▁baked, ▁cookies, ▁and, ▁will, ▁brin...</td>\n",
       "    </tr>\n",
       "    <tr>\n",
       "      <th>1</th>\n",
       "      <td>Olivia: Who are you voting for in this electio...</td>\n",
       "      <td>Olivia and Olivier are voting for liberals in ...</td>\n",
       "      <td>[18038, 151, 2632, 127, 119, 6228, 118, 115, 1...</td>\n",
       "      <td>[18038, 111, 34296, 127, 6228, 118, 33195, 115...</td>\n",
       "      <td>[▁Olivia, :, ▁Who, ▁are, ▁you, ▁voting, ▁for, ...</td>\n",
       "      <td>[▁Olivia, ▁and, ▁Olivier, ▁are, ▁voting, ▁for,...</td>\n",
       "    </tr>\n",
       "    <tr>\n",
       "      <th>2</th>\n",
       "      <td>Tim: Hi, what's up?\\r\\nKim: Bad mood tbh, I wa...</td>\n",
       "      <td>Kim may try the pomodoro technique recommended...</td>\n",
       "      <td>[4776, 151, 4451, 108, 180, 131, 116, 164, 152...</td>\n",
       "      <td>[5377, 218, 508, 109, 891, 93882, 3111, 2087, ...</td>\n",
       "      <td>[▁Tim, :, ▁Hi, ,, ▁what, ', s, ▁up, ?, ▁Kim, :...</td>\n",
       "      <td>[▁Kim, ▁may, ▁try, ▁the, ▁p, omodoro, ▁techniq...</td>\n",
       "    </tr>\n",
       "  </tbody>\n",
       "</table>\n",
       "</div>"
      ],
      "text/plain": [
       "                                            dialogue  \\\n",
       "0  Amanda: I baked  cookies. Do you want some?\\r\\...   \n",
       "1  Olivia: Who are you voting for in this electio...   \n",
       "2  Tim: Hi, what's up?\\r\\nKim: Bad mood tbh, I wa...   \n",
       "\n",
       "                                             summary  \\\n",
       "0  Amanda baked cookies and will bring Jerry some...   \n",
       "1  Olivia and Olivier are voting for liberals in ...   \n",
       "2  Kim may try the pomodoro technique recommended...   \n",
       "\n",
       "                                           input_ids  \\\n",
       "0  [12195, 151, 125, 7091, 3659, 107, 842, 119, 2...   \n",
       "1  [18038, 151, 2632, 127, 119, 6228, 118, 115, 1...   \n",
       "2  [4776, 151, 4451, 108, 180, 131, 116, 164, 152...   \n",
       "\n",
       "                                              labels  \\\n",
       "0  [12195, 7091, 3659, 111, 138, 650, 10508, 181,...   \n",
       "1  [18038, 111, 34296, 127, 6228, 118, 33195, 115...   \n",
       "2  [5377, 218, 508, 109, 891, 93882, 3111, 2087, ...   \n",
       "\n",
       "                                        input_tokens  \\\n",
       "0  [▁Amanda, :, ▁I, ▁baked, ▁cookies, ., ▁Do, ▁yo...   \n",
       "1  [▁Olivia, :, ▁Who, ▁are, ▁you, ▁voting, ▁for, ...   \n",
       "2  [▁Tim, :, ▁Hi, ,, ▁what, ', s, ▁up, ?, ▁Kim, :...   \n",
       "\n",
       "                                       labels_tokens  \n",
       "0  [▁Amanda, ▁baked, ▁cookies, ▁and, ▁will, ▁brin...  \n",
       "1  [▁Olivia, ▁and, ▁Olivier, ▁are, ▁voting, ▁for,...  \n",
       "2  [▁Kim, ▁may, ▁try, ▁the, ▁p, omodoro, ▁techniq...  "
      ]
     },
     "metadata": {},
     "output_type": "display_data"
    }
   ],
   "source": [
    "ds = dataset_samsum_pt['train'].select(range(3))\n",
    "def mm_batch(recs):\n",
    "    input_tokens = [tokenizer.convert_ids_to_tokens(ids) for ids in recs['input_ids']]\n",
    "    labels_tokens = [tokenizer.convert_ids_to_tokens(ids) for ids in recs['labels']]\n",
    "    return {'input_tokens': input_tokens, 'labels_tokens': labels_tokens}\n",
    "\n",
    "ds2 = ds.map(mm_batch, batched=True)\n",
    "df = ds2.to_pandas()\n",
    "display(df[['dialogue', 'summary', 'input_ids', 'labels', 'input_tokens', 'labels_tokens']])"
   ]
  },
  {
   "cell_type": "code",
   "execution_count": 39,
   "metadata": {},
   "outputs": [],
   "source": [
    "model_local = 'pegasus-samsum'\n",
    "\n",
    "if not TRAIN_MODEL:\n",
    "    model = AutoModelForSeq2SeqLM.from_pretrained(f'olpa/{model_local}').to(device)"
   ]
  },
  {
   "cell_type": "code",
   "execution_count": 40,
   "metadata": {},
   "outputs": [],
   "source": [
    "seq2seq_data_collator = DataCollatorForSeq2Seq(tokenizer, model=model)\n",
    "training_args = TrainingArguments(\n",
    "    output_dir = model_local, num_train_epochs=1, warmup_steps=500,\n",
    "    per_device_train_batch_size=1, per_device_eval_batch_size=1,\n",
    "    weight_decay=0.01, logging_steps=10, push_to_hub=True,\n",
    "    evaluation_strategy='steps', eval_steps=500, save_steps=1e6,\n",
    "    gradient_accumulation_steps=16\n",
    ")"
   ]
  },
  {
   "cell_type": "code",
   "execution_count": 41,
   "metadata": {},
   "outputs": [
    {
     "name": "stderr",
     "output_type": "stream",
     "text": [
      "/home/olpa/p/small_tasks/2022/transformers/pegasus-samsum is already a clone of https://huggingface.co/olpa/pegasus-samsum. Make sure you pull the latest changes with `repo.git_pull()`.\n"
     ]
    }
   ],
   "source": [
    "trainer = Trainer(model=model, args=training_args,\n",
    "                  tokenizer=tokenizer, data_collator=seq2seq_data_collator,\n",
    "                  train_dataset=dataset_samsum_pt['train'],\n",
    "                  eval_dataset=dataset_samsum_pt['validation'])"
   ]
  },
  {
   "cell_type": "code",
   "execution_count": 42,
   "metadata": {},
   "outputs": [],
   "source": [
    "if TRAIN_MODEL:\n",
    "    trainer.train()\n",
    "    trainer.push_to_hub('Training complete!')"
   ]
  },
  {
   "cell_type": "code",
   "execution_count": 43,
   "metadata": {},
   "outputs": [],
   "source": [
    "score = getv('score_trained')\n",
    "if not score:\n",
    "    score = evaluate_summaries_pegasus(\n",
    "        dataset_samsum['test'], rouge_metric, trainer.model, tokenizer,\n",
    "        batch_size=2, column_text='dialogue', column_summary='summary'\n",
    "    )\n",
    "    putv(score, 'score_trained')"
   ]
  },
  {
   "cell_type": "code",
   "execution_count": 44,
   "metadata": {},
   "outputs": [
    {
     "data": {
      "text/html": [
       "<div>\n",
       "<style scoped>\n",
       "    .dataframe tbody tr th:only-of-type {\n",
       "        vertical-align: middle;\n",
       "    }\n",
       "\n",
       "    .dataframe tbody tr th {\n",
       "        vertical-align: top;\n",
       "    }\n",
       "\n",
       "    .dataframe thead th {\n",
       "        text-align: right;\n",
       "    }\n",
       "</style>\n",
       "<table border=\"1\" class=\"dataframe\">\n",
       "  <thead>\n",
       "    <tr style=\"text-align: right;\">\n",
       "      <th></th>\n",
       "      <th>rouge1</th>\n",
       "      <th>rouge2</th>\n",
       "      <th>rougeL</th>\n",
       "      <th>rougeLsum</th>\n",
       "    </tr>\n",
       "  </thead>\n",
       "  <tbody>\n",
       "    <tr>\n",
       "      <th>pegasus</th>\n",
       "      <td>0.441787</td>\n",
       "      <td>0.209993</td>\n",
       "      <td>0.349317</td>\n",
       "      <td>0.349239</td>\n",
       "    </tr>\n",
       "  </tbody>\n",
       "</table>\n",
       "</div>"
      ],
      "text/plain": [
       "           rouge1    rouge2    rougeL  rougeLsum\n",
       "pegasus  0.441787  0.209993  0.349317   0.349239"
      ]
     },
     "execution_count": 44,
     "metadata": {},
     "output_type": "execute_result"
    }
   ],
   "source": [
    "rouge_dict = dict((rn, score[rn].mid.fmeasure) for rn in rouge_names)\n",
    "pd.DataFrame(rouge_dict, index=['pegasus'])"
   ]
  },
  {
   "cell_type": "markdown",
   "metadata": {},
   "source": [
    "# p162 Generating Dialogue Summaries"
   ]
  },
  {
   "cell_type": "code",
   "execution_count": 45,
   "metadata": {},
   "outputs": [
    {
     "name": "stderr",
     "output_type": "stream",
     "text": [
      "loading configuration file https://huggingface.co/olpa/pegasus-samsum/resolve/main/config.json from cache at /home/olpa/.cache/huggingface/transformers/626603313cf40ca696b010a1f381033898147fe071f5c7970f426aa879c7e2af.b46a75d1f06c6187e9e1e283bc240896e6772d607bc51a4386380939514cf055\n",
      "Model config PegasusConfig {\n",
      "  \"_name_or_path\": \"olpa/pegasus-samsum\",\n",
      "  \"activation_dropout\": 0.1,\n",
      "  \"activation_function\": \"relu\",\n",
      "  \"add_bias_logits\": false,\n",
      "  \"add_final_layer_norm\": true,\n",
      "  \"architectures\": [\n",
      "    \"PegasusForConditionalGeneration\"\n",
      "  ],\n",
      "  \"attention_dropout\": 0.1,\n",
      "  \"bos_token_id\": 0,\n",
      "  \"classif_dropout\": 0.0,\n",
      "  \"classifier_dropout\": 0.0,\n",
      "  \"d_model\": 1024,\n",
      "  \"decoder_attention_heads\": 16,\n",
      "  \"decoder_ffn_dim\": 4096,\n",
      "  \"decoder_layerdrop\": 0.0,\n",
      "  \"decoder_layers\": 16,\n",
      "  \"decoder_start_token_id\": 0,\n",
      "  \"dropout\": 0.1,\n",
      "  \"encoder_attention_heads\": 16,\n",
      "  \"encoder_ffn_dim\": 4096,\n",
      "  \"encoder_layerdrop\": 0.0,\n",
      "  \"encoder_layers\": 16,\n",
      "  \"eos_token_id\": 1,\n",
      "  \"extra_pos_embeddings\": 1,\n",
      "  \"forced_eos_token_id\": 1,\n",
      "  \"id2label\": {\n",
      "    \"0\": \"LABEL_0\",\n",
      "    \"1\": \"LABEL_1\",\n",
      "    \"2\": \"LABEL_2\"\n",
      "  },\n",
      "  \"init_std\": 0.02,\n",
      "  \"is_encoder_decoder\": true,\n",
      "  \"label2id\": {\n",
      "    \"LABEL_0\": 0,\n",
      "    \"LABEL_1\": 1,\n",
      "    \"LABEL_2\": 2\n",
      "  },\n",
      "  \"length_penalty\": 0.8,\n",
      "  \"max_length\": 128,\n",
      "  \"max_position_embeddings\": 1024,\n",
      "  \"min_length\": 32,\n",
      "  \"model_type\": \"pegasus\",\n",
      "  \"normalize_before\": true,\n",
      "  \"normalize_embedding\": false,\n",
      "  \"num_beams\": 8,\n",
      "  \"num_hidden_layers\": 16,\n",
      "  \"pad_token_id\": 0,\n",
      "  \"scale_embedding\": true,\n",
      "  \"static_position_embeddings\": true,\n",
      "  \"torch_dtype\": \"float32\",\n",
      "  \"transformers_version\": \"4.18.0\",\n",
      "  \"use_cache\": true,\n",
      "  \"vocab_size\": 96103\n",
      "}\n",
      "\n",
      "loading configuration file https://huggingface.co/olpa/pegasus-samsum/resolve/main/config.json from cache at /home/olpa/.cache/huggingface/transformers/626603313cf40ca696b010a1f381033898147fe071f5c7970f426aa879c7e2af.b46a75d1f06c6187e9e1e283bc240896e6772d607bc51a4386380939514cf055\n",
      "Model config PegasusConfig {\n",
      "  \"_name_or_path\": \"olpa/pegasus-samsum\",\n",
      "  \"activation_dropout\": 0.1,\n",
      "  \"activation_function\": \"relu\",\n",
      "  \"add_bias_logits\": false,\n",
      "  \"add_final_layer_norm\": true,\n",
      "  \"architectures\": [\n",
      "    \"PegasusForConditionalGeneration\"\n",
      "  ],\n",
      "  \"attention_dropout\": 0.1,\n",
      "  \"bos_token_id\": 0,\n",
      "  \"classif_dropout\": 0.0,\n",
      "  \"classifier_dropout\": 0.0,\n",
      "  \"d_model\": 1024,\n",
      "  \"decoder_attention_heads\": 16,\n",
      "  \"decoder_ffn_dim\": 4096,\n",
      "  \"decoder_layerdrop\": 0.0,\n",
      "  \"decoder_layers\": 16,\n",
      "  \"decoder_start_token_id\": 0,\n",
      "  \"dropout\": 0.1,\n",
      "  \"encoder_attention_heads\": 16,\n",
      "  \"encoder_ffn_dim\": 4096,\n",
      "  \"encoder_layerdrop\": 0.0,\n",
      "  \"encoder_layers\": 16,\n",
      "  \"eos_token_id\": 1,\n",
      "  \"extra_pos_embeddings\": 1,\n",
      "  \"forced_eos_token_id\": 1,\n",
      "  \"id2label\": {\n",
      "    \"0\": \"LABEL_0\",\n",
      "    \"1\": \"LABEL_1\",\n",
      "    \"2\": \"LABEL_2\"\n",
      "  },\n",
      "  \"init_std\": 0.02,\n",
      "  \"is_encoder_decoder\": true,\n",
      "  \"label2id\": {\n",
      "    \"LABEL_0\": 0,\n",
      "    \"LABEL_1\": 1,\n",
      "    \"LABEL_2\": 2\n",
      "  },\n",
      "  \"length_penalty\": 0.8,\n",
      "  \"max_length\": 128,\n",
      "  \"max_position_embeddings\": 1024,\n",
      "  \"min_length\": 32,\n",
      "  \"model_type\": \"pegasus\",\n",
      "  \"normalize_before\": true,\n",
      "  \"normalize_embedding\": false,\n",
      "  \"num_beams\": 8,\n",
      "  \"num_hidden_layers\": 16,\n",
      "  \"pad_token_id\": 0,\n",
      "  \"scale_embedding\": true,\n",
      "  \"static_position_embeddings\": true,\n",
      "  \"torch_dtype\": \"float32\",\n",
      "  \"transformers_version\": \"4.18.0\",\n",
      "  \"use_cache\": true,\n",
      "  \"vocab_size\": 96103\n",
      "}\n",
      "\n",
      "loading weights file https://huggingface.co/olpa/pegasus-samsum/resolve/main/pytorch_model.bin from cache at /home/olpa/.cache/huggingface/transformers/20afe22f36719d746edd52562fd0d5e9a8f56ef60fb13da7b1245020c34abc6a.d52d341fd7a20f9db57df7a805aac1c1b2ed06f571fd22825dacd82f16ceef34\n",
      "All model checkpoint weights were used when initializing PegasusForConditionalGeneration.\n",
      "\n",
      "All the weights of PegasusForConditionalGeneration were initialized from the model checkpoint at olpa/pegasus-samsum.\n",
      "If your task is similar to the task the model of the checkpoint was trained on, you can already use PegasusForConditionalGeneration for predictions without further training.\n",
      "https://huggingface.co/olpa/pegasus-samsum/resolve/main/tokenizer_config.json not found in cache or force_download set to True, downloading to /home/olpa/.cache/huggingface/transformers/tmpe8id02kl\n"
     ]
    },
    {
     "data": {
      "application/vnd.jupyter.widget-view+json": {
       "model_id": "2284be2e72404ec480d5ddef50a6f5bc",
       "version_major": 2,
       "version_minor": 0
      },
      "text/plain": [
       "Downloading:   0%|          | 0.00/1.55k [00:00<?, ?B/s]"
      ]
     },
     "metadata": {},
     "output_type": "display_data"
    },
    {
     "name": "stderr",
     "output_type": "stream",
     "text": [
      "storing https://huggingface.co/olpa/pegasus-samsum/resolve/main/tokenizer_config.json in cache at /home/olpa/.cache/huggingface/transformers/d4b8c04f3d7efaeed4dec8779ac20d6b19bb8cd5b4e7d7b73e6c36b3621f2d44.6bd7e13d2860a6b55ee2dfa8c312bc6105121c296632ce2fe8b8fcba31fe1e57\n",
      "creating metadata file for /home/olpa/.cache/huggingface/transformers/d4b8c04f3d7efaeed4dec8779ac20d6b19bb8cd5b4e7d7b73e6c36b3621f2d44.6bd7e13d2860a6b55ee2dfa8c312bc6105121c296632ce2fe8b8fcba31fe1e57\n",
      "https://huggingface.co/olpa/pegasus-samsum/resolve/main/spiece.model not found in cache or force_download set to True, downloading to /home/olpa/.cache/huggingface/transformers/tmp5b27kir4\n"
     ]
    },
    {
     "data": {
      "application/vnd.jupyter.widget-view+json": {
       "model_id": "8dffbe1cf5d149169055490ac9b6001e",
       "version_major": 2,
       "version_minor": 0
      },
      "text/plain": [
       "Downloading:   0%|          | 0.00/1.82M [00:00<?, ?B/s]"
      ]
     },
     "metadata": {},
     "output_type": "display_data"
    },
    {
     "name": "stderr",
     "output_type": "stream",
     "text": [
      "storing https://huggingface.co/olpa/pegasus-samsum/resolve/main/spiece.model in cache at /home/olpa/.cache/huggingface/transformers/d62ecd12fd3ff63c59de785004b92502740da974aeba8bf20b3b403452028478.998a78c02c57769973177e597b68eb63a587023acaa1336bbdc49e8c681aaeac\n",
      "creating metadata file for /home/olpa/.cache/huggingface/transformers/d62ecd12fd3ff63c59de785004b92502740da974aeba8bf20b3b403452028478.998a78c02c57769973177e597b68eb63a587023acaa1336bbdc49e8c681aaeac\n",
      "https://huggingface.co/olpa/pegasus-samsum/resolve/main/tokenizer.json not found in cache or force_download set to True, downloading to /home/olpa/.cache/huggingface/transformers/tmphyvn0thc\n"
     ]
    },
    {
     "data": {
      "application/vnd.jupyter.widget-view+json": {
       "model_id": "bb40d8dbdc8d41f39aefc617ba455dd2",
       "version_major": 2,
       "version_minor": 0
      },
      "text/plain": [
       "Downloading:   0%|          | 0.00/6.30M [00:00<?, ?B/s]"
      ]
     },
     "metadata": {},
     "output_type": "display_data"
    },
    {
     "name": "stderr",
     "output_type": "stream",
     "text": [
      "storing https://huggingface.co/olpa/pegasus-samsum/resolve/main/tokenizer.json in cache at /home/olpa/.cache/huggingface/transformers/eca6c200cd6496ffe6815a96739f48016c00e888fdc682e563cb65582ff2ff76.1426022f2e186170369cd12cc5573962459a6221f7414abc57680a254d2c33cc\n",
      "creating metadata file for /home/olpa/.cache/huggingface/transformers/eca6c200cd6496ffe6815a96739f48016c00e888fdc682e563cb65582ff2ff76.1426022f2e186170369cd12cc5573962459a6221f7414abc57680a254d2c33cc\n",
      "https://huggingface.co/olpa/pegasus-samsum/resolve/main/special_tokens_map.json not found in cache or force_download set to True, downloading to /home/olpa/.cache/huggingface/transformers/tmp5gy9vz6r\n"
     ]
    },
    {
     "data": {
      "application/vnd.jupyter.widget-view+json": {
       "model_id": "905da3388e5541d294c8a2f78d10df44",
       "version_major": 2,
       "version_minor": 0
      },
      "text/plain": [
       "Downloading:   0%|          | 0.00/1.31k [00:00<?, ?B/s]"
      ]
     },
     "metadata": {},
     "output_type": "display_data"
    },
    {
     "name": "stderr",
     "output_type": "stream",
     "text": [
      "storing https://huggingface.co/olpa/pegasus-samsum/resolve/main/special_tokens_map.json in cache at /home/olpa/.cache/huggingface/transformers/0fe2c98329e31e841378a5cddb0fd0ed827866c30e1b526b063f3c799b7b8897.d6a458395976c3c3174927747aca890171a59df352e292371bf46aa0bdd6615d\n",
      "creating metadata file for /home/olpa/.cache/huggingface/transformers/0fe2c98329e31e841378a5cddb0fd0ed827866c30e1b526b063f3c799b7b8897.d6a458395976c3c3174927747aca890171a59df352e292371bf46aa0bdd6615d\n",
      "loading file https://huggingface.co/olpa/pegasus-samsum/resolve/main/spiece.model from cache at /home/olpa/.cache/huggingface/transformers/d62ecd12fd3ff63c59de785004b92502740da974aeba8bf20b3b403452028478.998a78c02c57769973177e597b68eb63a587023acaa1336bbdc49e8c681aaeac\n",
      "loading file https://huggingface.co/olpa/pegasus-samsum/resolve/main/tokenizer.json from cache at /home/olpa/.cache/huggingface/transformers/eca6c200cd6496ffe6815a96739f48016c00e888fdc682e563cb65582ff2ff76.1426022f2e186170369cd12cc5573962459a6221f7414abc57680a254d2c33cc\n",
      "loading file https://huggingface.co/olpa/pegasus-samsum/resolve/main/added_tokens.json from cache at None\n",
      "loading file https://huggingface.co/olpa/pegasus-samsum/resolve/main/special_tokens_map.json from cache at /home/olpa/.cache/huggingface/transformers/0fe2c98329e31e841378a5cddb0fd0ed827866c30e1b526b063f3c799b7b8897.d6a458395976c3c3174927747aca890171a59df352e292371bf46aa0bdd6615d\n",
      "loading file https://huggingface.co/olpa/pegasus-samsum/resolve/main/tokenizer_config.json from cache at /home/olpa/.cache/huggingface/transformers/d4b8c04f3d7efaeed4dec8779ac20d6b19bb8cd5b4e7d7b73e6c36b3621f2d44.6bd7e13d2860a6b55ee2dfa8c312bc6105121c296632ce2fe8b8fcba31fe1e57\n"
     ]
    }
   ],
   "source": [
    "gen_kwargs = {'length_penalty': 0.8, 'num_beams': 8, 'max_length': 128}\n",
    "sample_text = dataset_samsum['test'][0]['dialogue']\n",
    "reference = dataset_samsum['test'][0]['summary']\n",
    "pipe = pipeline('summarization', model=f'olpa/{model_local}')"
   ]
  },
  {
   "cell_type": "code",
   "execution_count": 47,
   "metadata": {},
   "outputs": [
    {
     "name": "stderr",
     "output_type": "stream",
     "text": [
      "Your max_length is set to 128, but you input_length is only 122. You might consider decreasing max_length manually, e.g. summarizer('...', max_length=61)\n"
     ]
    },
    {
     "name": "stdout",
     "output_type": "stream",
     "text": [
      "Dialogue:\n",
      "Hannah: Hey, do you have Betty's number?\n",
      "Amanda: Lemme check\n",
      "Hannah: <file_gif>\n",
      "Amanda: Sorry, can't find it.\n",
      "Amanda: Ask Larry\n",
      "Amanda: He called her last time we were at the park together\n",
      "Hannah: I don't know him well\n",
      "Hannah: <file_gif>\n",
      "Amanda: Don't be shy, he's very nice\n",
      "Hannah: If you say so..\n",
      "Hannah: I'd rather you texted him\n",
      "Amanda: Just text him 🙂\n",
      "Hannah: Urgh.. Alright\n",
      "Hannah: Bye\n",
      "Amanda: Bye bye\n",
      "\n",
      "Reference Summary:\n",
      "Hannah needs Betty's number but Amanda doesn't have it. She needs to contact Larry.\n",
      "\n",
      "MOdel Summary:\n",
      "Amanda can't find Betty's number. Larry called her last time they were at the park together. Hannah would rather she text him. Amanda will text him.\n"
     ]
    }
   ],
   "source": [
    "print('Dialogue:')\n",
    "print(sample_text)\n",
    "print('\\nReference Summary:')\n",
    "print(reference)\n",
    "print('\\nMOdel Summary:')\n",
    "print(pipe(sample_text, **gen_kwargs)[0]['summary_text'])"
   ]
  },
  {
   "cell_type": "code",
   "execution_count": 49,
   "metadata": {},
   "outputs": [
    {
     "name": "stderr",
     "output_type": "stream",
     "text": [
      "Your max_length is set to 128, but you input_length is only 94. You might consider decreasing max_length manually, e.g. summarizer('...', max_length=47)\n"
     ]
    },
    {
     "name": "stdout",
     "output_type": "stream",
     "text": [
      "Thom, Lewis and Leandro are going to write a book about transformers. Thom helped build a library by Hugging Face. They are going to do it together.\n"
     ]
    }
   ],
   "source": [
    "custom_dialogue = \"\"\"\\\n",
    "Thom: Hi guys, have you heard of transformers?\n",
    "Lewis: Yes, I used them recently!\n",
    "Leandro: Indeed, there is a great library by Hugging Face.\n",
    "Thom: I know, I helped build it ;)\n",
    "Lewis: Cool, maybe we should write a book about it. What do you think?\n",
    "Leandro: Great idea, how hard can it be?!\n",
    "Thom: I am in!\n",
    "Lewis: Awesone, let's do it together!\n",
    "\"\"\"\n",
    "print(pipe(custom_dialogue, **gen_kwargs)[0]['summary_text'])"
   ]
  },
  {
   "cell_type": "code",
   "execution_count": null,
   "metadata": {},
   "outputs": [],
   "source": []
  }
 ],
 "metadata": {
  "kernelspec": {
   "display_name": "Python 3",
   "language": "python",
   "name": "python3"
  },
  "language_info": {
   "codemirror_mode": {
    "name": "ipython",
    "version": 3
   },
   "file_extension": ".py",
   "mimetype": "text/x-python",
   "name": "python",
   "nbconvert_exporter": "python",
   "pygments_lexer": "ipython3",
   "version": "3.8.10"
  }
 },
 "nbformat": 4,
 "nbformat_minor": 4
}
