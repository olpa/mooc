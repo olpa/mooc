{
 "cells": [
  {
   "cell_type": "markdown",
   "id": "29aad8bf",
   "metadata": {},
   "source": [
    "# Chapter 9: Dealing with Few to No Labels\n",
    "# Building a GitHub Issues Tagger"
   ]
  },
  {
   "cell_type": "code",
   "execution_count": 9,
   "id": "1bb002a1",
   "metadata": {},
   "outputs": [],
   "source": [
    "from collections import defaultdict\n",
    "from datasets import Dataset, DatasetDict\n",
    "import nlpaug.augmenter.word as naw\n",
    "import numpy as np\n",
    "import matplotlib.pyplot as plt\n",
    "import os.path\n",
    "import pandas as pd\n",
    "import pickle\n",
    "from scipy.special import expit as sigmoid\n",
    "from sklearn.feature_extraction.text import CountVectorizer\n",
    "from sklearn.metrics import classification_report\n",
    "from sklearn.model_selection import train_test_split\n",
    "from sklearn.naive_bayes import MultinomialNB\n",
    "from sklearn.preprocessing import MultiLabelBinarizer\n",
    "from skmultilearn.model_selection import iterative_train_test_split\n",
    "from skmultilearn.problem_transform import BinaryRelevance\n",
    "import torch\n",
    "import transformers\n",
    "from transformers import AutoConfig, AutoTokenizer, AutoModel\n",
    "from transformers import AutoModelForMaskedLM, AutoModelForSequenceClassification\n",
    "from transformers import DataCollatorForLanguageModeling\n",
    "from transformers import Trainer, TrainingArguments\n",
    "from transformers import pipeline"
   ]
  },
  {
   "cell_type": "markdown",
   "id": "acad109b",
   "metadata": {},
   "source": [
    "# p252, Preparing the Data"
   ]
  },
  {
   "cell_type": "code",
   "execution_count": 17,
   "id": "b8a4f0ad",
   "metadata": {},
   "outputs": [
    {
     "name": "stdout",
     "output_type": "stream",
     "text": [
      "DataFrame shape: (9930, 26)\n"
     ]
    }
   ],
   "source": [
    "fname = 'ch09_dataset.pickle'\n",
    "if os.path.exists(fname):\n",
    "    df_issues = pickle.load(open(fname, 'rb'))\n",
    "else:\n",
    "    dataset_url = 'https://git.io/nlp-with-transformers'\n",
    "    df_issues = pd.read_json(dataset_url, lines=True)\n",
    "    pickle.dump(df_issues, open(fname, 'wb'))\n",
    "\n",
    "print(f'DataFrame shape: {df_issues.shape}')"
   ]
  },
  {
   "cell_type": "code",
   "execution_count": 11,
   "id": "9791eb97",
   "metadata": {},
   "outputs": [
    {
     "data": {
      "text/html": [
       "<div>\n",
       "<style scoped>\n",
       "    .dataframe tbody tr th:only-of-type {\n",
       "        vertical-align: middle;\n",
       "    }\n",
       "\n",
       "    .dataframe tbody tr th {\n",
       "        vertical-align: top;\n",
       "    }\n",
       "\n",
       "    .dataframe thead th {\n",
       "        text-align: right;\n",
       "    }\n",
       "</style>\n",
       "<table border=\"1\" class=\"dataframe\">\n",
       "  <thead>\n",
       "    <tr style=\"text-align: right;\">\n",
       "      <th></th>\n",
       "      <th>2</th>\n",
       "    </tr>\n",
       "  </thead>\n",
       "  <tbody>\n",
       "    <tr>\n",
       "      <th>url</th>\n",
       "      <td>https://api.github.com/repos/huggingface/trans...</td>\n",
       "    </tr>\n",
       "    <tr>\n",
       "      <th>id</th>\n",
       "      <td>849529761</td>\n",
       "    </tr>\n",
       "    <tr>\n",
       "      <th>title</th>\n",
       "      <td>[DeepSpeed] ZeRO stage 3 integration: getting ...</td>\n",
       "    </tr>\n",
       "    <tr>\n",
       "      <th>user</th>\n",
       "      <td>{'login': 'stas00', 'id': 10676103, 'node_id':...</td>\n",
       "    </tr>\n",
       "    <tr>\n",
       "      <th>labels</th>\n",
       "      <td>[{'id': 2659267025, 'node_id': 'MDU6TGFiZWwyNj...</td>\n",
       "    </tr>\n",
       "    <tr>\n",
       "      <th>state</th>\n",
       "      <td>open</td>\n",
       "    </tr>\n",
       "    <tr>\n",
       "      <th>created_at</th>\n",
       "      <td>2021-04-02 23:40:42</td>\n",
       "    </tr>\n",
       "    <tr>\n",
       "      <th>body</th>\n",
       "      <td>**[This is not yet alive, preparing for the re...</td>\n",
       "    </tr>\n",
       "  </tbody>\n",
       "</table>\n",
       "</div>"
      ],
      "text/plain": [
       "                                                            2\n",
       "url         https://api.github.com/repos/huggingface/trans...\n",
       "id                                                  849529761\n",
       "title       [DeepSpeed] ZeRO stage 3 integration: getting ...\n",
       "user        {'login': 'stas00', 'id': 10676103, 'node_id':...\n",
       "labels      [{'id': 2659267025, 'node_id': 'MDU6TGFiZWwyNj...\n",
       "state                                                    open\n",
       "created_at                                2021-04-02 23:40:42\n",
       "body        **[This is not yet alive, preparing for the re..."
      ]
     },
     "execution_count": 11,
     "metadata": {},
     "output_type": "execute_result"
    }
   ],
   "source": [
    "cols = ['url', 'id', 'title', 'user', 'labels', 'state', 'created_at', 'body']\n",
    "df_issues.loc[2, cols].to_frame()"
   ]
  },
  {
   "cell_type": "code",
   "execution_count": 12,
   "id": "ce88873e",
   "metadata": {},
   "outputs": [
    {
     "data": {
      "text/plain": [
       "[{'id': 2659267025,\n",
       "  'node_id': 'MDU6TGFiZWwyNjU5MjY3MDI1',\n",
       "  'url': 'https://api.github.com/repos/huggingface/transformers/labels/DeepSpeed',\n",
       "  'name': 'DeepSpeed',\n",
       "  'color': '4D34F7',\n",
       "  'default': False,\n",
       "  'description': ''}]"
      ]
     },
     "execution_count": 12,
     "metadata": {},
     "output_type": "execute_result"
    }
   ],
   "source": [
    "df_issues.loc[2, 'labels']"
   ]
  },
  {
   "cell_type": "code",
   "execution_count": 18,
   "id": "b9804e3e",
   "metadata": {},
   "outputs": [
    {
     "data": {
      "text/html": [
       "<div>\n",
       "<style scoped>\n",
       "    .dataframe tbody tr th:only-of-type {\n",
       "        vertical-align: middle;\n",
       "    }\n",
       "\n",
       "    .dataframe tbody tr th {\n",
       "        vertical-align: top;\n",
       "    }\n",
       "\n",
       "    .dataframe thead th {\n",
       "        text-align: right;\n",
       "    }\n",
       "</style>\n",
       "<table border=\"1\" class=\"dataframe\">\n",
       "  <thead>\n",
       "    <tr style=\"text-align: right;\">\n",
       "      <th></th>\n",
       "      <th>labels</th>\n",
       "    </tr>\n",
       "  </thead>\n",
       "  <tbody>\n",
       "    <tr>\n",
       "      <th>0</th>\n",
       "      <td>[]</td>\n",
       "    </tr>\n",
       "    <tr>\n",
       "      <th>1</th>\n",
       "      <td>[]</td>\n",
       "    </tr>\n",
       "    <tr>\n",
       "      <th>2</th>\n",
       "      <td>[DeepSpeed]</td>\n",
       "    </tr>\n",
       "    <tr>\n",
       "      <th>3</th>\n",
       "      <td>[]</td>\n",
       "    </tr>\n",
       "    <tr>\n",
       "      <th>4</th>\n",
       "      <td>[]</td>\n",
       "    </tr>\n",
       "  </tbody>\n",
       "</table>\n",
       "</div>"
      ],
      "text/plain": [
       "        labels\n",
       "0           []\n",
       "1           []\n",
       "2  [DeepSpeed]\n",
       "3           []\n",
       "4           []"
      ]
     },
     "execution_count": 18,
     "metadata": {},
     "output_type": "execute_result"
    }
   ],
   "source": [
    "df_issues['labels'] = (df_issues['labels']\n",
    "                      .apply(lambda x: [meta['name'] for meta in x]))\n",
    "df_issues[['labels']].head()"
   ]
  },
  {
   "cell_type": "code",
   "execution_count": 19,
   "id": "5b063445",
   "metadata": {},
   "outputs": [
    {
     "data": {
      "text/html": [
       "<div>\n",
       "<style scoped>\n",
       "    .dataframe tbody tr th:only-of-type {\n",
       "        vertical-align: middle;\n",
       "    }\n",
       "\n",
       "    .dataframe tbody tr th {\n",
       "        vertical-align: top;\n",
       "    }\n",
       "\n",
       "    .dataframe thead th {\n",
       "        text-align: right;\n",
       "    }\n",
       "</style>\n",
       "<table border=\"1\" class=\"dataframe\">\n",
       "  <thead>\n",
       "    <tr style=\"text-align: right;\">\n",
       "      <th></th>\n",
       "      <th>0</th>\n",
       "      <th>1</th>\n",
       "      <th>2</th>\n",
       "      <th>3</th>\n",
       "      <th>4</th>\n",
       "      <th>5</th>\n",
       "    </tr>\n",
       "  </thead>\n",
       "  <tbody>\n",
       "    <tr>\n",
       "      <th>labels</th>\n",
       "      <td>6440</td>\n",
       "      <td>3057</td>\n",
       "      <td>305</td>\n",
       "      <td>100</td>\n",
       "      <td>25</td>\n",
       "      <td>3</td>\n",
       "    </tr>\n",
       "  </tbody>\n",
       "</table>\n",
       "</div>"
      ],
      "text/plain": [
       "           0     1    2    3   4  5\n",
       "labels  6440  3057  305  100  25  3"
      ]
     },
     "execution_count": 19,
     "metadata": {},
     "output_type": "execute_result"
    }
   ],
   "source": [
    "df_issues['labels'].apply(lambda x: len(x)).value_counts().to_frame().T"
   ]
  },
  {
   "cell_type": "code",
   "execution_count": 20,
   "id": "7067aa96",
   "metadata": {},
   "outputs": [
    {
     "name": "stdout",
     "output_type": "stream",
     "text": [
      "Number of labels: 65\n"
     ]
    },
    {
     "data": {
      "text/html": [
       "<div>\n",
       "<style scoped>\n",
       "    .dataframe tbody tr th:only-of-type {\n",
       "        vertical-align: middle;\n",
       "    }\n",
       "\n",
       "    .dataframe tbody tr th {\n",
       "        vertical-align: top;\n",
       "    }\n",
       "\n",
       "    .dataframe thead th {\n",
       "        text-align: right;\n",
       "    }\n",
       "</style>\n",
       "<table border=\"1\" class=\"dataframe\">\n",
       "  <thead>\n",
       "    <tr style=\"text-align: right;\">\n",
       "      <th></th>\n",
       "      <th>wontfix</th>\n",
       "      <th>model card</th>\n",
       "      <th>Core: Tokenization</th>\n",
       "      <th>New model</th>\n",
       "      <th>Core: Modeling</th>\n",
       "      <th>Help wanted</th>\n",
       "      <th>Good First Issue</th>\n",
       "      <th>Usage</th>\n",
       "    </tr>\n",
       "  </thead>\n",
       "  <tbody>\n",
       "    <tr>\n",
       "      <th>labels</th>\n",
       "      <td>2284</td>\n",
       "      <td>649</td>\n",
       "      <td>106</td>\n",
       "      <td>98</td>\n",
       "      <td>64</td>\n",
       "      <td>52</td>\n",
       "      <td>50</td>\n",
       "      <td>46</td>\n",
       "    </tr>\n",
       "  </tbody>\n",
       "</table>\n",
       "</div>"
      ],
      "text/plain": [
       "        wontfix  model card  Core: Tokenization  New model  Core: Modeling  \\\n",
       "labels     2284         649                 106         98              64   \n",
       "\n",
       "        Help wanted  Good First Issue  Usage  \n",
       "labels           52                50     46  "
      ]
     },
     "execution_count": 20,
     "metadata": {},
     "output_type": "execute_result"
    }
   ],
   "source": [
    "df_counts = df_issues['labels'].explode().value_counts()\n",
    "print(f'Number of labels: {len(df_counts)}')\n",
    "df_counts.to_frame().head(8).T"
   ]
  },
  {
   "cell_type": "code",
   "execution_count": 23,
   "id": "513a03e3",
   "metadata": {},
   "outputs": [
    {
     "data": {
      "text/html": [
       "<div>\n",
       "<style scoped>\n",
       "    .dataframe tbody tr th:only-of-type {\n",
       "        vertical-align: middle;\n",
       "    }\n",
       "\n",
       "    .dataframe tbody tr th {\n",
       "        vertical-align: top;\n",
       "    }\n",
       "\n",
       "    .dataframe thead th {\n",
       "        text-align: right;\n",
       "    }\n",
       "</style>\n",
       "<table border=\"1\" class=\"dataframe\">\n",
       "  <thead>\n",
       "    <tr style=\"text-align: right;\">\n",
       "      <th></th>\n",
       "      <th>tokenization</th>\n",
       "      <th>new model</th>\n",
       "      <th>model training</th>\n",
       "      <th>usage</th>\n",
       "      <th>pipeline</th>\n",
       "      <th>tensorflow or tf</th>\n",
       "      <th>pytorch</th>\n",
       "      <th>documentation</th>\n",
       "      <th>examples</th>\n",
       "    </tr>\n",
       "  </thead>\n",
       "  <tbody>\n",
       "    <tr>\n",
       "      <th>labels</th>\n",
       "      <td>106</td>\n",
       "      <td>98</td>\n",
       "      <td>64</td>\n",
       "      <td>46</td>\n",
       "      <td>42</td>\n",
       "      <td>41</td>\n",
       "      <td>37</td>\n",
       "      <td>28</td>\n",
       "      <td>24</td>\n",
       "    </tr>\n",
       "  </tbody>\n",
       "</table>\n",
       "</div>"
      ],
      "text/plain": [
       "        tokenization  new model  model training  usage  pipeline  \\\n",
       "labels           106         98              64     46        42   \n",
       "\n",
       "        tensorflow or tf  pytorch  documentation  examples  \n",
       "labels                41       37             28        24  "
      ]
     },
     "execution_count": 23,
     "metadata": {},
     "output_type": "execute_result"
    }
   ],
   "source": [
    "label_map = {\n",
    "    'Core: Tokenization': 'tokenization',\n",
    "    'New model': 'new model',\n",
    "    'Core: Modeling': 'model training',\n",
    "    'Usage': 'usage',\n",
    "    'Core: Pipeline': 'pipeline',\n",
    "    'TensorFlow': 'tensorflow or tf',\n",
    "    'PyTorch': 'pytorch',\n",
    "    'Examples': 'examples',\n",
    "    'Documentation': 'documentation'\n",
    "}\n",
    "\n",
    "def filter_labels(x):\n",
    "    return [label_map[label] for label in x if label in label_map]\n",
    "\n",
    "df_issues['labels'] = df_issues['labels'].apply(filter_labels)\n",
    "all_labels = list(label_map.values())\n",
    "\n",
    "df_counts = df_issues['labels'].explode().value_counts()\n",
    "df_counts.to_frame().T"
   ]
  },
  {
   "cell_type": "code",
   "execution_count": 24,
   "id": "cc76f41d",
   "metadata": {},
   "outputs": [
    {
     "data": {
      "text/html": [
       "<div>\n",
       "<style scoped>\n",
       "    .dataframe tbody tr th:only-of-type {\n",
       "        vertical-align: middle;\n",
       "    }\n",
       "\n",
       "    .dataframe tbody tr th {\n",
       "        vertical-align: top;\n",
       "    }\n",
       "\n",
       "    .dataframe thead th {\n",
       "        text-align: right;\n",
       "    }\n",
       "</style>\n",
       "<table border=\"1\" class=\"dataframe\">\n",
       "  <thead>\n",
       "    <tr style=\"text-align: right;\">\n",
       "      <th></th>\n",
       "      <th>split</th>\n",
       "    </tr>\n",
       "  </thead>\n",
       "  <tbody>\n",
       "    <tr>\n",
       "      <th>unlabeled</th>\n",
       "      <td>9489</td>\n",
       "    </tr>\n",
       "    <tr>\n",
       "      <th>labeled</th>\n",
       "      <td>441</td>\n",
       "    </tr>\n",
       "  </tbody>\n",
       "</table>\n",
       "</div>"
      ],
      "text/plain": [
       "           split\n",
       "unlabeled   9489\n",
       "labeled      441"
      ]
     },
     "execution_count": 24,
     "metadata": {},
     "output_type": "execute_result"
    }
   ],
   "source": [
    "df_issues['split'] = 'unlabeled'\n",
    "mask = df_issues['labels'].apply(lambda x: len(x) > 0)\n",
    "df_issues.loc[mask, 'split'] = 'labeled'\n",
    "df_issues['split'].value_counts().to_frame()"
   ]
  },
  {
   "cell_type": "code",
   "execution_count": 26,
   "id": "091f2220",
   "metadata": {},
   "outputs": [
    {
     "name": "stdout",
     "output_type": "stream",
     "text": [
      "title: Add new CANINE model\n",
      "\n",
      "body: # 🌟 New model addition\r\n",
      "\r\n",
      "## Model description\r\n",
      "\r\n",
      "Google recently proposed a new **C**haracter **A**rchitecture with **N**o tokenization **I**n **N**eural **E**ncoders architecture (CANINE). Not only the title is exciting:\r\n",
      "\r\n",
      "> Pipelined NLP systems have largely been superseded by end-to-end neural modeling, yet nearly all commonly-used models still require an explicit tokenization step. While recent tokenization approaches based on data-derived subword lexicons are less brittle than manually en\n",
      "\n",
      "labels: ['new model']\n",
      "\n"
     ]
    }
   ],
   "source": [
    "for column in ['title', 'body', 'labels']:\n",
    "    print(f'{column}: {df_issues[column].iloc[26][:500]}\\n')"
   ]
  },
  {
   "cell_type": "code",
   "execution_count": 27,
   "id": "507f1952",
   "metadata": {},
   "outputs": [],
   "source": [
    "df_issues['text'] = (df_issues\n",
    "                    .apply(lambda x: x['title'] + '\\n\\n' + x['body'], axis=1))"
   ]
  },
  {
   "cell_type": "code",
   "execution_count": 29,
   "id": "d468efb6",
   "metadata": {},
   "outputs": [
    {
     "name": "stdout",
     "output_type": "stream",
     "text": [
      "Removed 1.88% duplicates.\n"
     ]
    }
   ],
   "source": [
    "len_before = len(df_issues)\n",
    "df_issues = df_issues.drop_duplicates(subset='text')\n",
    "print(f'Removed {(len_before - len(df_issues))/len_before:.2%} duplicates.')"
   ]
  },
  {
   "cell_type": "code",
   "execution_count": 31,
   "id": "8b9775c3",
   "metadata": {},
   "outputs": [
    {
     "data": {
      "image/png": "[encoded data removed]",
      "text/plain": [
       "<Figure size 432x288 with 1 Axes>"
      ]
     },
     "metadata": {
      "needs_background": "light"
     },
     "output_type": "display_data"
    }
   ],
   "source": [
    "(df_issues['text'].str.split().apply(len)\n",
    "  .hist(bins=np.linspace(0, 500, 50), grid=False, edgecolor='C0'))\n",
    "plt.title('Words per issue')\n",
    "plt.xlabel('Number of words')\n",
    "plt.ylabel('Number of issues')\n",
    "plt.show()"
   ]
  },
  {
   "cell_type": "code",
   "execution_count": 3,
   "id": "5bcdd650",
   "metadata": {},
   "outputs": [
    {
     "data": {
      "text/plain": [
       "array([[0, 0, 0, 1, 0, 0, 0, 1, 0],\n",
       "       [0, 0, 0, 0, 0, 1, 0, 0, 0]])"
      ]
     },
     "execution_count": 3,
     "metadata": {},
     "output_type": "execute_result"
    }
   ],
   "source": [
    "mlb = MultiLabelBinarizer()\n",
    "mlb.fit([all_labels])\n",
    "mlb.transform([['tokenization', 'new model'], ['pytorch']])"
   ]
  },
  {
   "cell_type": "code",
   "execution_count": 19,
   "id": "14a507ca",
   "metadata": {},
   "outputs": [],
   "source": [
    "def balanced_split(mlb, df, test_size=0.5):\n",
    "    ind = np.expand_dims(np.arange(len(df)), axis=1)\n",
    "    labels = mlb.transform(df['labels'])\n",
    "    ind_train, _, ind_test, _ = iterative_train_test_split(ind, labels, test_size)\n",
    "    return df.iloc[ind_train[:, 0]], df.iloc[ind_test[:, 0]]"
   ]
  },
  {
   "cell_type": "code",
   "execution_count": 20,
   "id": "4b39ed3e",
   "metadata": {},
   "outputs": [],
   "source": [
    "df_clean = df_issues[['text', 'labels', 'split']].reset_index(drop=True).copy()\n",
    "df_unsup = df_clean.loc[df_clean['split'] == 'unlabeled', ['text', 'labels']]\n",
    "df_sup = df_clean.loc[df_clean['split'] == 'labeled', ['text', 'labels']]\n",
    "\n",
    "np.random.seed(0)\n",
    "df_train, df_tmp = balanced_split(mlb, df_sup, test_size=0.5)\n",
    "df_valid, df_test = balanced_split(mlb, df_tmp, test_size=0.5)"
   ]
  },
  {
   "cell_type": "code",
   "execution_count": 38,
   "id": "468362e6",
   "metadata": {
    "scrolled": false
   },
   "outputs": [],
   "source": [
    "ds = DatasetDict({\n",
    "    'train': Dataset.from_pandas(df_train.reset_index(drop=True)),\n",
    "    'valid': Dataset.from_pandas(df_valid.reset_index(drop=True)),\n",
    "    'test': Dataset.from_pandas(df_test.reset_index(drop=True)),\n",
    "    'unsup': Dataset.from_pandas(df_unsup.reset_index(drop=True)),\n",
    "})"
   ]
  },
  {
   "cell_type": "code",
   "execution_count": 41,
   "id": "13367bb0",
   "metadata": {},
   "outputs": [],
   "source": [
    "np.random.seed(0)\n",
    "all_indices = np.expand_dims(list(range(len(ds['train']))), axis=1)\n",
    "indices_pool = all_indices\n",
    "labels = mlb.transform(ds['train']['labels'])\n",
    "train_samples = [8, 16, 32, 64, 128]\n",
    "train_slices, last_k = [], 0\n",
    "\n",
    "for i, k in enumerate(train_samples):\n",
    "    # Split off samples necessary to fill the gap to the next split size\n",
    "    indices_pool, labels, new_slice, _ = iterative_train_test_split(\n",
    "        indices_pool, labels, (k - last_k) / len(labels)\n",
    "    )\n",
    "    last_k = k\n",
    "    if i == 0:\n",
    "        train_slices.append(new_slice)\n",
    "    else:\n",
    "        train_slices.append(np.concatenate((train_slices[-1], new_slice)))\n",
    "        \n",
    "# And full dataset as last slice\n",
    "train_slices.append(all_indices)\n",
    "train_samples.append(len(ds['train']))\n",
    "train_slices = [np.squeeze(train_slice) for train_slice in train_slices]"
   ]
  },
  {
   "cell_type": "code",
   "execution_count": 44,
   "id": "2297b040",
   "metadata": {},
   "outputs": [
    {
     "name": "stdout",
     "output_type": "stream",
     "text": [
      "Target split sizes:\n",
      "[8, 16, 32, 64, 128, 223]\n",
      "Actual split sizes:\n",
      "[10, 19, 36, 68, 134, 223]\n"
     ]
    }
   ],
   "source": [
    "print('Target split sizes:')\n",
    "print(train_samples)\n",
    "print('Actual split sizes:')\n",
    "print([len(x) for x in train_slices])"
   ]
  },
  {
   "cell_type": "markdown",
   "id": "c991ca33",
   "metadata": {},
   "source": [
    "# p260, Implementing a naive Bayesline"
   ]
  },
  {
   "cell_type": "code",
   "execution_count": 45,
   "id": "484769e8",
   "metadata": {},
   "outputs": [
    {
     "data": {
      "application/vnd.jupyter.widget-view+json": {
       "model_id": "68fa999f04d14df6a21cf153f7872568",
       "version_major": 2,
       "version_minor": 0
      },
      "text/plain": [
       "  0%|          | 0/1 [00:00<?, ?ba/s]"
      ]
     },
     "metadata": {},
     "output_type": "display_data"
    },
    {
     "data": {
      "application/vnd.jupyter.widget-view+json": {
       "model_id": "2d1314b15b9a487b9512577b2de2a62f",
       "version_major": 2,
       "version_minor": 0
      },
      "text/plain": [
       "  0%|          | 0/1 [00:00<?, ?ba/s]"
      ]
     },
     "metadata": {},
     "output_type": "display_data"
    },
    {
     "data": {
      "application/vnd.jupyter.widget-view+json": {
       "model_id": "acd552b3820848ccbaf421ba05d995dd",
       "version_major": 2,
       "version_minor": 0
      },
      "text/plain": [
       "  0%|          | 0/1 [00:00<?, ?ba/s]"
      ]
     },
     "metadata": {},
     "output_type": "display_data"
    },
    {
     "data": {
      "application/vnd.jupyter.widget-view+json": {
       "model_id": "2fc21a5080eb4c0188cdc8c8cf2c5f78",
       "version_major": 2,
       "version_minor": 0
      },
      "text/plain": [
       "  0%|          | 0/10 [00:00<?, ?ba/s]"
      ]
     },
     "metadata": {},
     "output_type": "display_data"
    }
   ],
   "source": [
    "def prepare_labels(batch):\n",
    "    batch['label_ids'] = mlb.transform(batch['labels'])\n",
    "    return batch\n",
    "\n",
    "ds = ds.map(prepare_labels, batched=True)"
   ]
  },
  {
   "cell_type": "code",
   "execution_count": 74,
   "id": "03298a4e",
   "metadata": {},
   "outputs": [],
   "source": [
    "macro_scores, micro_scores = defaultdict(list), defaultdict(list)"
   ]
  },
  {
   "cell_type": "code",
   "execution_count": 75,
   "id": "ce3118d9",
   "metadata": {},
   "outputs": [],
   "source": [
    "for train_slice in train_slices:\n",
    "    # Get training slice and test data\n",
    "    ds_train_sample = ds['train'].select(train_slice)  # [0 2 9 11 ...]\n",
    "    y_train = np.array(ds_train_sample['label_ids'])  # [[0 0 0 1 ...] [0 0 0 1 ...] ...]\n",
    "    y_test = np.array(ds['test']['label_ids'])\n",
    "    # Use a simple count vectorizer to encode our texts as token counts\n",
    "    count_vect = CountVectorizer()\n",
    "    X_train_counts = count_vect.fit_transform(ds_train_sample['text'])  # Kx887 sparse matrix\n",
    "    X_test_counts = count_vect.transform(ds['test']['text'])\n",
    "    # Create and train our model\n",
    "    classifier = BinaryRelevance(classifier=MultinomialNB())\n",
    "    classifier.fit(X_train_counts, y_train)\n",
    "    # Generate predictions and evaluate\n",
    "    y_pred_test = classifier.predict(X_test_counts)\n",
    "    clf_report = classification_report(\n",
    "        y_test, y_pred_test, target_names = mlb.classes_, zero_division=0,\n",
    "        output_dict=True\n",
    "    )\n",
    "    # Store metrics\n",
    "    macro_scores['Naive Bayes'].append(clf_report['macro avg']['f1-score'])\n",
    "    micro_scores['Naive Bayes'].append(clf_report['micro avg']['f1-score'])"
   ]
  },
  {
   "cell_type": "code",
   "execution_count": 76,
   "id": "c35c0370",
   "metadata": {},
   "outputs": [
    {
     "data": {
      "image/png": "[encoded data removed]",
      "text/plain": [
       "<Figure size 720x288 with 2 Axes>"
      ]
     },
     "metadata": {
      "needs_background": "light"
     },
     "output_type": "display_data"
    }
   ],
   "source": [
    "def plot_metrics(micro_scores, macro_scores, sample_sizes, current_model):\n",
    "    fig, (ax0, ax1) = plt.subplots(1, 2, figsize=(10, 4), sharey=True)\n",
    "    \n",
    "    for run in micro_scores.keys():\n",
    "        if run == current_model:\n",
    "            ax0.plot(sample_sizes, micro_scores[run], label=run, linewidth=2)\n",
    "            ax1.plot(sample_sizes, macro_scores[run], label=run, linewidth=2)\n",
    "        else:\n",
    "            ax0.plot(sample_sizes, micro_scores[run], label=run, linestyle='dashed')\n",
    "            ax1.plot(sample_sizes, macro_scores[run], label=run, linestyle='dashed')\n",
    "    \n",
    "    ax0.set_title('Micro F1 scores')\n",
    "    ax1.set_title('Macro F1 scores')\n",
    "    ax0.set_ylabel('Test set F1 score')\n",
    "    ax0.legend(loc='lower right')\n",
    "    for ax in [ax0, ax1]:\n",
    "        ax.set_xlabel('Number of training samples')\n",
    "        ax.set_xscale('log')\n",
    "        ax.set_xticks(sample_sizes)\n",
    "        ax.set_xticklabels(sample_sizes)\n",
    "        ax.minorticks_off()\n",
    "    plt.tight_layout()\n",
    "    plt.show()\n",
    "\n",
    "plot_metrics(micro_scores, macro_scores, train_samples, 'Naive Bayes')"
   ]
  },
  {
   "cell_type": "markdown",
   "id": "d1731f0e",
   "metadata": {},
   "source": [
    "# p263, Working with No Labeled data"
   ]
  },
  {
   "cell_type": "code",
   "execution_count": 3,
   "id": "40f8b719",
   "metadata": {},
   "outputs": [
    {
     "name": "stderr",
     "output_type": "stream",
     "text": [
      "Some weights of the model checkpoint at bert-base-uncased were not used when initializing BertForMaskedLM: ['cls.seq_relationship.weight', 'cls.seq_relationship.bias']\n",
      "- This IS expected if you are initializing BertForMaskedLM from the checkpoint of a model trained on another task or with another architecture (e.g. initializing a BertForSequenceClassification model from a BertForPreTraining model).\n",
      "- This IS NOT expected if you are initializing BertForMaskedLM from the checkpoint of a model that you expect to be exactly identical (initializing a BertForSequenceClassification model from a BertForSequenceClassification model).\n"
     ]
    }
   ],
   "source": [
    "pipe = pipeline('fill-mask', model='bert-base-uncased')"
   ]
  },
  {
   "cell_type": "code",
   "execution_count": 6,
   "id": "f2837412",
   "metadata": {},
   "outputs": [
    {
     "name": "stdout",
     "output_type": "stream",
     "text": [
      "Token lions:\t0.154%\n",
      "Token animals:\t0.113%\n",
      "Token birds:\t0.027%\n",
      "Token lion:\t0.022%\n",
      "Token tigers:\t0.015%\n"
     ]
    }
   ],
   "source": [
    "movie_desc = 'The main characters of the movie madacascar \\\n",
    "are lion, a zebra, a giraffe, and a hippo.'\n",
    "prompt = 'The movie is about [MASK].'\n",
    "\n",
    "output = pipe(movie_desc + prompt)\n",
    "for element in output:\n",
    "    print(f'Token {element[\"token_str\"]}:\\t{element[\"score\"]:.3f}%')"
   ]
  },
  {
   "cell_type": "code",
   "execution_count": 8,
   "id": "b57fbdaf",
   "metadata": {},
   "outputs": [
    {
     "name": "stdout",
     "output_type": "stream",
     "text": [
      "Token animals:\t0.113%\n",
      "Token cars:\t0.000%\n"
     ]
    }
   ],
   "source": [
    "output = pipe(movie_desc + prompt, targets=['animals', 'cars'])\n",
    "for element in output:\n",
    "    print(f'Token {element[\"token_str\"]}:\\t{element[\"score\"]:.3f}%')"
   ]
  },
  {
   "cell_type": "code",
   "execution_count": 9,
   "id": "dbda58c4",
   "metadata": {},
   "outputs": [
    {
     "name": "stdout",
     "output_type": "stream",
     "text": [
      "Token cars:\t0.139%\n",
      "Token animals:\t0.006%\n"
     ]
    }
   ],
   "source": [
    "movie_desc = 'In the movie transformers aliens \\\n",
    "can morph into a wide range of vehicles.'\n",
    "\n",
    "output = pipe(movie_desc + prompt, targets=['animals', 'cars'])\n",
    "for element in output:\n",
    "    print(f'Token {element[\"token_str\"]}:\\t{element[\"score\"]:.3f}%')"
   ]
  },
  {
   "cell_type": "code",
   "execution_count": 11,
   "id": "e21c3c18",
   "metadata": {},
   "outputs": [
    {
     "name": "stderr",
     "output_type": "stream",
     "text": [
      "No model was supplied, defaulted to facebook/bart-large-mnli (https://huggingface.co/facebook/bart-large-mnli)\n"
     ]
    }
   ],
   "source": [
    "pipe = pipeline('zero-shot-classification')"
   ]
  },
  {
   "cell_type": "code",
   "execution_count": 12,
   "id": "bd98b240",
   "metadata": {},
   "outputs": [
    {
     "name": "stdout",
     "output_type": "stream",
     "text": [
      "Labels: ['new model']\n",
      "Add new CANINE model\n",
      "\n",
      "# 🌟 New model addition\n",
      "\n",
      "## Model description\n",
      "\n",
      "Google recently proposed a new **C**haracter **A**rchitecture with **N**o tokenization **I**n **N**eural **E**ncoders architecture (CANINE). Not only the title is exciting:\n",
      "\n",
      "> Pipelined NLP systems have largely been superseded by end-to-end neural modeling, yet nearly all commonly-used models still require an explicit tokeni\n",
      "\n",
      "Predictions:\n",
      "new model, 0.983889\n",
      "tensorflow or tf, 0.365516\n",
      "examples, 0.336445\n",
      "usage, 0.296716\n",
      "pytorch, 0.247813\n",
      "documentation, 0.245003\n",
      "model training, 0.235294\n",
      "tokenization, 0.173724\n",
      "pipeline, 0.160416\n"
     ]
    }
   ],
   "source": [
    "sample = ds['train'][0]\n",
    "print(f'Labels: {sample[\"labels\"]}')\n",
    "output = pipe(sample['text'], all_labels, multi_label=True)\n",
    "print(output['sequence'][:400])\n",
    "print('\\nPredictions:')\n",
    "\n",
    "for label, score in zip(output['labels'], output['scores']):\n",
    "    print(f'{label}, {score:2f}')"
   ]
  },
  {
   "cell_type": "code",
   "execution_count": 13,
   "id": "b6648e70",
   "metadata": {},
   "outputs": [
    {
     "data": {
      "application/vnd.jupyter.widget-view+json": {
       "model_id": "66d2d86bf931498797e2da34f3fc2a12",
       "version_major": 2,
       "version_minor": 0
      },
      "text/plain": [
       "  0%|          | 0/106 [00:00<?, ?ex/s]"
      ]
     },
     "metadata": {},
     "output_type": "display_data"
    }
   ],
   "source": [
    "def zero_shot_pipeline(example):\n",
    "    output = pipe(example['text'], all_labels, multi_label=True)\n",
    "    example['predicted_labels'] = output['labels']\n",
    "    example['scores'] = output['scores']\n",
    "    return example\n",
    "\n",
    "ds_zero_shot = ds['valid'].map(zero_shot_pipeline)"
   ]
  },
  {
   "cell_type": "code",
   "execution_count": 20,
   "id": "0e8d783c",
   "metadata": {},
   "outputs": [
    {
     "data": {
      "text/html": [
       "<div>\n",
       "<style scoped>\n",
       "    .dataframe tbody tr th:only-of-type {\n",
       "        vertical-align: middle;\n",
       "    }\n",
       "\n",
       "    .dataframe tbody tr th {\n",
       "        vertical-align: top;\n",
       "    }\n",
       "\n",
       "    .dataframe thead th {\n",
       "        text-align: right;\n",
       "    }\n",
       "</style>\n",
       "<table border=\"1\" class=\"dataframe\">\n",
       "  <thead>\n",
       "    <tr style=\"text-align: right;\">\n",
       "      <th></th>\n",
       "      <th>labels</th>\n",
       "      <th>predicted_labels</th>\n",
       "      <th>scores</th>\n",
       "    </tr>\n",
       "  </thead>\n",
       "  <tbody>\n",
       "    <tr>\n",
       "      <th>0</th>\n",
       "      <td>[new model]</td>\n",
       "      <td>[new model, pytorch, documentation, usage, pip...</td>\n",
       "      <td>[0.9883275628089905, 0.9305453896522522, 0.650...</td>\n",
       "    </tr>\n",
       "    <tr>\n",
       "      <th>1</th>\n",
       "      <td>[new model]</td>\n",
       "      <td>[new model, tokenization, usage, pipeline, exa...</td>\n",
       "      <td>[0.9976766705513, 0.9910666346549988, 0.904705...</td>\n",
       "    </tr>\n",
       "    <tr>\n",
       "      <th>2</th>\n",
       "      <td>[examples]</td>\n",
       "      <td>[examples, model training, tensorflow or tf, p...</td>\n",
       "      <td>[0.8797267079353333, 0.628290057182312, 0.4842...</td>\n",
       "    </tr>\n",
       "    <tr>\n",
       "      <th>3</th>\n",
       "      <td>[new model]</td>\n",
       "      <td>[model training, new model, pipeline, usage, p...</td>\n",
       "      <td>[0.9517663717269897, 0.7793276309967041, 0.531...</td>\n",
       "    </tr>\n",
       "    <tr>\n",
       "      <th>4</th>\n",
       "      <td>[pytorch]</td>\n",
       "      <td>[examples, pytorch, new model, usage, pipeline...</td>\n",
       "      <td>[0.5097230672836304, 0.47688230872154236, 0.39...</td>\n",
       "    </tr>\n",
       "    <tr>\n",
       "      <th>...</th>\n",
       "      <td>...</td>\n",
       "      <td>...</td>\n",
       "      <td>...</td>\n",
       "    </tr>\n",
       "    <tr>\n",
       "      <th>101</th>\n",
       "      <td>[pipeline]</td>\n",
       "      <td>[examples, new model, tokenization, pipeline, ...</td>\n",
       "      <td>[0.79127436876297, 0.7870073914527893, 0.78086...</td>\n",
       "    </tr>\n",
       "    <tr>\n",
       "      <th>102</th>\n",
       "      <td>[pipeline]</td>\n",
       "      <td>[new model, pipeline, usage, documentation, to...</td>\n",
       "      <td>[0.9309496879577637, 0.7411472797393799, 0.477...</td>\n",
       "    </tr>\n",
       "    <tr>\n",
       "      <th>103</th>\n",
       "      <td>[pipeline]</td>\n",
       "      <td>[pipeline, new model, usage, pytorch, tensorfl...</td>\n",
       "      <td>[0.8765822649002075, 0.6607277989387512, 0.633...</td>\n",
       "    </tr>\n",
       "    <tr>\n",
       "      <th>104</th>\n",
       "      <td>[pipeline]</td>\n",
       "      <td>[model training, new model, pipeline, examples...</td>\n",
       "      <td>[0.9900783896446228, 0.9346898198127747, 0.725...</td>\n",
       "    </tr>\n",
       "    <tr>\n",
       "      <th>105</th>\n",
       "      <td>[pipeline]</td>\n",
       "      <td>[pipeline, new model, usage, examples, pytorch...</td>\n",
       "      <td>[0.8860966563224792, 0.7386038899421692, 0.718...</td>\n",
       "    </tr>\n",
       "  </tbody>\n",
       "</table>\n",
       "<p>106 rows × 3 columns</p>\n",
       "</div>"
      ],
      "text/plain": [
       "          labels                                   predicted_labels  \\\n",
       "0    [new model]  [new model, pytorch, documentation, usage, pip...   \n",
       "1    [new model]  [new model, tokenization, usage, pipeline, exa...   \n",
       "2     [examples]  [examples, model training, tensorflow or tf, p...   \n",
       "3    [new model]  [model training, new model, pipeline, usage, p...   \n",
       "4      [pytorch]  [examples, pytorch, new model, usage, pipeline...   \n",
       "..           ...                                                ...   \n",
       "101   [pipeline]  [examples, new model, tokenization, pipeline, ...   \n",
       "102   [pipeline]  [new model, pipeline, usage, documentation, to...   \n",
       "103   [pipeline]  [pipeline, new model, usage, pytorch, tensorfl...   \n",
       "104   [pipeline]  [model training, new model, pipeline, examples...   \n",
       "105   [pipeline]  [pipeline, new model, usage, examples, pytorch...   \n",
       "\n",
       "                                                scores  \n",
       "0    [0.9883275628089905, 0.9305453896522522, 0.650...  \n",
       "1    [0.9976766705513, 0.9910666346549988, 0.904705...  \n",
       "2    [0.8797267079353333, 0.628290057182312, 0.4842...  \n",
       "3    [0.9517663717269897, 0.7793276309967041, 0.531...  \n",
       "4    [0.5097230672836304, 0.47688230872154236, 0.39...  \n",
       "..                                                 ...  \n",
       "101  [0.79127436876297, 0.7870073914527893, 0.78086...  \n",
       "102  [0.9309496879577637, 0.7411472797393799, 0.477...  \n",
       "103  [0.8765822649002075, 0.6607277989387512, 0.633...  \n",
       "104  [0.9900783896446228, 0.9346898198127747, 0.725...  \n",
       "105  [0.8860966563224792, 0.7386038899421692, 0.718...  \n",
       "\n",
       "[106 rows x 3 columns]"
      ]
     },
     "execution_count": 20,
     "metadata": {},
     "output_type": "execute_result"
    }
   ],
   "source": [
    "ds_zero_shot.to_pandas()[['labels', 'predicted_labels', 'scores']]"
   ]
  },
  {
   "cell_type": "code",
   "execution_count": 21,
   "id": "75f477df",
   "metadata": {},
   "outputs": [],
   "source": [
    "def get_preds(example, threshold=None, topk=None):\n",
    "    preds = []\n",
    "    if threshold:\n",
    "        for label, score in zip(example['predicted_labels'], example['scores']):\n",
    "            if score >= threshold:\n",
    "                preds.append(label)\n",
    "    elif topk:\n",
    "        for i in range(topk):\n",
    "            preds.append(example['predicted_labels'][i])\n",
    "    else:\n",
    "        raise ValueError('Set either \"threshold\" or \"topk\"')\n",
    "    return {'pred_label_ids': list(np.squeeze(mlb.transform([preds])))}"
   ]
  },
  {
   "cell_type": "code",
   "execution_count": 29,
   "id": "7e48d251",
   "metadata": {},
   "outputs": [],
   "source": [
    "def get_clf_report(ds):\n",
    "    y_true = np.array(ds['label_ids'])\n",
    "    y_pred = np.array(ds['pred_label_ids'])\n",
    "    return classification_report(\n",
    "        y_true, y_pred, target_names=mlb.classes_,\n",
    "        zero_division=0, output_dict=True\n",
    "    )"
   ]
  },
  {
   "cell_type": "code",
   "execution_count": 30,
   "id": "7a1e31fa",
   "metadata": {},
   "outputs": [
    {
     "data": {
      "application/vnd.jupyter.widget-view+json": {
       "model_id": "c9acb312daa44713aeec5fc5836e6cc3",
       "version_major": 2,
       "version_minor": 0
      },
      "text/plain": [
       "  0%|          | 0/106 [00:00<?, ?ex/s]"
      ]
     },
     "metadata": {},
     "output_type": "display_data"
    },
    {
     "data": {
      "application/vnd.jupyter.widget-view+json": {
       "model_id": "ff07fd8a82d440b6965b1ee708031655",
       "version_major": 2,
       "version_minor": 0
      },
      "text/plain": [
       "  0%|          | 0/106 [00:00<?, ?ex/s]"
      ]
     },
     "metadata": {},
     "output_type": "display_data"
    },
    {
     "data": {
      "application/vnd.jupyter.widget-view+json": {
       "model_id": "1d01e8bbb6ee46c4ba23551ab747a08e",
       "version_major": 2,
       "version_minor": 0
      },
      "text/plain": [
       "  0%|          | 0/106 [00:00<?, ?ex/s]"
      ]
     },
     "metadata": {},
     "output_type": "display_data"
    },
    {
     "data": {
      "application/vnd.jupyter.widget-view+json": {
       "model_id": "2bb0d17aa6fe460a929a6a6cca7ac544",
       "version_major": 2,
       "version_minor": 0
      },
      "text/plain": [
       "  0%|          | 0/106 [00:00<?, ?ex/s]"
      ]
     },
     "metadata": {},
     "output_type": "display_data"
    },
    {
     "data": {
      "image/png": "[encoded data removed]",
      "text/plain": [
       "<Figure size 432x288 with 1 Axes>"
      ]
     },
     "metadata": {
      "needs_background": "light"
     },
     "output_type": "display_data"
    }
   ],
   "source": [
    "macros, micros = [], []\n",
    "topks = [1, 2, 3, 4]\n",
    "for topk in topks:\n",
    "    ds_zero_shot = ds_zero_shot.map(get_preds, batched=False, fn_kwargs={'topk': topk})\n",
    "    clf_report = get_clf_report(ds_zero_shot)\n",
    "    micros.append(clf_report['micro avg']['f1-score'])\n",
    "    macros.append(clf_report['macro avg']['f1-score'])\n",
    "    \n",
    "plt.plot(topks, micros, label='Micro F1')\n",
    "plt.plot(topks, macros, label='Macro F1')\n",
    "plt.xlabel('Top-k')\n",
    "plt.ylabel('F1-score')\n",
    "plt.legend(loc='best')\n",
    "plt.show()"
   ]
  },
  {
   "cell_type": "code",
   "execution_count": 2,
   "id": "4068edd1",
   "metadata": {},
   "outputs": [
    {
     "data": {
      "application/vnd.jupyter.widget-view+json": {
       "model_id": "e70a585979a34e7b8cf53131aed822e5",
       "version_major": 2,
       "version_minor": 0
      },
      "text/plain": [
       "  0%|          | 0/106 [00:00<?, ?ex/s]"
      ]
     },
     "metadata": {},
     "output_type": "display_data"
    },
    {
     "data": {
      "application/vnd.jupyter.widget-view+json": {
       "model_id": "9627c388828c461587f9d2af609ad845",
       "version_major": 2,
       "version_minor": 0
      },
      "text/plain": [
       "  0%|          | 0/106 [00:00<?, ?ex/s]"
      ]
     },
     "metadata": {},
     "output_type": "display_data"
    },
    {
     "data": {
      "application/vnd.jupyter.widget-view+json": {
       "model_id": "15d735d3116c49ea9a246544ea90ccd5",
       "version_major": 2,
       "version_minor": 0
      },
      "text/plain": [
       "  0%|          | 0/106 [00:00<?, ?ex/s]"
      ]
     },
     "metadata": {},
     "output_type": "display_data"
    },
    {
     "data": {
      "application/vnd.jupyter.widget-view+json": {
       "model_id": "026ee941ec3c4d1faf88d4c59947f51d",
       "version_major": 2,
       "version_minor": 0
      },
      "text/plain": [
       "  0%|          | 0/106 [00:00<?, ?ex/s]"
      ]
     },
     "metadata": {},
     "output_type": "display_data"
    },
    {
     "data": {
      "application/vnd.jupyter.widget-view+json": {
       "model_id": "72118b99a7504b19b6adf72bf8d92d79",
       "version_major": 2,
       "version_minor": 0
      },
      "text/plain": [
       "  0%|          | 0/106 [00:00<?, ?ex/s]"
      ]
     },
     "metadata": {},
     "output_type": "display_data"
    },
    {
     "data": {
      "application/vnd.jupyter.widget-view+json": {
       "model_id": "039d592ff7fe4709b7593583ca70295a",
       "version_major": 2,
       "version_minor": 0
      },
      "text/plain": [
       "  0%|          | 0/106 [00:00<?, ?ex/s]"
      ]
     },
     "metadata": {},
     "output_type": "display_data"
    },
    {
     "data": {
      "application/vnd.jupyter.widget-view+json": {
       "model_id": "a239d003d43442948dc6103b0773d82b",
       "version_major": 2,
       "version_minor": 0
      },
      "text/plain": [
       "  0%|          | 0/106 [00:00<?, ?ex/s]"
      ]
     },
     "metadata": {},
     "output_type": "display_data"
    },
    {
     "data": {
      "application/vnd.jupyter.widget-view+json": {
       "model_id": "7bf46058e9c147d1944bfd7ed41e4603",
       "version_major": 2,
       "version_minor": 0
      },
      "text/plain": [
       "  0%|          | 0/106 [00:00<?, ?ex/s]"
      ]
     },
     "metadata": {},
     "output_type": "display_data"
    },
    {
     "data": {
      "application/vnd.jupyter.widget-view+json": {
       "model_id": "87335636f05a4195ac9bb3d3f81b49bd",
       "version_major": 2,
       "version_minor": 0
      },
      "text/plain": [
       "  0%|          | 0/106 [00:00<?, ?ex/s]"
      ]
     },
     "metadata": {},
     "output_type": "display_data"
    },
    {
     "data": {
      "application/vnd.jupyter.widget-view+json": {
       "model_id": "0cd47adf49eb4806aae5e48cfa363b53",
       "version_major": 2,
       "version_minor": 0
      },
      "text/plain": [
       "  0%|          | 0/106 [00:00<?, ?ex/s]"
      ]
     },
     "metadata": {},
     "output_type": "display_data"
    },
    {
     "data": {
      "application/vnd.jupyter.widget-view+json": {
       "model_id": "2a851c0274e445159274ad65e1b2b554",
       "version_major": 2,
       "version_minor": 0
      },
      "text/plain": [
       "  0%|          | 0/106 [00:00<?, ?ex/s]"
      ]
     },
     "metadata": {},
     "output_type": "display_data"
    },
    {
     "data": {
      "application/vnd.jupyter.widget-view+json": {
       "model_id": "d80959ac878b4dd88850bf5fa1e8eec9",
       "version_major": 2,
       "version_minor": 0
      },
      "text/plain": [
       "  0%|          | 0/106 [00:00<?, ?ex/s]"
      ]
     },
     "metadata": {},
     "output_type": "display_data"
    },
    {
     "data": {
      "application/vnd.jupyter.widget-view+json": {
       "model_id": "67da300b07c04003a0a5f3c8dbcbd6f7",
       "version_major": 2,
       "version_minor": 0
      },
      "text/plain": [
       "  0%|          | 0/106 [00:00<?, ?ex/s]"
      ]
     },
     "metadata": {},
     "output_type": "display_data"
    },
    {
     "data": {
      "application/vnd.jupyter.widget-view+json": {
       "model_id": "cc8427514c6c433faab3f54d10775759",
       "version_major": 2,
       "version_minor": 0
      },
      "text/plain": [
       "  0%|          | 0/106 [00:00<?, ?ex/s]"
      ]
     },
     "metadata": {},
     "output_type": "display_data"
    },
    {
     "data": {
      "application/vnd.jupyter.widget-view+json": {
       "model_id": "8e702b38d5d744248df54c650eb093ec",
       "version_major": 2,
       "version_minor": 0
      },
      "text/plain": [
       "  0%|          | 0/106 [00:00<?, ?ex/s]"
      ]
     },
     "metadata": {},
     "output_type": "display_data"
    },
    {
     "data": {
      "application/vnd.jupyter.widget-view+json": {
       "model_id": "ee5944f8a00e4884afd665c8d0e37ff9",
       "version_major": 2,
       "version_minor": 0
      },
      "text/plain": [
       "  0%|          | 0/106 [00:00<?, ?ex/s]"
      ]
     },
     "metadata": {},
     "output_type": "display_data"
    },
    {
     "data": {
      "application/vnd.jupyter.widget-view+json": {
       "model_id": "b2fa001eabf34bbe887d412ed6bfffdc",
       "version_major": 2,
       "version_minor": 0
      },
      "text/plain": [
       "  0%|          | 0/106 [00:00<?, ?ex/s]"
      ]
     },
     "metadata": {},
     "output_type": "display_data"
    },
    {
     "data": {
      "application/vnd.jupyter.widget-view+json": {
       "model_id": "1647253960b543e0b8bc7c5abde43963",
       "version_major": 2,
       "version_minor": 0
      },
      "text/plain": [
       "  0%|          | 0/106 [00:00<?, ?ex/s]"
      ]
     },
     "metadata": {},
     "output_type": "display_data"
    },
    {
     "data": {
      "application/vnd.jupyter.widget-view+json": {
       "model_id": "79ba85d847934e09b1c094b7ff49e0ef",
       "version_major": 2,
       "version_minor": 0
      },
      "text/plain": [
       "  0%|          | 0/106 [00:00<?, ?ex/s]"
      ]
     },
     "metadata": {},
     "output_type": "display_data"
    },
    {
     "data": {
      "application/vnd.jupyter.widget-view+json": {
       "model_id": "a5023859f0a942e0b08a735c9f5964b6",
       "version_major": 2,
       "version_minor": 0
      },
      "text/plain": [
       "  0%|          | 0/106 [00:00<?, ?ex/s]"
      ]
     },
     "metadata": {},
     "output_type": "display_data"
    },
    {
     "data": {
      "application/vnd.jupyter.widget-view+json": {
       "model_id": "aadbc1a304864e63b6e706f5a78ddfe4",
       "version_major": 2,
       "version_minor": 0
      },
      "text/plain": [
       "  0%|          | 0/106 [00:00<?, ?ex/s]"
      ]
     },
     "metadata": {},
     "output_type": "display_data"
    },
    {
     "data": {
      "application/vnd.jupyter.widget-view+json": {
       "model_id": "03fbbf42126d44c6b3a41763bb227253",
       "version_major": 2,
       "version_minor": 0
      },
      "text/plain": [
       "  0%|          | 0/106 [00:00<?, ?ex/s]"
      ]
     },
     "metadata": {},
     "output_type": "display_data"
    },
    {
     "data": {
      "application/vnd.jupyter.widget-view+json": {
       "model_id": "3b76932503b54bc196049e575bf63d5a",
       "version_major": 2,
       "version_minor": 0
      },
      "text/plain": [
       "  0%|          | 0/106 [00:00<?, ?ex/s]"
      ]
     },
     "metadata": {},
     "output_type": "display_data"
    },
    {
     "data": {
      "application/vnd.jupyter.widget-view+json": {
       "model_id": "ea93c14340e04fa68ee811903cd95d4c",
       "version_major": 2,
       "version_minor": 0
      },
      "text/plain": [
       "  0%|          | 0/106 [00:00<?, ?ex/s]"
      ]
     },
     "metadata": {},
     "output_type": "display_data"
    },
    {
     "data": {
      "application/vnd.jupyter.widget-view+json": {
       "model_id": "50a1819268414de6b1079f5dfb271361",
       "version_major": 2,
       "version_minor": 0
      },
      "text/plain": [
       "  0%|          | 0/106 [00:00<?, ?ex/s]"
      ]
     },
     "metadata": {},
     "output_type": "display_data"
    },
    {
     "data": {
      "application/vnd.jupyter.widget-view+json": {
       "model_id": "2ad717691ce9477ea4e2a4f0ab6c91c8",
       "version_major": 2,
       "version_minor": 0
      },
      "text/plain": [
       "  0%|          | 0/106 [00:00<?, ?ex/s]"
      ]
     },
     "metadata": {},
     "output_type": "display_data"
    },
    {
     "data": {
      "application/vnd.jupyter.widget-view+json": {
       "model_id": "80b84a2820584d7394ea45b79f6f23cd",
       "version_major": 2,
       "version_minor": 0
      },
      "text/plain": [
       "  0%|          | 0/106 [00:00<?, ?ex/s]"
      ]
     },
     "metadata": {},
     "output_type": "display_data"
    },
    {
     "data": {
      "application/vnd.jupyter.widget-view+json": {
       "model_id": "87a52bc7a7a9415aa91f1ab3e4cd037d",
       "version_major": 2,
       "version_minor": 0
      },
      "text/plain": [
       "  0%|          | 0/106 [00:00<?, ?ex/s]"
      ]
     },
     "metadata": {},
     "output_type": "display_data"
    },
    {
     "data": {
      "application/vnd.jupyter.widget-view+json": {
       "model_id": "e047bc2deeb8453ebc5459bf675c73e8",
       "version_major": 2,
       "version_minor": 0
      },
      "text/plain": [
       "  0%|          | 0/106 [00:00<?, ?ex/s]"
      ]
     },
     "metadata": {},
     "output_type": "display_data"
    },
    {
     "data": {
      "application/vnd.jupyter.widget-view+json": {
       "model_id": "4c4f328ce52f416daa4ab3583cb23d21",
       "version_major": 2,
       "version_minor": 0
      },
      "text/plain": [
       "  0%|          | 0/106 [00:00<?, ?ex/s]"
      ]
     },
     "metadata": {},
     "output_type": "display_data"
    },
    {
     "data": {
      "application/vnd.jupyter.widget-view+json": {
       "model_id": "6f578ac37bb14c5290d32680141b700a",
       "version_major": 2,
       "version_minor": 0
      },
      "text/plain": [
       "  0%|          | 0/106 [00:00<?, ?ex/s]"
      ]
     },
     "metadata": {},
     "output_type": "display_data"
    },
    {
     "data": {
      "application/vnd.jupyter.widget-view+json": {
       "model_id": "519df019f456439094780f953f3e3f3c",
       "version_major": 2,
       "version_minor": 0
      },
      "text/plain": [
       "  0%|          | 0/106 [00:00<?, ?ex/s]"
      ]
     },
     "metadata": {},
     "output_type": "display_data"
    },
    {
     "data": {
      "application/vnd.jupyter.widget-view+json": {
       "model_id": "420cf395c84f4e2cb755afc0b15d4f0a",
       "version_major": 2,
       "version_minor": 0
      },
      "text/plain": [
       "  0%|          | 0/106 [00:00<?, ?ex/s]"
      ]
     },
     "metadata": {},
     "output_type": "display_data"
    },
    {
     "data": {
      "application/vnd.jupyter.widget-view+json": {
       "model_id": "29efb4e7829547899f07efd239ccc5d0",
       "version_major": 2,
       "version_minor": 0
      },
      "text/plain": [
       "  0%|          | 0/106 [00:00<?, ?ex/s]"
      ]
     },
     "metadata": {},
     "output_type": "display_data"
    },
    {
     "data": {
      "application/vnd.jupyter.widget-view+json": {
       "model_id": "3deb22ee038447d8a0172d24d6288549",
       "version_major": 2,
       "version_minor": 0
      },
      "text/plain": [
       "  0%|          | 0/106 [00:00<?, ?ex/s]"
      ]
     },
     "metadata": {},
     "output_type": "display_data"
    },
    {
     "data": {
      "application/vnd.jupyter.widget-view+json": {
       "model_id": "4e6f9a4e9e4e41b38e1fcd1a2d543b13",
       "version_major": 2,
       "version_minor": 0
      },
      "text/plain": [
       "  0%|          | 0/106 [00:00<?, ?ex/s]"
      ]
     },
     "metadata": {},
     "output_type": "display_data"
    },
    {
     "data": {
      "application/vnd.jupyter.widget-view+json": {
       "model_id": "353f3c4da69f4a34a25addf09b0f041d",
       "version_major": 2,
       "version_minor": 0
      },
      "text/plain": [
       "  0%|          | 0/106 [00:00<?, ?ex/s]"
      ]
     },
     "metadata": {},
     "output_type": "display_data"
    },
    {
     "data": {
      "application/vnd.jupyter.widget-view+json": {
       "model_id": "1b204ab1047844ee9f0bbcbdf5219750",
       "version_major": 2,
       "version_minor": 0
      },
      "text/plain": [
       "  0%|          | 0/106 [00:00<?, ?ex/s]"
      ]
     },
     "metadata": {},
     "output_type": "display_data"
    },
    {
     "data": {
      "application/vnd.jupyter.widget-view+json": {
       "model_id": "28aba392733741cc825bf835593c9b8d",
       "version_major": 2,
       "version_minor": 0
      },
      "text/plain": [
       "  0%|          | 0/106 [00:00<?, ?ex/s]"
      ]
     },
     "metadata": {},
     "output_type": "display_data"
    },
    {
     "data": {
      "application/vnd.jupyter.widget-view+json": {
       "model_id": "d77b5eba672a4145aadbe497acf957f7",
       "version_major": 2,
       "version_minor": 0
      },
      "text/plain": [
       "  0%|          | 0/106 [00:00<?, ?ex/s]"
      ]
     },
     "metadata": {},
     "output_type": "display_data"
    },
    {
     "data": {
      "application/vnd.jupyter.widget-view+json": {
       "model_id": "98423f38db9040ea85d11e59afce908e",
       "version_major": 2,
       "version_minor": 0
      },
      "text/plain": [
       "  0%|          | 0/106 [00:00<?, ?ex/s]"
      ]
     },
     "metadata": {},
     "output_type": "display_data"
    },
    {
     "data": {
      "application/vnd.jupyter.widget-view+json": {
       "model_id": "57710927f559457eaafad8c616f22fef",
       "version_major": 2,
       "version_minor": 0
      },
      "text/plain": [
       "  0%|          | 0/106 [00:00<?, ?ex/s]"
      ]
     },
     "metadata": {},
     "output_type": "display_data"
    },
    {
     "data": {
      "application/vnd.jupyter.widget-view+json": {
       "model_id": "3a0aba834f8b4948bcd8decff2668f47",
       "version_major": 2,
       "version_minor": 0
      },
      "text/plain": [
       "  0%|          | 0/106 [00:00<?, ?ex/s]"
      ]
     },
     "metadata": {},
     "output_type": "display_data"
    },
    {
     "data": {
      "application/vnd.jupyter.widget-view+json": {
       "model_id": "62f2302aac624d499f5b2a7c6642130b",
       "version_major": 2,
       "version_minor": 0
      },
      "text/plain": [
       "  0%|          | 0/106 [00:00<?, ?ex/s]"
      ]
     },
     "metadata": {},
     "output_type": "display_data"
    },
    {
     "data": {
      "application/vnd.jupyter.widget-view+json": {
       "model_id": "c2e921eb56a247adacb17351801da592",
       "version_major": 2,
       "version_minor": 0
      },
      "text/plain": [
       "  0%|          | 0/106 [00:00<?, ?ex/s]"
      ]
     },
     "metadata": {},
     "output_type": "display_data"
    },
    {
     "data": {
      "application/vnd.jupyter.widget-view+json": {
       "model_id": "cf4913fda9e34ba4be144a574e676914",
       "version_major": 2,
       "version_minor": 0
      },
      "text/plain": [
       "  0%|          | 0/106 [00:00<?, ?ex/s]"
      ]
     },
     "metadata": {},
     "output_type": "display_data"
    },
    {
     "data": {
      "application/vnd.jupyter.widget-view+json": {
       "model_id": "65927a28d3e145d58aa7cbbeb278e80f",
       "version_major": 2,
       "version_minor": 0
      },
      "text/plain": [
       "  0%|          | 0/106 [00:00<?, ?ex/s]"
      ]
     },
     "metadata": {},
     "output_type": "display_data"
    },
    {
     "data": {
      "application/vnd.jupyter.widget-view+json": {
       "model_id": "a2b17099c3f94ab084de82742ad391e7",
       "version_major": 2,
       "version_minor": 0
      },
      "text/plain": [
       "  0%|          | 0/106 [00:00<?, ?ex/s]"
      ]
     },
     "metadata": {},
     "output_type": "display_data"
    },
    {
     "data": {
      "application/vnd.jupyter.widget-view+json": {
       "model_id": "d24ce8f3c97f4b94a1f3ef68ad4d86e3",
       "version_major": 2,
       "version_minor": 0
      },
      "text/plain": [
       "  0%|          | 0/106 [00:00<?, ?ex/s]"
      ]
     },
     "metadata": {},
     "output_type": "display_data"
    },
    {
     "data": {
      "application/vnd.jupyter.widget-view+json": {
       "model_id": "84facad0195047c0bed85c0ff148f55f",
       "version_major": 2,
       "version_minor": 0
      },
      "text/plain": [
       "  0%|          | 0/106 [00:00<?, ?ex/s]"
      ]
     },
     "metadata": {},
     "output_type": "display_data"
    },
    {
     "data": {
      "application/vnd.jupyter.widget-view+json": {
       "model_id": "8e6843b603a14c34a78a0a9138bc9be6",
       "version_major": 2,
       "version_minor": 0
      },
      "text/plain": [
       "  0%|          | 0/106 [00:00<?, ?ex/s]"
      ]
     },
     "metadata": {},
     "output_type": "display_data"
    },
    {
     "data": {
      "application/vnd.jupyter.widget-view+json": {
       "model_id": "2b9abdac870b4bff9c688cf964e17ee4",
       "version_major": 2,
       "version_minor": 0
      },
      "text/plain": [
       "  0%|          | 0/106 [00:00<?, ?ex/s]"
      ]
     },
     "metadata": {},
     "output_type": "display_data"
    },
    {
     "data": {
      "application/vnd.jupyter.widget-view+json": {
       "model_id": "422aba516bc54452b714977e4ac98763",
       "version_major": 2,
       "version_minor": 0
      },
      "text/plain": [
       "  0%|          | 0/106 [00:00<?, ?ex/s]"
      ]
     },
     "metadata": {},
     "output_type": "display_data"
    },
    {
     "data": {
      "application/vnd.jupyter.widget-view+json": {
       "model_id": "2f49150e762d4fa9a7800e5fb946c81b",
       "version_major": 2,
       "version_minor": 0
      },
      "text/plain": [
       "  0%|          | 0/106 [00:00<?, ?ex/s]"
      ]
     },
     "metadata": {},
     "output_type": "display_data"
    },
    {
     "data": {
      "application/vnd.jupyter.widget-view+json": {
       "model_id": "7091887964ad49b09e83518d3f2cb5f3",
       "version_major": 2,
       "version_minor": 0
      },
      "text/plain": [
       "  0%|          | 0/106 [00:00<?, ?ex/s]"
      ]
     },
     "metadata": {},
     "output_type": "display_data"
    },
    {
     "data": {
      "application/vnd.jupyter.widget-view+json": {
       "model_id": "c19376fc89df4084a6dc33bd7eddb5d0",
       "version_major": 2,
       "version_minor": 0
      },
      "text/plain": [
       "  0%|          | 0/106 [00:00<?, ?ex/s]"
      ]
     },
     "metadata": {},
     "output_type": "display_data"
    },
    {
     "data": {
      "application/vnd.jupyter.widget-view+json": {
       "model_id": "f31a3819dd4646aaba8bd090dda5b646",
       "version_major": 2,
       "version_minor": 0
      },
      "text/plain": [
       "  0%|          | 0/106 [00:00<?, ?ex/s]"
      ]
     },
     "metadata": {},
     "output_type": "display_data"
    },
    {
     "data": {
      "application/vnd.jupyter.widget-view+json": {
       "model_id": "02f671df789147f1b45e70edab1ee8a5",
       "version_major": 2,
       "version_minor": 0
      },
      "text/plain": [
       "  0%|          | 0/106 [00:00<?, ?ex/s]"
      ]
     },
     "metadata": {},
     "output_type": "display_data"
    },
    {
     "data": {
      "application/vnd.jupyter.widget-view+json": {
       "model_id": "55cc6b4acf3349f2a4f0c85297e7d687",
       "version_major": 2,
       "version_minor": 0
      },
      "text/plain": [
       "  0%|          | 0/106 [00:00<?, ?ex/s]"
      ]
     },
     "metadata": {},
     "output_type": "display_data"
    },
    {
     "data": {
      "application/vnd.jupyter.widget-view+json": {
       "model_id": "06906e96ed274a47807390dc50a4ba51",
       "version_major": 2,
       "version_minor": 0
      },
      "text/plain": [
       "  0%|          | 0/106 [00:00<?, ?ex/s]"
      ]
     },
     "metadata": {},
     "output_type": "display_data"
    },
    {
     "data": {
      "application/vnd.jupyter.widget-view+json": {
       "model_id": "1861b42e306344ffa933ff36a65585f7",
       "version_major": 2,
       "version_minor": 0
      },
      "text/plain": [
       "  0%|          | 0/106 [00:00<?, ?ex/s]"
      ]
     },
     "metadata": {},
     "output_type": "display_data"
    },
    {
     "data": {
      "application/vnd.jupyter.widget-view+json": {
       "model_id": "afe48803622445b0834eba50b038e9aa",
       "version_major": 2,
       "version_minor": 0
      },
      "text/plain": [
       "  0%|          | 0/106 [00:00<?, ?ex/s]"
      ]
     },
     "metadata": {},
     "output_type": "display_data"
    },
    {
     "data": {
      "application/vnd.jupyter.widget-view+json": {
       "model_id": "49f442c25c1145458abf5ece79d786f3",
       "version_major": 2,
       "version_minor": 0
      },
      "text/plain": [
       "  0%|          | 0/106 [00:00<?, ?ex/s]"
      ]
     },
     "metadata": {},
     "output_type": "display_data"
    },
    {
     "data": {
      "application/vnd.jupyter.widget-view+json": {
       "model_id": "58ab444546824944a63c0a5ec56e41b6",
       "version_major": 2,
       "version_minor": 0
      },
      "text/plain": [
       "  0%|          | 0/106 [00:00<?, ?ex/s]"
      ]
     },
     "metadata": {},
     "output_type": "display_data"
    },
    {
     "data": {
      "application/vnd.jupyter.widget-view+json": {
       "model_id": "b09e3f5935ae446f9231fb622f4826d9",
       "version_major": 2,
       "version_minor": 0
      },
      "text/plain": [
       "  0%|          | 0/106 [00:00<?, ?ex/s]"
      ]
     },
     "metadata": {},
     "output_type": "display_data"
    },
    {
     "data": {
      "application/vnd.jupyter.widget-view+json": {
       "model_id": "2c6e62ea67814721bfc576f532f55188",
       "version_major": 2,
       "version_minor": 0
      },
      "text/plain": [
       "  0%|          | 0/106 [00:00<?, ?ex/s]"
      ]
     },
     "metadata": {},
     "output_type": "display_data"
    },
    {
     "data": {
      "application/vnd.jupyter.widget-view+json": {
       "model_id": "7f951c77081f47868853ddb004212e29",
       "version_major": 2,
       "version_minor": 0
      },
      "text/plain": [
       "  0%|          | 0/106 [00:00<?, ?ex/s]"
      ]
     },
     "metadata": {},
     "output_type": "display_data"
    },
    {
     "data": {
      "application/vnd.jupyter.widget-view+json": {
       "model_id": "d261ef850b064e2e9983919635a8da19",
       "version_major": 2,
       "version_minor": 0
      },
      "text/plain": [
       "  0%|          | 0/106 [00:00<?, ?ex/s]"
      ]
     },
     "metadata": {},
     "output_type": "display_data"
    },
    {
     "data": {
      "application/vnd.jupyter.widget-view+json": {
       "model_id": "fa5a0eb0b6e544b2b391a7fe2cad5a5b",
       "version_major": 2,
       "version_minor": 0
      },
      "text/plain": [
       "  0%|          | 0/106 [00:00<?, ?ex/s]"
      ]
     },
     "metadata": {},
     "output_type": "display_data"
    },
    {
     "data": {
      "application/vnd.jupyter.widget-view+json": {
       "model_id": "ea4ed73c18d645b5b64a47c469a1d4e3",
       "version_major": 2,
       "version_minor": 0
      },
      "text/plain": [
       "  0%|          | 0/106 [00:00<?, ?ex/s]"
      ]
     },
     "metadata": {},
     "output_type": "display_data"
    },
    {
     "data": {
      "application/vnd.jupyter.widget-view+json": {
       "model_id": "f0341def9556444984c32fcd392cdd69",
       "version_major": 2,
       "version_minor": 0
      },
      "text/plain": [
       "  0%|          | 0/106 [00:00<?, ?ex/s]"
      ]
     },
     "metadata": {},
     "output_type": "display_data"
    },
    {
     "data": {
      "application/vnd.jupyter.widget-view+json": {
       "model_id": "e54ac00bdfca4dd78413857cff81c60c",
       "version_major": 2,
       "version_minor": 0
      },
      "text/plain": [
       "  0%|          | 0/106 [00:00<?, ?ex/s]"
      ]
     },
     "metadata": {},
     "output_type": "display_data"
    },
    {
     "data": {
      "application/vnd.jupyter.widget-view+json": {
       "model_id": "837d90a9954c41fea06f72ec5db5b194",
       "version_major": 2,
       "version_minor": 0
      },
      "text/plain": [
       "  0%|          | 0/106 [00:00<?, ?ex/s]"
      ]
     },
     "metadata": {},
     "output_type": "display_data"
    },
    {
     "data": {
      "application/vnd.jupyter.widget-view+json": {
       "model_id": "d16ae4f3343a468f9138927bdeadd568",
       "version_major": 2,
       "version_minor": 0
      },
      "text/plain": [
       "  0%|          | 0/106 [00:00<?, ?ex/s]"
      ]
     },
     "metadata": {},
     "output_type": "display_data"
    },
    {
     "data": {
      "application/vnd.jupyter.widget-view+json": {
       "model_id": "97fbc74ca1924f3aa9067cbaa2cb8f63",
       "version_major": 2,
       "version_minor": 0
      },
      "text/plain": [
       "  0%|          | 0/106 [00:00<?, ?ex/s]"
      ]
     },
     "metadata": {},
     "output_type": "display_data"
    },
    {
     "data": {
      "application/vnd.jupyter.widget-view+json": {
       "model_id": "6c044c1878fb41258883ecf838c39956",
       "version_major": 2,
       "version_minor": 0
      },
      "text/plain": [
       "  0%|          | 0/106 [00:00<?, ?ex/s]"
      ]
     },
     "metadata": {},
     "output_type": "display_data"
    },
    {
     "data": {
      "application/vnd.jupyter.widget-view+json": {
       "model_id": "5622ac9cd9fd4dc2b54c89c48d398a83",
       "version_major": 2,
       "version_minor": 0
      },
      "text/plain": [
       "  0%|          | 0/106 [00:00<?, ?ex/s]"
      ]
     },
     "metadata": {},
     "output_type": "display_data"
    },
    {
     "data": {
      "application/vnd.jupyter.widget-view+json": {
       "model_id": "008b2c68b1134975b9e480871720559e",
       "version_major": 2,
       "version_minor": 0
      },
      "text/plain": [
       "  0%|          | 0/106 [00:00<?, ?ex/s]"
      ]
     },
     "metadata": {},
     "output_type": "display_data"
    },
    {
     "data": {
      "application/vnd.jupyter.widget-view+json": {
       "model_id": "5e8e24a225d54354adfa713bf6e01c35",
       "version_major": 2,
       "version_minor": 0
      },
      "text/plain": [
       "  0%|          | 0/106 [00:00<?, ?ex/s]"
      ]
     },
     "metadata": {},
     "output_type": "display_data"
    },
    {
     "data": {
      "application/vnd.jupyter.widget-view+json": {
       "model_id": "0a3c45d0fb8d42e9b3b9d44f12287100",
       "version_major": 2,
       "version_minor": 0
      },
      "text/plain": [
       "  0%|          | 0/106 [00:00<?, ?ex/s]"
      ]
     },
     "metadata": {},
     "output_type": "display_data"
    },
    {
     "data": {
      "application/vnd.jupyter.widget-view+json": {
       "model_id": "36c8abcae07b494ab457ac1eed0b914c",
       "version_major": 2,
       "version_minor": 0
      },
      "text/plain": [
       "  0%|          | 0/106 [00:00<?, ?ex/s]"
      ]
     },
     "metadata": {},
     "output_type": "display_data"
    },
    {
     "data": {
      "application/vnd.jupyter.widget-view+json": {
       "model_id": "eff7b4493d0a40d2aff49b5ba48eeebb",
       "version_major": 2,
       "version_minor": 0
      },
      "text/plain": [
       "  0%|          | 0/106 [00:00<?, ?ex/s]"
      ]
     },
     "metadata": {},
     "output_type": "display_data"
    },
    {
     "data": {
      "application/vnd.jupyter.widget-view+json": {
       "model_id": "ed293890719b4d35964629c1784f575d",
       "version_major": 2,
       "version_minor": 0
      },
      "text/plain": [
       "  0%|          | 0/106 [00:00<?, ?ex/s]"
      ]
     },
     "metadata": {},
     "output_type": "display_data"
    },
    {
     "data": {
      "application/vnd.jupyter.widget-view+json": {
       "model_id": "1193f8c621dc40cbbba6383375c6091c",
       "version_major": 2,
       "version_minor": 0
      },
      "text/plain": [
       "  0%|          | 0/106 [00:00<?, ?ex/s]"
      ]
     },
     "metadata": {},
     "output_type": "display_data"
    },
    {
     "data": {
      "application/vnd.jupyter.widget-view+json": {
       "model_id": "efeaaa36a34643d187661f62436ed630",
       "version_major": 2,
       "version_minor": 0
      },
      "text/plain": [
       "  0%|          | 0/106 [00:00<?, ?ex/s]"
      ]
     },
     "metadata": {},
     "output_type": "display_data"
    },
    {
     "data": {
      "application/vnd.jupyter.widget-view+json": {
       "model_id": "2208b0fe2e3044288374b405a5657e0f",
       "version_major": 2,
       "version_minor": 0
      },
      "text/plain": [
       "  0%|          | 0/106 [00:00<?, ?ex/s]"
      ]
     },
     "metadata": {},
     "output_type": "display_data"
    },
    {
     "data": {
      "application/vnd.jupyter.widget-view+json": {
       "model_id": "ab585c11fc144394b198dbefd3bed163",
       "version_major": 2,
       "version_minor": 0
      },
      "text/plain": [
       "  0%|          | 0/106 [00:00<?, ?ex/s]"
      ]
     },
     "metadata": {},
     "output_type": "display_data"
    },
    {
     "data": {
      "application/vnd.jupyter.widget-view+json": {
       "model_id": "8b86c798f31242dba5829fba63648e4d",
       "version_major": 2,
       "version_minor": 0
      },
      "text/plain": [
       "  0%|          | 0/106 [00:00<?, ?ex/s]"
      ]
     },
     "metadata": {},
     "output_type": "display_data"
    },
    {
     "data": {
      "application/vnd.jupyter.widget-view+json": {
       "model_id": "b4ae0fbf831b4490a26ecb6db1349f6d",
       "version_major": 2,
       "version_minor": 0
      },
      "text/plain": [
       "  0%|          | 0/106 [00:00<?, ?ex/s]"
      ]
     },
     "metadata": {},
     "output_type": "display_data"
    },
    {
     "data": {
      "application/vnd.jupyter.widget-view+json": {
       "model_id": "f2350df256b34eddbf44c4c216bb17ba",
       "version_major": 2,
       "version_minor": 0
      },
      "text/plain": [
       "  0%|          | 0/106 [00:00<?, ?ex/s]"
      ]
     },
     "metadata": {},
     "output_type": "display_data"
    },
    {
     "data": {
      "application/vnd.jupyter.widget-view+json": {
       "model_id": "965e1cd189db4d578c06010553be82b0",
       "version_major": 2,
       "version_minor": 0
      },
      "text/plain": [
       "  0%|          | 0/106 [00:00<?, ?ex/s]"
      ]
     },
     "metadata": {},
     "output_type": "display_data"
    },
    {
     "data": {
      "application/vnd.jupyter.widget-view+json": {
       "model_id": "a92e79d3c9f14e52b27f8e0ba8ea0ab4",
       "version_major": 2,
       "version_minor": 0
      },
      "text/plain": [
       "  0%|          | 0/106 [00:00<?, ?ex/s]"
      ]
     },
     "metadata": {},
     "output_type": "display_data"
    },
    {
     "data": {
      "application/vnd.jupyter.widget-view+json": {
       "model_id": "1b7b452d4fad46b393f849a1a0f38061",
       "version_major": 2,
       "version_minor": 0
      },
      "text/plain": [
       "  0%|          | 0/106 [00:00<?, ?ex/s]"
      ]
     },
     "metadata": {},
     "output_type": "display_data"
    },
    {
     "data": {
      "application/vnd.jupyter.widget-view+json": {
       "model_id": "33c7dffcee454182898f3524ff173075",
       "version_major": 2,
       "version_minor": 0
      },
      "text/plain": [
       "  0%|          | 0/106 [00:00<?, ?ex/s]"
      ]
     },
     "metadata": {},
     "output_type": "display_data"
    },
    {
     "data": {
      "application/vnd.jupyter.widget-view+json": {
       "model_id": "d1caba95f6a3470aa798089d1b266930",
       "version_major": 2,
       "version_minor": 0
      },
      "text/plain": [
       "  0%|          | 0/106 [00:00<?, ?ex/s]"
      ]
     },
     "metadata": {},
     "output_type": "display_data"
    },
    {
     "data": {
      "application/vnd.jupyter.widget-view+json": {
       "model_id": "a0e1db1b4a254d87a40e42e098f5ae75",
       "version_major": 2,
       "version_minor": 0
      },
      "text/plain": [
       "  0%|          | 0/106 [00:00<?, ?ex/s]"
      ]
     },
     "metadata": {},
     "output_type": "display_data"
    },
    {
     "data": {
      "application/vnd.jupyter.widget-view+json": {
       "model_id": "ad4995c4b93d4e7fa08394f1913e91a5",
       "version_major": 2,
       "version_minor": 0
      },
      "text/plain": [
       "  0%|          | 0/106 [00:00<?, ?ex/s]"
      ]
     },
     "metadata": {},
     "output_type": "display_data"
    },
    {
     "data": {
      "application/vnd.jupyter.widget-view+json": {
       "model_id": "921833e7a3204ed9bfa79475a46b5408",
       "version_major": 2,
       "version_minor": 0
      },
      "text/plain": [
       "  0%|          | 0/106 [00:00<?, ?ex/s]"
      ]
     },
     "metadata": {},
     "output_type": "display_data"
    },
    {
     "data": {
      "application/vnd.jupyter.widget-view+json": {
       "model_id": "895109505f264642ad13e57a489107e4",
       "version_major": 2,
       "version_minor": 0
      },
      "text/plain": [
       "  0%|          | 0/106 [00:00<?, ?ex/s]"
      ]
     },
     "metadata": {},
     "output_type": "display_data"
    },
    {
     "data": {
      "application/vnd.jupyter.widget-view+json": {
       "model_id": "248862b3eedf45748295857e63505170",
       "version_major": 2,
       "version_minor": 0
      },
      "text/plain": [
       "  0%|          | 0/106 [00:00<?, ?ex/s]"
      ]
     },
     "metadata": {},
     "output_type": "display_data"
    },
    {
     "data": {
      "image/png": "[encoded data removed]",
      "text/plain": [
       "<Figure size 432x288 with 1 Axes>"
      ]
     },
     "metadata": {
      "needs_background": "light"
     },
     "output_type": "display_data"
    }
   ],
   "source": [
    "macros, micros = [], []\n",
    "thresholds = np.linspace(0.01, 1, 100)\n",
    "for threshold in thresholds:\n",
    "    ds_zero_shot = ds_zero_shot.map(get_preds, fn_kwargs={'threshold': threshold})\n",
    "    clf_report = get_clf_report(ds_zero_shot)\n",
    "    micros.append(clf_report['micro avg']['f1-score'])\n",
    "    macros.append(clf_report['macro avg']['f1-score'])\n",
    "    \n",
    "plt.plot(thresholds, micros, label='Micro F1')\n",
    "plt.plot(thresholds, macros, label='Macro F1')\n",
    "plt.xlabel('Threshold')\n",
    "plt.ylabel('F1-score')\n",
    "plt.legend(loc='best')\n",
    "plt.show()"
   ]
  },
  {
   "cell_type": "code",
   "execution_count": 3,
   "id": "8f5cfb99",
   "metadata": {},
   "outputs": [
    {
     "name": "stdout",
     "output_type": "stream",
     "text": [
      "Best threshold (micro): 0.75 with F1-score 0.46\n",
      "Best threshold (macro): 0.72 with F1-score 0.42\n"
     ]
    }
   ],
   "source": [
    "best_t, best_micro = thresholds[np.argmax(micros)], np.max(micros)\n",
    "print(f'Best threshold (micro): {best_t} with F1-score {best_micro:.2f}')\n",
    "best_t, best_macro = thresholds[np.argmax(macros)], np.max(macros)\n",
    "print(f'Best threshold (macro): {best_t} with F1-score {best_macro:.2f}')"
   ]
  },
  {
   "cell_type": "code",
   "execution_count": null,
   "id": "12e8c083",
   "metadata": {},
   "outputs": [],
   "source": [
    "ds_zero_shot = ds['test'].map(zero_shot_pipeline)\n",
    "ds_zero_shot = ds_zero_shot.map(get_preds, fn_kwargs={'topk': 1})"
   ]
  },
  {
   "cell_type": "code",
   "execution_count": 6,
   "id": "e156b009",
   "metadata": {},
   "outputs": [
    {
     "data": {
      "image/png": "[encoded data removed]",
      "text/plain": [
       "<Figure size 720x288 with 2 Axes>"
      ]
     },
     "metadata": {
      "needs_background": "light"
     },
     "output_type": "display_data"
    }
   ],
   "source": [
    "clf_report = get_clf_report(ds_zero_shot)\n",
    "for train_slice in train_slices:\n",
    "    macro_scores['Zero Shot'].append(clf_report['macro avg']['f1-score'])\n",
    "    micro_scores['Zero Shot'].append(clf_report['micro avg']['f1-score'])\n",
    "    \n",
    "plot_metrics(micro_scores, macro_scores, train_samples, 'Zero Shot')"
   ]
  },
  {
   "cell_type": "markdown",
   "id": "a02d9f76",
   "metadata": {},
   "source": [
    "# p271, Data Augmentation"
   ]
  },
  {
   "cell_type": "code",
   "execution_count": 3,
   "id": "632fb0a0",
   "metadata": {},
   "outputs": [
    {
     "name": "stdout",
     "output_type": "stream",
     "text": [
      "Original text: Transformers are the most popular toys\n",
      "Augmented text: ['transformers in the most relevant toys']\n"
     ]
    }
   ],
   "source": [
    "transformers.set_seed(3)\n",
    "aug = naw.ContextualWordEmbsAug(\n",
    "    model_path='distilbert-base-uncased', device='cpu', action='substitute'\n",
    ")\n",
    "\n",
    "text = 'Transformers are the most popular toys'\n",
    "print(f'Original text: {text}')\n",
    "print(f'Augmented text: {aug.augment(text)}')"
   ]
  },
  {
   "cell_type": "code",
   "execution_count": 22,
   "id": "32434256",
   "metadata": {},
   "outputs": [],
   "source": [
    "def augment_text(batch, transformations_per_example=1):\n",
    "    text_aug, label_ids = [], []\n",
    "    for text, labels in zip(batch['text'], batch['label_ids']):\n",
    "        # print('FIXME, input text:', text[:80], ', label ids:', label_ids)\n",
    "        text_aug += [text]\n",
    "        label_ids += [labels]\n",
    "        for _ in range(transformations_per_example):\n",
    "            cur_aug = aug.augment(text)\n",
    "            # print('FIXME, cur aug:', cur_aug[:80])\n",
    "            text_aug += cur_aug\n",
    "            label_ids += [labels]\n",
    "    # print('FIXME, text arr len:', len(text_aug), ', label ids:', label_ids)\n",
    "    return {'text': text_aug, 'label_ids': label_ids}"
   ]
  },
  {
   "cell_type": "code",
   "execution_count": 23,
   "id": "78c78147",
   "metadata": {},
   "outputs": [
    {
     "name": "stdout",
     "output_type": "stream",
     "text": [
      "Augment a slice of length 10\n"
     ]
    },
    {
     "data": {
      "application/vnd.jupyter.widget-view+json": {
       "model_id": "e6918b4ffdce4a75a4880ead8803b5f1",
       "version_major": 2,
       "version_minor": 0
      },
      "text/plain": [
       "  0%|          | 0/1 [00:00<?, ?ba/s]"
      ]
     },
     "metadata": {},
     "output_type": "display_data"
    },
    {
     "name": "stdout",
     "output_type": "stream",
     "text": [
      "Augment a slice of length 19\n"
     ]
    },
    {
     "data": {
      "application/vnd.jupyter.widget-view+json": {
       "model_id": "7365bc2034fa477ea8ffe333939b4967",
       "version_major": 2,
       "version_minor": 0
      },
      "text/plain": [
       "  0%|          | 0/1 [00:00<?, ?ba/s]"
      ]
     },
     "metadata": {},
     "output_type": "display_data"
    },
    {
     "name": "stdout",
     "output_type": "stream",
     "text": [
      "Augment a slice of length 36\n"
     ]
    },
    {
     "data": {
      "application/vnd.jupyter.widget-view+json": {
       "model_id": "b63f7e5ffba84b4e98b206f3755bf9e5",
       "version_major": 2,
       "version_minor": 0
      },
      "text/plain": [
       "  0%|          | 0/1 [00:00<?, ?ba/s]"
      ]
     },
     "metadata": {},
     "output_type": "display_data"
    },
    {
     "name": "stdout",
     "output_type": "stream",
     "text": [
      "Augment a slice of length 68\n"
     ]
    },
    {
     "data": {
      "application/vnd.jupyter.widget-view+json": {
       "model_id": "8278c97052b04f3ab70153406344103c",
       "version_major": 2,
       "version_minor": 0
      },
      "text/plain": [
       "  0%|          | 0/1 [00:00<?, ?ba/s]"
      ]
     },
     "metadata": {},
     "output_type": "display_data"
    },
    {
     "name": "stdout",
     "output_type": "stream",
     "text": [
      "Augment a slice of length 134\n"
     ]
    },
    {
     "data": {
      "application/vnd.jupyter.widget-view+json": {
       "model_id": "204fb4f18c9f4ad68353de28ce59d606",
       "version_major": 2,
       "version_minor": 0
      },
      "text/plain": [
       "  0%|          | 0/1 [00:00<?, ?ba/s]"
      ]
     },
     "metadata": {},
     "output_type": "display_data"
    },
    {
     "name": "stdout",
     "output_type": "stream",
     "text": [
      "Augment a slice of length 223\n"
     ]
    },
    {
     "data": {
      "application/vnd.jupyter.widget-view+json": {
       "model_id": "56f37fff7c8b48f7980bcb052932a0eb",
       "version_major": 2,
       "version_minor": 0
      },
      "text/plain": [
       "  0%|          | 0/1 [00:00<?, ?ba/s]"
      ]
     },
     "metadata": {},
     "output_type": "display_data"
    }
   ],
   "source": [
    "for train_slice in train_slices:\n",
    "    # Get training slice and test data\n",
    "    ds_train_sample = ds['train'].select(train_slice)  # [0 2 9 11 ...]\n",
    "    print(f'Augment a slice of length {len(train_slice)}')\n",
    "    # ** Augment **\n",
    "    ds_train_sample = ds_train_sample.map(\n",
    "        augment_text, batched=True, remove_columns=ds_train_sample.column_names\n",
    "    ).shuffle(seed=42)\n",
    "    y_train = np.array(ds_train_sample['label_ids'])  # [[0 0 0 1 ...] [0 0 0 1 ...] ...]\n",
    "    y_test = np.array(ds['test']['label_ids'])\n",
    "    # Use a simple count vectorizer to encode our texts as token counts\n",
    "    count_vect = CountVectorizer()\n",
    "    X_train_counts = count_vect.fit_transform(ds_train_sample['text'])  # Kx887 sparse matrix\n",
    "    X_test_counts = count_vect.transform(ds['test']['text'])\n",
    "    # Create and train our model\n",
    "    classifier = BinaryRelevance(classifier=MultinomialNB())\n",
    "    classifier.fit(X_train_counts, y_train)\n",
    "    # Generate predictions and evaluate\n",
    "    y_pred_test = classifier.predict(X_test_counts)\n",
    "    clf_report = classification_report(\n",
    "        y_test, y_pred_test, target_names = mlb.classes_, zero_division=0,\n",
    "        output_dict=True\n",
    "    )\n",
    "    # Store metrics\n",
    "    macro_scores['Naive Bayes + Aug'].append(clf_report['macro avg']['f1-score'])\n",
    "    micro_scores['Naive Bayes + Aug'].append(clf_report['micro avg']['f1-score'])"
   ]
  },
  {
   "cell_type": "code",
   "execution_count": 24,
   "id": "388c3b66",
   "metadata": {},
   "outputs": [
    {
     "data": {
      "image/png": "[encoded data removed]",
      "text/plain": [
       "<Figure size 720x288 with 2 Axes>"
      ]
     },
     "metadata": {
      "needs_background": "light"
     },
     "output_type": "display_data"
    }
   ],
   "source": [
    "plot_metrics(micro_scores, macro_scores, train_samples, 'Naive Bayes + Aug')"
   ]
  },
  {
   "cell_type": "markdown",
   "id": "e3b7e6fe",
   "metadata": {},
   "source": [
    "# p275, Using Embeddings as a Lookup Table"
   ]
  },
  {
   "cell_type": "code",
   "execution_count": 7,
   "id": "4d565d34",
   "metadata": {},
   "outputs": [
    {
     "name": "stderr",
     "output_type": "stream",
     "text": [
      "Some weights of the model checkpoint at miguelvictor/python-gpt2-large were not used when initializing GPT2Model: ['lm_head.weight']\n",
      "- This IS expected if you are initializing GPT2Model from the checkpoint of a model trained on another task or with another architecture (e.g. initializing a BertForSequenceClassification model from a BertForPreTraining model).\n",
      "- This IS NOT expected if you are initializing GPT2Model from the checkpoint of a model that you expect to be exactly identical (initializing a BertForSequenceClassification model from a BertForSequenceClassification model).\n"
     ]
    }
   ],
   "source": [
    "model_ckpt = 'miguelvictor/python-gpt2-large'\n",
    "tokenizer = AutoTokenizer.from_pretrained(model_ckpt)\n",
    "model = AutoModel.from_pretrained(model_ckpt)\n",
    "\n",
    "tokenizer.pad_token = tokenizer.eos_token"
   ]
  },
  {
   "cell_type": "code",
   "execution_count": 26,
   "id": "715cfd75",
   "metadata": {},
   "outputs": [],
   "source": [
    "def mean_pooling(model_output, attention_mask):\n",
    "    # Extract the token embeddings\n",
    "    # tensor([[ N vectors ]])\n",
    "    token_embeddings = model_output[0]\n",
    "    # Compute the attention mask\n",
    "    input_mask_expanded = (attention_mask\n",
    "                           .unsqueeze(-1)  # tensor([[1, 1, 1, 1]]) -> tensor([[[1], [1], [1], [1]]])\n",
    "                           # torch.Size([batch_size, n_tokens, embedding_size])\n",
    "                           # .expand: singleton dimension to a larger size:\n",
    "                           #   tensor([[[1, 1, 1,  ..., 1, 1, 1], [1, 1, 1,  ..., 1, 1, 1], [1, 1, 1,  ..., 1, 1, 1], [1, 1, 1,  ..., 1, 1, 1]]])\n",
    "                           #   tensor of torch.Size, all set to 1\n",
    "                           .expand(token_embeddings.size())\n",
    "                           .float())\n",
    "    # Sum the embeddings, but ignore masked tokens\n",
    "    sum_embeddings = torch.sum(token_embeddings * input_mask_expanded, 1)\n",
    "    sum_mask = torch.clamp(input_mask_expanded.sum(1), min=1e-9)\n",
    "    # Return the average as a single vector\n",
    "    return sum_embeddings / sum_mask\n",
    "\n",
    "def embed_text(examples):\n",
    "    # {'input_ids': tensor([[11246,  1672,   329,  1332]]), 'attention_mask': tensor([[1, 1, 1, 1]])}\n",
    "    inputs = tokenizer(examples['text'], padding=True, truncation=True,\n",
    "                     max_length=128, return_tensors='pt')\n",
    "    with torch.no_grad():\n",
    "        model_output = model(**inputs)  # BaseModelOutputWithPastAndCrossAttentions(...)\n",
    "    pooled_embeds = mean_pooling(model_output, inputs['attention_mask'])\n",
    "    return {'embedding': pooled_embeds.cpu().numpy()}"
   ]
  },
  {
   "cell_type": "code",
   "execution_count": 27,
   "id": "c9302b0e",
   "metadata": {},
   "outputs": [
    {
     "data": {
      "application/vnd.jupyter.widget-view+json": {
       "model_id": "35b864c9a6314538a6c1fcff990419d8",
       "version_major": 2,
       "version_minor": 0
      },
      "text/plain": [
       "  0%|          | 0/14 [00:00<?, ?ba/s]"
      ]
     },
     "metadata": {},
     "output_type": "display_data"
    },
    {
     "data": {
      "application/vnd.jupyter.widget-view+json": {
       "model_id": "029a1d012ee04c46bddbda51bae50144",
       "version_major": 2,
       "version_minor": 0
      },
      "text/plain": [
       "  0%|          | 0/7 [00:00<?, ?ba/s]"
      ]
     },
     "metadata": {},
     "output_type": "display_data"
    },
    {
     "data": {
      "application/vnd.jupyter.widget-view+json": {
       "model_id": "2b4ebf6887e34b6192c9b34971cbca96",
       "version_major": 2,
       "version_minor": 0
      },
      "text/plain": [
       "  0%|          | 0/7 [00:00<?, ?ba/s]"
      ]
     },
     "metadata": {},
     "output_type": "display_data"
    }
   ],
   "source": [
    "embs_train = ds['train'].map(embed_text, batched=True, batch_size=16)\n",
    "embs_valid = ds['valid'].map(embed_text, batched=True, batch_size=16)\n",
    "embs_test = ds['test'].map(embed_text, batched=True, batch_size=16)"
   ]
  },
  {
   "cell_type": "code",
   "execution_count": 50,
   "id": "1a65a8fd",
   "metadata": {},
   "outputs": [
    {
     "data": {
      "application/vnd.jupyter.widget-view+json": {
       "model_id": "bdff03fc39234ffba8e33aa70683cad8",
       "version_major": 2,
       "version_minor": 0
      },
      "text/plain": [
       "  0%|          | 0/1 [00:00<?, ?it/s]"
      ]
     },
     "metadata": {},
     "output_type": "display_data"
    },
    {
     "data": {
      "text/plain": [
       "Dataset({\n",
       "    features: ['text', 'labels', 'label_ids', 'embedding'],\n",
       "    num_rows: 223\n",
       "})"
      ]
     },
     "execution_count": 50,
     "metadata": {},
     "output_type": "execute_result"
    }
   ],
   "source": [
    "embs_train.add_faiss_index('embedding')"
   ]
  },
  {
   "cell_type": "code",
   "execution_count": 53,
   "id": "7d45d555",
   "metadata": {},
   "outputs": [
    {
     "name": "stdout",
     "output_type": "stream",
     "text": [
      "QUERY LABELS: ['pytorch']\n",
      "QUERY TEXT:\n",
      "[Good first issue] DistilBERT PyTorch Integration tests\n",
      "\n",
      "The PyTorch implementation of the DistilBERT model currently has no integration tests. This is problematic as the behavior can diverge without  [...]\n",
      "\n",
      "==================================================\n",
      "Retrieved documents:\n",
      "==================================================\n",
      "TEXT:\n",
      "[Good first issue] DistilBERT TensorFlow Integration tests\n",
      "\n",
      "The TensorFlow implementation of the DistilBERT model currently has no integration tests. This is problematic as the behavior can diverge wi [...]\n",
      "SCORE: 5.38\n",
      "LABELS: ['tensorflow or tf']\n",
      "==================================================\n",
      "TEXT:\n",
      "[Good first issue] ALBERT PyTorch Integration tests\n",
      "\n",
      "The PyTorch implementation of the ALBERT model currently has no integration tests. This is problematic as the behavior can diverge without being no [...]\n",
      "SCORE: 15.89\n",
      "LABELS: ['pytorch']\n",
      "==================================================\n",
      "TEXT:\n",
      "[Good first issue] LXMERT PyTorch Integration tests\n",
      "\n",
      "The PyTorch implementation of the LXMERT model currently has no integration tests. This is problematic as the behavior can diverge without being no [...]\n",
      "SCORE: 20.15\n",
      "LABELS: ['pytorch']\n"
     ]
    }
   ],
   "source": [
    "l, k = 0, 3  # Select the first query and 3 nearest neighbors\n",
    "rn, nl = \"\\r\\n\\r\\n\", \"\\n\"  # Used to remove newlines in text for compact display\n",
    "\n",
    "query = np.array(embs_valid[i]['embedding'], dtype=np.float32)\n",
    "scores, samples = embs_train.get_nearest_examples('embedding', query, k=k)\n",
    "\n",
    "print(f'QUERY LABELS: {embs_valid[i][\"labels\"]}')\n",
    "print(f'QUERY TEXT:\\n{embs_valid[i][\"text\"][:200].replace(rn, nl)} [...]\\n')\n",
    "print('=' * 50)\n",
    "print('Retrieved documents:')\n",
    "for score, label, text in zip(scores, samples['labels'], samples['text']):\n",
    "    print('=' * 50)\n",
    "    print(f'TEXT:\\n{text[:200].replace(rn, nl)} [...]')\n",
    "    print(f'SCORE: {score:.2f}')\n",
    "    print(f'LABELS: {label}')"
   ]
  },
  {
   "cell_type": "code",
   "execution_count": 77,
   "id": "ddee5a2b",
   "metadata": {},
   "outputs": [],
   "source": [
    "def get_sample_preds(sample, m):\n",
    "    # sample: dict with keys 'text', 'label_id'\n",
    "    # each value: array of size 'topk'\n",
    "    # in case of labels: it's a 1-hot vector\n",
    "    return (np.sum(sample['label_ids'], axis=0) >= m).astype(int)\n",
    "\n",
    "def find_best_k_m(ds_train, valid_queries, valid_labels, max_k=17):\n",
    "    # valid_queries: nparray shape: (n queries, embedding size)\n",
    "    # valid_labels: nparray shape: (n queries, label as a vector)\n",
    "    max_k = min(len(ds_train), max_k)\n",
    "    perf_micro = np.zeros((max_k, max_k))\n",
    "    perf_macro = np.zeros((max_k, max_k))\n",
    "    for k in range(1, max_k):\n",
    "        for m in range(1, k + 1):\n",
    "            _, samples = ds_train.get_nearest_examples_batch('embedding', valid_queries, k=k)\n",
    "            y_pred = np.array([get_sample_preds(s, m) for s in samples])\n",
    "            clf_report = classification_report(valid_labels, y_pred, target_names=mlb.classes_,\n",
    "                                              zero_division=0, output_dict=True)\n",
    "            perf_micro[k, m] = clf_report['micro avg']['f1-score']\n",
    "            perf_macro[k, m] = clf_report['macro avg']['f1-score']\n",
    "    return perf_micro, perf_macro"
   ]
  },
  {
   "cell_type": "code",
   "execution_count": 78,
   "id": "dabd2637",
   "metadata": {},
   "outputs": [
    {
     "data": {
      "image/png": "[encoded data removed]",
      "text/plain": [
       "<Figure size 720x252 with 2 Axes>"
      ]
     },
     "metadata": {
      "needs_background": "light"
     },
     "output_type": "display_data"
    }
   ],
   "source": [
    "valid_labels = np.array(embs_valid.select([0, 1])['label_ids'])\n",
    "valid_queries = np.array(embs_valid.select([0, 1])['embedding'], dtype=np.float32)\n",
    "perf_micro, perf_macro = find_best_k_m(embs_train, valid_queries, valid_labels)\n",
    "\n",
    "fig, (ax0, ax1) = plt.subplots(1, 2, figsize=(10, 3.5), sharey=True)\n",
    "ax0.imshow(perf_micro)\n",
    "ax1.imshow(perf_macro)\n",
    "\n",
    "ax0.set_title('micro_scores')\n",
    "ax0.set_ylabel('k')\n",
    "ax1.set_title('macro scores')\n",
    "for ax in [ax0, ax1]:\n",
    "    ax.set_xlim([0.5, 17 -0.5])\n",
    "    ax.set_ylim([17 - 0.5, 0.5])\n",
    "    ax.set_xlabel('m')\n",
    "plt.show()"
   ]
  },
  {
   "cell_type": "code",
   "execution_count": 81,
   "id": "3cec90af",
   "metadata": {},
   "outputs": [
    {
     "name": "stdout",
     "output_type": "stream",
     "text": [
      "Best k: 4, best m: 2\n"
     ]
    }
   ],
   "source": [
    "k, m = np.unravel_index(perf_micro.argmax(), perf_micro.shape)\n",
    "print(f'Best k: {k}, best m: {m}')"
   ]
  },
  {
   "cell_type": "code",
   "execution_count": 9,
   "id": "2d2159fb",
   "metadata": {},
   "outputs": [
    {
     "data": {
      "application/vnd.jupyter.widget-view+json": {
       "model_id": "e941d5cea7374b2cadbce7bbb3370d87",
       "version_major": 2,
       "version_minor": 0
      },
      "text/plain": [
       "  0%|          | 0/1 [00:00<?, ?it/s]"
      ]
     },
     "metadata": {},
     "output_type": "display_data"
    },
    {
     "data": {
      "application/vnd.jupyter.widget-view+json": {
       "model_id": "c59a3e44b0fe430591a109e409149ab0",
       "version_major": 2,
       "version_minor": 0
      },
      "text/plain": [
       "  0%|          | 0/1 [00:00<?, ?it/s]"
      ]
     },
     "metadata": {},
     "output_type": "display_data"
    },
    {
     "data": {
      "application/vnd.jupyter.widget-view+json": {
       "model_id": "d219c838f6064cbeac2da61b8a44e172",
       "version_major": 2,
       "version_minor": 0
      },
      "text/plain": [
       "  0%|          | 0/1 [00:00<?, ?it/s]"
      ]
     },
     "metadata": {},
     "output_type": "display_data"
    },
    {
     "data": {
      "application/vnd.jupyter.widget-view+json": {
       "model_id": "71079b81e4de4a3c8d297543670a3ac0",
       "version_major": 2,
       "version_minor": 0
      },
      "text/plain": [
       "  0%|          | 0/1 [00:00<?, ?it/s]"
      ]
     },
     "metadata": {},
     "output_type": "display_data"
    },
    {
     "data": {
      "application/vnd.jupyter.widget-view+json": {
       "model_id": "5eac107579034330bb8b8e3d33011ef0",
       "version_major": 2,
       "version_minor": 0
      },
      "text/plain": [
       "  0%|          | 0/1 [00:00<?, ?it/s]"
      ]
     },
     "metadata": {},
     "output_type": "display_data"
    },
    {
     "data": {
      "application/vnd.jupyter.widget-view+json": {
       "model_id": "76f66af5b0c14a4e87cfaf3969f4465b",
       "version_major": 2,
       "version_minor": 0
      },
      "text/plain": [
       "  0%|          | 0/1 [00:00<?, ?it/s]"
      ]
     },
     "metadata": {},
     "output_type": "display_data"
    }
   ],
   "source": [
    "embs_train.drop_index('embedding')\n",
    "test_labels = np.array(embs_test['label_ids'])\n",
    "test_queries = np.array(embs_test['embedding'], dtype=np.float32)\n",
    "\n",
    "for train_slice in train_slices:\n",
    "    # Create a Faiss index from training slice\n",
    "    embs_train_tmp = embs_train.select(train_slice)\n",
    "    embs_train_tmp.add_faiss_index('embedding')\n",
    "    # Get best k, m values with validation set\n",
    "    perf_micro, _ = find_best_k_m(embs_train_tmp, valid_queries, valid_labels)\n",
    "    k, m = np.unravel_index(perf_micro.argmax(), perf_micro.shape)\n",
    "    # Get predictions on test set\n",
    "    _, samples = embs_train_tmp.get_nearest_examples_batch(\n",
    "        'embedding', test_queries, k=int(k)\n",
    "    )\n",
    "    y_pred = np.array([get_sample_preds(s, m) for s in samples])\n",
    "    # Evaluate predictions\n",
    "    clf_report = classification_report(\n",
    "        test_labels, y_pred, target_names=mlb.classes_, zero_division=0, output_dict=True\n",
    "    )\n",
    "    macro_scores['Embedding'].append(clf_report['macro avg']['f1-score'])\n",
    "    micro_scores['Embedding'].append(clf_report['micro avg']['f1-score'])\n",
    "    "
   ]
  },
  {
   "cell_type": "code",
   "execution_count": 10,
   "id": "a0cac651",
   "metadata": {},
   "outputs": [
    {
     "data": {
      "image/png": "[encoded data removed]",
      "text/plain": [
       "<Figure size 720x288 with 2 Axes>"
      ]
     },
     "metadata": {
      "needs_background": "light"
     },
     "output_type": "display_data"
    }
   ],
   "source": [
    "plot_metrics(micro_scores, macro_scores, train_samples, 'Embedding')"
   ]
  },
  {
   "cell_type": "markdown",
   "id": "a91fa99d",
   "metadata": {},
   "source": [
    "# p284, Fine-Tuning a Vanilla Transformer"
   ]
  },
  {
   "cell_type": "code",
   "execution_count": 10,
   "id": "cd694da5",
   "metadata": {},
   "outputs": [
    {
     "data": {
      "application/vnd.jupyter.widget-view+json": {
       "model_id": "745d93f58e294dd68c81066676335e8e",
       "version_major": 2,
       "version_minor": 0
      },
      "text/plain": [
       "  0%|          | 0/1 [00:00<?, ?ba/s]"
      ]
     },
     "metadata": {},
     "output_type": "display_data"
    },
    {
     "data": {
      "application/vnd.jupyter.widget-view+json": {
       "model_id": "6a0ce74095cc4c92995be6173df641bc",
       "version_major": 2,
       "version_minor": 0
      },
      "text/plain": [
       "  0%|          | 0/1 [00:00<?, ?ba/s]"
      ]
     },
     "metadata": {},
     "output_type": "display_data"
    },
    {
     "data": {
      "application/vnd.jupyter.widget-view+json": {
       "model_id": "509e23bcb1a74c139cc8bce6f51cc2f5",
       "version_major": 2,
       "version_minor": 0
      },
      "text/plain": [
       "  0%|          | 0/1 [00:00<?, ?ba/s]"
      ]
     },
     "metadata": {},
     "output_type": "display_data"
    },
    {
     "data": {
      "application/vnd.jupyter.widget-view+json": {
       "model_id": "216ce5f3423841128fd246c3ee80e6c2",
       "version_major": 2,
       "version_minor": 0
      },
      "text/plain": [
       "  0%|          | 0/10 [00:00<?, ?ba/s]"
      ]
     },
     "metadata": {},
     "output_type": "display_data"
    }
   ],
   "source": [
    "model_ckpt = 'bert-base-uncased'\n",
    "tokenizer = AutoTokenizer.from_pretrained(model_ckpt)\n",
    "\n",
    "def tokenize(batch):\n",
    "    return tokenizer(batch['text'], truncation=True, max_length=128)\n",
    "\n",
    "ds_enc = ds.map(tokenize, batched=True)\n",
    "ds_enc = ds_enc.remove_columns(['labels', 'text'])"
   ]
  },
  {
   "cell_type": "code",
   "execution_count": 17,
   "id": "401c83de",
   "metadata": {},
   "outputs": [
    {
     "data": {
      "application/vnd.jupyter.widget-view+json": {
       "model_id": "2a8acedebaf947a1a3f18c14b27fe4c3",
       "version_major": 2,
       "version_minor": 0
      },
      "text/plain": [
       "  0%|          | 0/223 [00:00<?, ?ex/s]"
      ]
     },
     "metadata": {},
     "output_type": "display_data"
    },
    {
     "data": {
      "application/vnd.jupyter.widget-view+json": {
       "model_id": "4da9ed9b1821455e9b135ee4c6a61c6c",
       "version_major": 2,
       "version_minor": 0
      },
      "text/plain": [
       "  0%|          | 0/106 [00:00<?, ?ex/s]"
      ]
     },
     "metadata": {},
     "output_type": "display_data"
    },
    {
     "data": {
      "application/vnd.jupyter.widget-view+json": {
       "model_id": "d8485960059f4ce09856c5f25cea9cd2",
       "version_major": 2,
       "version_minor": 0
      },
      "text/plain": [
       "  0%|          | 0/111 [00:00<?, ?ex/s]"
      ]
     },
     "metadata": {},
     "output_type": "display_data"
    },
    {
     "data": {
      "application/vnd.jupyter.widget-view+json": {
       "model_id": "9481f98307b8488bb45d55edf89d1625",
       "version_major": 2,
       "version_minor": 0
      },
      "text/plain": [
       "  0%|          | 0/9303 [00:00<?, ?ex/s]"
      ]
     },
     "metadata": {},
     "output_type": "display_data"
    }
   ],
   "source": [
    "ds_enc.set_format('torch')\n",
    "ds_enc = ds_enc.map(lambda x: {'label_ids_f': x['label_ids'].to(torch.float)},\n",
    "                   remove_columns=['label_ids'])\n",
    "ds_enc = ds_enc.rename_column('label_ids_f', 'label_ids')"
   ]
  },
  {
   "cell_type": "code",
   "execution_count": 11,
   "id": "8b32dbf8",
   "metadata": {},
   "outputs": [],
   "source": [
    "training_args_fine_tune = TrainingArguments(\n",
    "    output_dir='./ch09_fine_tune', num_train_epochs=20, learning_rate=3e-5,\n",
    "    lr_scheduler_type='constant', per_device_train_batch_size=4,\n",
    "    per_device_eval_batch_size=32, weight_decay=0.0,\n",
    "    evaluation_strategy='epoch', save_strategy='epoch', logging_strategy='epoch',\n",
    "    load_best_model_at_end=True, metric_for_best_model='micro f1',\n",
    "    save_total_limit=1, log_level='error'\n",
    ")"
   ]
  },
  {
   "cell_type": "code",
   "execution_count": 33,
   "id": "5fac62ad",
   "metadata": {},
   "outputs": [],
   "source": [
    "def compute_metrics(pred):\n",
    "    y_true = pred.label_ids\n",
    "    y_pred = sigmoid(pred.predictions)\n",
    "    y_pred = (y_pred > 0.5).astype(float)\n",
    "    \n",
    "    clf_dict = classification_report(y_true, y_pred, target_names=all_labels,\n",
    "                                    zero_division=0, output_dict=True)\n",
    "    return {'micro f1': clf_dict['micro avg']['f1-score'],\n",
    "           'macro f1': clf_dict['macro avg']['f1-score'],}"
   ]
  },
  {
   "cell_type": "code",
   "execution_count": null,
   "id": "956d5e2d",
   "metadata": {},
   "outputs": [],
   "source": [
    "config = AutoConfig.from_pretrained(model_ckpt)\n",
    "config.num_labels = len(all_labels)\n",
    "config.problem_type = 'multi_label_classification'\n",
    "\n",
    "for train_slice in train_slices:\n",
    "    model = AutoModelForSequenceClassification.from_pretrained(model_ckpt, config=config)\n",
    "    \n",
    "    trainer = Trainer(\n",
    "        model=model, tokenizer=tokenizer,\n",
    "        args=training_args_fine_tune,\n",
    "        compute_metrics=compute_metrics,\n",
    "        train_dataset=ds_enc['train'].select(train_slice),\n",
    "        eval_dataset=ds_enc['valid']\n",
    "    )\n",
    "    \n",
    "    trainer.train()\n",
    "    pred = trainer.predict(ds_enc['test'])\n",
    "    metrics = compute_metrics(pred)\n",
    "    macro_scores['Fine-tune (vanilla)'].append(metrics['macro f1'])\n",
    "    micro_scores['Fine-tune (vanilla)'].append(metrics['micro f1'])"
   ]
  },
  {
   "cell_type": "code",
   "execution_count": 23,
   "id": "23b8f6b7",
   "metadata": {},
   "outputs": [
    {
     "data": {
      "image/png": "[encoded data removed]",
      "text/plain": [
       "<Figure size 720x288 with 2 Axes>"
      ]
     },
     "metadata": {
      "needs_background": "light"
     },
     "output_type": "display_data"
    }
   ],
   "source": [
    "plot_metrics(micro_scores, macro_scores, train_samples, 'Fine-tune (vanilla)')"
   ]
  },
  {
   "cell_type": "markdown",
   "id": "60730bdf",
   "metadata": {},
   "source": [
    "# p289, Fine-Tuning a Language Model"
   ]
  },
  {
   "cell_type": "code",
   "execution_count": 24,
   "id": "9b48a411",
   "metadata": {},
   "outputs": [
    {
     "data": {
      "application/vnd.jupyter.widget-view+json": {
       "model_id": "d9bb4275bb844b9e81565d8e8a50b2cb",
       "version_major": 2,
       "version_minor": 0
      },
      "text/plain": [
       "  0%|          | 0/1 [00:00<?, ?ba/s]"
      ]
     },
     "metadata": {},
     "output_type": "display_data"
    },
    {
     "data": {
      "application/vnd.jupyter.widget-view+json": {
       "model_id": "71cf608cf78d4f2d92fdd8b5445f37c6",
       "version_major": 2,
       "version_minor": 0
      },
      "text/plain": [
       "  0%|          | 0/1 [00:00<?, ?ba/s]"
      ]
     },
     "metadata": {},
     "output_type": "display_data"
    },
    {
     "data": {
      "application/vnd.jupyter.widget-view+json": {
       "model_id": "5ed08acae2c744848e865b905f324dd2",
       "version_major": 2,
       "version_minor": 0
      },
      "text/plain": [
       "  0%|          | 0/1 [00:00<?, ?ba/s]"
      ]
     },
     "metadata": {},
     "output_type": "display_data"
    },
    {
     "data": {
      "application/vnd.jupyter.widget-view+json": {
       "model_id": "afe7e06140ff4b3cb260e11cf213847a",
       "version_major": 2,
       "version_minor": 0
      },
      "text/plain": [
       "  0%|          | 0/10 [00:00<?, ?ba/s]"
      ]
     },
     "metadata": {},
     "output_type": "display_data"
    }
   ],
   "source": [
    "def tokenize(batch):\n",
    "    return tokenizer(batch['text'], truncation=True,\n",
    "                    max_length=128, return_special_tokens_mask=True)\n",
    "\n",
    "ds_mlm = ds.map(tokenize, batched=True)\n",
    "ds_mlm = ds_mlm.remove_columns(['labels', 'text', 'label_ids'])"
   ]
  },
  {
   "cell_type": "code",
   "execution_count": 26,
   "id": "3ad30c44",
   "metadata": {},
   "outputs": [],
   "source": [
    "data_collator = DataCollatorForLanguageModeling(tokenizer=tokenizer, mlm_probability=0.15)"
   ]
  },
  {
   "cell_type": "code",
   "execution_count": 38,
   "id": "04a680e1",
   "metadata": {},
   "outputs": [
    {
     "data": {
      "text/html": [
       "<div>\n",
       "<style scoped>\n",
       "    .dataframe tbody tr th:only-of-type {\n",
       "        vertical-align: middle;\n",
       "    }\n",
       "\n",
       "    .dataframe tbody tr th {\n",
       "        vertical-align: top;\n",
       "    }\n",
       "\n",
       "    .dataframe thead th {\n",
       "        text-align: right;\n",
       "    }\n",
       "</style>\n",
       "<table border=\"1\" class=\"dataframe\">\n",
       "  <thead>\n",
       "    <tr style=\"text-align: right;\">\n",
       "      <th></th>\n",
       "      <th>0</th>\n",
       "      <th>1</th>\n",
       "      <th>2</th>\n",
       "      <th>3</th>\n",
       "      <th>4</th>\n",
       "      <th>5</th>\n",
       "    </tr>\n",
       "  </thead>\n",
       "  <tbody>\n",
       "    <tr>\n",
       "      <th>Original tokens</th>\n",
       "      <td>[CLS]</td>\n",
       "      <td>transformers</td>\n",
       "      <td>are</td>\n",
       "      <td>awesome</td>\n",
       "      <td>!</td>\n",
       "      <td>[SEP]</td>\n",
       "    </tr>\n",
       "    <tr>\n",
       "      <th>Masked tokens</th>\n",
       "      <td>[CLS]</td>\n",
       "      <td>transformers</td>\n",
       "      <td>are</td>\n",
       "      <td>awesome</td>\n",
       "      <td>[MASK]</td>\n",
       "      <td>[MASK]</td>\n",
       "    </tr>\n",
       "    <tr>\n",
       "      <th>Original input_ids</th>\n",
       "      <td>101</td>\n",
       "      <td>19081</td>\n",
       "      <td>2024</td>\n",
       "      <td>12476</td>\n",
       "      <td>999</td>\n",
       "      <td>102</td>\n",
       "    </tr>\n",
       "    <tr>\n",
       "      <th>Masked input ids</th>\n",
       "      <td>101</td>\n",
       "      <td>19081</td>\n",
       "      <td>2024</td>\n",
       "      <td>12476</td>\n",
       "      <td>103</td>\n",
       "      <td>103</td>\n",
       "    </tr>\n",
       "    <tr>\n",
       "      <th>Labels</th>\n",
       "      <td>-100</td>\n",
       "      <td>-100</td>\n",
       "      <td>-100</td>\n",
       "      <td>-100</td>\n",
       "      <td>999</td>\n",
       "      <td>102</td>\n",
       "    </tr>\n",
       "  </tbody>\n",
       "</table>\n",
       "</div>"
      ],
      "text/plain": [
       "                        0             1     2        3       4       5\n",
       "Original tokens     [CLS]  transformers   are  awesome       !   [SEP]\n",
       "Masked tokens       [CLS]  transformers   are  awesome  [MASK]  [MASK]\n",
       "Original input_ids    101         19081  2024    12476     999     102\n",
       "Masked input ids      101         19081  2024    12476     103     103\n",
       "Labels               -100          -100  -100     -100     999     102"
      ]
     },
     "execution_count": 38,
     "metadata": {},
     "output_type": "execute_result"
    }
   ],
   "source": [
    "transformers.set_seed(3)\n",
    "data_collator.return_tensors = 'np'\n",
    "inputs = tokenizer('Transformers are awesome!', return_tensors='np')\n",
    "outputs = data_collator([{'input_ids': inputs['input_ids']}])\n",
    "\n",
    "pd.DataFrame({\n",
    "    'Original tokens': tokenizer.convert_ids_to_tokens(inputs['input_ids'][0]),\n",
    "    'Masked tokens': tokenizer.convert_ids_to_tokens(outputs['input_ids'][0][0]),\n",
    "    'Original input_ids': inputs['input_ids'][0],\n",
    "    'Masked input ids': outputs['input_ids'][0][0],\n",
    "    'Labels': outputs['labels'][0][0]\n",
    "}).T"
   ]
  },
  {
   "cell_type": "code",
   "execution_count": 39,
   "id": "5eb2e3fc",
   "metadata": {},
   "outputs": [],
   "source": [
    "data_collator.return_tensors = 'pt'"
   ]
  },
  {
   "cell_type": "code",
   "execution_count": 42,
   "id": "2e7fa2fa",
   "metadata": {},
   "outputs": [
    {
     "name": "stderr",
     "output_type": "stream",
     "text": [
      "Cloning https://huggingface.co/olpa/bert-base-uncased-issues-128 into local empty directory.\n",
      "/home/olpa/.local/lib/python3.8/site-packages/transformers/optimization.py:306: FutureWarning: This implementation of AdamW is deprecated and will be removed in a future version. Use the PyTorch implementation torch.optim.AdamW instead, or set `no_deprecation_warning=True` to disable this warning\n",
      "  warnings.warn(\n"
     ]
    },
    {
     "name": "stdout",
     "output_type": "stream",
     "text": [
      "{'loss': 1.9863, 'learning_rate': 4.6875e-05, 'epoch': 1.0}\n",
      "{'eval_loss': 1.5916668176651, 'eval_runtime': 22.4617, 'eval_samples_per_second': 9.928, 'eval_steps_per_second': 0.312, 'epoch': 1.0}\n",
      "{'loss': 1.579, 'learning_rate': 4.375e-05, 'epoch': 2.0}\n",
      "{'eval_loss': 1.4667582511901855, 'eval_runtime': 22.5313, 'eval_samples_per_second': 9.897, 'eval_steps_per_second': 0.311, 'epoch': 2.0}\n",
      "{'loss': 1.4305, 'learning_rate': 4.0625000000000005e-05, 'epoch': 3.0}\n",
      "{'eval_loss': 1.394714117050171, 'eval_runtime': 22.6681, 'eval_samples_per_second': 9.838, 'eval_steps_per_second': 0.309, 'epoch': 3.0}\n",
      "{'loss': 1.3367, 'learning_rate': 3.7500000000000003e-05, 'epoch': 4.0}\n",
      "{'eval_loss': 1.2889429330825806, 'eval_runtime': 22.7177, 'eval_samples_per_second': 9.816, 'eval_steps_per_second': 0.308, 'epoch': 4.0}\n",
      "{'loss': 1.2748, 'learning_rate': 3.4375e-05, 'epoch': 5.0}\n",
      "{'eval_loss': 1.3376905918121338, 'eval_runtime': 22.7181, 'eval_samples_per_second': 9.816, 'eval_steps_per_second': 0.308, 'epoch': 5.0}\n",
      "{'loss': 1.2184, 'learning_rate': 3.125e-05, 'epoch': 6.0}\n",
      "{'eval_loss': 1.3370468616485596, 'eval_runtime': 22.5627, 'eval_samples_per_second': 9.884, 'eval_steps_per_second': 0.31, 'epoch': 6.0}\n",
      "{'loss': 1.1708, 'learning_rate': 2.8125000000000003e-05, 'epoch': 7.0}\n",
      "{'eval_loss': 1.2594505548477173, 'eval_runtime': 22.7291, 'eval_samples_per_second': 9.811, 'eval_steps_per_second': 0.308, 'epoch': 7.0}\n",
      "{'loss': 1.1309, 'learning_rate': 2.5e-05, 'epoch': 8.0}\n",
      "{'eval_loss': 1.3043829202651978, 'eval_runtime': 22.7739, 'eval_samples_per_second': 9.792, 'eval_steps_per_second': 0.307, 'epoch': 8.0}\n",
      "{'loss': 1.0896, 'learning_rate': 2.1875e-05, 'epoch': 9.0}\n",
      "{'eval_loss': 1.2314256429672241, 'eval_runtime': 22.8689, 'eval_samples_per_second': 9.751, 'eval_steps_per_second': 0.306, 'epoch': 9.0}\n",
      "{'loss': 1.0614, 'learning_rate': 1.8750000000000002e-05, 'epoch': 10.0}\n",
      "{'eval_loss': 1.1698957681655884, 'eval_runtime': 23.1204, 'eval_samples_per_second': 9.645, 'eval_steps_per_second': 0.303, 'epoch': 10.0}\n",
      "{'loss': 1.0296, 'learning_rate': 1.5625e-05, 'epoch': 11.0}\n",
      "{'eval_loss': 1.20659601688385, 'eval_runtime': 23.3334, 'eval_samples_per_second': 9.557, 'eval_steps_per_second': 0.3, 'epoch': 11.0}\n",
      "{'loss': 0.9896, 'learning_rate': 1.25e-05, 'epoch': 12.0}\n",
      "{'eval_loss': 1.2158324718475342, 'eval_runtime': 32.2757, 'eval_samples_per_second': 6.909, 'eval_steps_per_second': 0.217, 'epoch': 12.0}\n",
      "{'loss': 0.983, 'learning_rate': 9.375000000000001e-06, 'epoch': 13.0}\n",
      "{'eval_loss': 1.1288866996765137, 'eval_runtime': 23.2538, 'eval_samples_per_second': 9.59, 'eval_steps_per_second': 0.301, 'epoch': 13.0}\n",
      "{'loss': 0.9619, 'learning_rate': 6.25e-06, 'epoch': 14.0}\n",
      "{'eval_loss': 1.1426513195037842, 'eval_runtime': 23.2873, 'eval_samples_per_second': 9.576, 'eval_steps_per_second': 0.301, 'epoch': 14.0}\n",
      "{'loss': 0.9387, 'learning_rate': 3.125e-06, 'epoch': 15.0}\n",
      "{'eval_loss': 1.0766865015029907, 'eval_runtime': 23.6307, 'eval_samples_per_second': 9.437, 'eval_steps_per_second': 0.296, 'epoch': 15.0}\n",
      "{'loss': 0.9205, 'learning_rate': 0.0, 'epoch': 16.0}\n",
      "{'eval_loss': 1.1389039754867554, 'eval_runtime': 23.4385, 'eval_samples_per_second': 9.514, 'eval_steps_per_second': 0.299, 'epoch': 16.0}\n",
      "{'train_runtime': 57001.3359, 'train_samples_per_second': 2.611, 'train_steps_per_second': 0.326, 'train_loss': 1.1938592479440127, 'epoch': 16.0}\n"
     ]
    },
    {
     "data": {
      "text/plain": [
       "TrainOutput(global_step=18608, training_loss=1.1938592479440127, metrics={'train_runtime': 57001.3359, 'train_samples_per_second': 2.611, 'train_steps_per_second': 0.326, 'train_loss': 1.1938592479440127, 'epoch': 16.0})"
      ]
     },
     "execution_count": 42,
     "metadata": {},
     "output_type": "execute_result"
    }
   ],
   "source": [
    "training_args = TrainingArguments(\n",
    "    output_dir=f'{model_ckpt}-issues-128', per_device_eval_batch_size=32,\n",
    "    logging_strategy='epoch', evaluation_strategy='epoch', save_strategy='no',\n",
    "    num_train_epochs=16, push_to_hub=True, log_level='error', report_to='none'\n",
    ")\n",
    "\n",
    "trainer = Trainer(\n",
    "    model=AutoModelForMaskedLM.from_pretrained('bert-base-uncased'),\n",
    "    tokenizer=tokenizer, args=training_args, data_collator=data_collator,\n",
    "    train_dataset=ds_mlm['unsup'], eval_dataset=ds_mlm['train']\n",
    ")\n",
    "\n",
    "trainer.train()"
   ]
  },
  {
   "cell_type": "code",
   "execution_count": 44,
   "id": "79ff76f4",
   "metadata": {},
   "outputs": [
    {
     "name": "stderr",
     "output_type": "stream",
     "text": [
      "Several commits (2) will be pushed upstream.\n",
      "The progress bars may be unreliable.\n"
     ]
    },
    {
     "data": {
      "application/vnd.jupyter.widget-view+json": {
       "model_id": "96f3032bb0944b97ab343ddec504f611",
       "version_major": 2,
       "version_minor": 0
      },
      "text/plain": [
       "Upload file pytorch_model.bin:   0%|          | 32.0k/418M [00:00<?, ?B/s]"
      ]
     },
     "metadata": {},
     "output_type": "display_data"
    },
    {
     "name": "stderr",
     "output_type": "stream",
     "text": [
      "remote: Scanning LFS files for validity, may be slow...        \n",
      "remote: LFS file scan complete.        \n",
      "To https://huggingface.co/olpa/bert-base-uncased-issues-128\n",
      "   21a7835..cb882cf  main -> main\n",
      "\n"
     ]
    }
   ],
   "source": [
    "trainer.push_to_hub('Training complete!')"
   ]
  },
  {
   "cell_type": "code",
   "execution_count": 16,
   "id": "4b258dff",
   "metadata": {},
   "outputs": [],
   "source": [
    "# Skip: print loss diagram: session was killed and `trainer` was lost"
   ]
  },
  {
   "cell_type": "markdown",
   "id": "d06a66d2",
   "metadata": {},
   "source": [
    "# p293, Fine-Tuning a Classifier"
   ]
  },
  {
   "cell_type": "code",
   "execution_count": 17,
   "id": "fbb237b5",
   "metadata": {},
   "outputs": [],
   "source": [
    "model_ckpt = f'{model_ckpt}-issues-128'\n",
    "config = AutoConfig.from_pretrained(model_ckpt)\n",
    "config.num_Labels = len(all_labels)\n",
    "config.problem_type = 'multi_label_classification'"
   ]
  },
  {
   "cell_type": "code",
   "execution_count": null,
   "id": "ecadad62",
   "metadata": {},
   "outputs": [],
   "source": [
    "# The rest went wrong, but I don't want to investigate why"
   ]
  },
  {
   "cell_type": "code",
   "execution_count": null,
   "id": "abf92f33",
   "metadata": {},
   "outputs": [],
   "source": [
    "for train_slice in train_slices:\n",
    "    model = AutoModelForSequenceClassification.from_pretrained(model_ckpt, config=config)\n",
    "    \n",
    "    trainer = Trainer(\n",
    "        model=model,\n",
    "        tokenizer=tokenizer,\n",
    "        args=training_args_fine_tune,\n",
    "        compute_metrics=compute_metrics,\n",
    "        train_dataset=ds_enc['train'].select(train_slice),\n",
    "        eval_dataset=ds_enc['valid']\n",
    "    )\n",
    "    \n",
    "    print('*** FIXME trainer:', trainer)\n",
    "    \n",
    "    trainer.train()\n",
    "    pred = trainer.predict(ds_enc['test'])\n",
    "    metrics = compute_metrics(äpre)\n",
    "    # DA refers to domain adaptation\n",
    "    macro_scores['Fine-tune (DA)'].append(metrics['macro f1'])\n",
    "    micro_scores['Fine-tune (DA)'].append(metrics['micro f1'])"
   ]
  },
  {
   "cell_type": "code",
   "execution_count": null,
   "id": "f2321ff5",
   "metadata": {},
   "outputs": [],
   "source": []
  },
  {
   "cell_type": "code",
   "execution_count": null,
   "id": "8a1c0447",
   "metadata": {},
   "outputs": [],
   "source": []
  },
  {
   "cell_type": "code",
   "execution_count": null,
   "id": "30c35e4a",
   "metadata": {},
   "outputs": [],
   "source": []
  },
  {
   "cell_type": "code",
   "execution_count": null,
   "id": "be0664ab",
   "metadata": {},
   "outputs": [],
   "source": []
  }
 ],
 "metadata": {
  "kernelspec": {
   "display_name": "Python 3",
   "language": "python",
   "name": "python3"
  },
  "language_info": {
   "codemirror_mode": {
    "name": "ipython",
    "version": 3
   },
   "file_extension": ".py",
   "mimetype": "text/x-python",
   "name": "python",
   "nbconvert_exporter": "python",
   "pygments_lexer": "ipython3",
   "version": "3.8.10"
  }
 },
 "nbformat": 4,
 "nbformat_minor": 5
}
